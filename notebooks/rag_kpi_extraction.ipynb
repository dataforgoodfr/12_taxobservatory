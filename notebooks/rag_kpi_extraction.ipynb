{
 "cells": [
  {
   "cell_type": "code",
   "execution_count": 1,
   "metadata": {},
   "outputs": [],
   "source": [
    "import pandas as pd\n",
    "import langchain\n",
    "import numpy as np\n",
    "import os\n",
    "import json\n",
    "\n",
    "from langchain.document_loaders import DataFrameLoader\n",
    "from langchain.prompts import ChatPromptTemplate\n",
    "from langchain.schema.output_parser import StrOutputParser\n",
    "\n",
    "%load_ext autoreload\n",
    "%autoreload 2\n",
    "\n",
    "import sys\n",
    "sys.path.append('/home/alexis_cunin/12_taxobservatory')\n",
    "\n",
    "import country_by_country\n",
    "from country_by_country.rag_engine.llm import get_llm\n",
    "from country_by_country.rag_engine.rag import Extraction"
   ]
  },
  {
   "cell_type": "markdown",
   "metadata": {},
   "source": [
    "# 1. Build vectorstore\n",
    "---"
   ]
  },
  {
   "cell_type": "markdown",
   "metadata": {},
   "source": [
    "## Parse and create vectorstore"
   ]
  },
  {
   "cell_type": "markdown",
   "metadata": {},
   "source": [
    "##### Create vectorstore"
   ]
  },
  {
   "cell_type": "code",
   "execution_count": 2,
   "metadata": {},
   "outputs": [
    {
     "data": {
      "text/html": [
       "<div>\n",
       "<style scoped>\n",
       "    .dataframe tbody tr th:only-of-type {\n",
       "        vertical-align: middle;\n",
       "    }\n",
       "\n",
       "    .dataframe tbody tr th {\n",
       "        vertical-align: top;\n",
       "    }\n",
       "\n",
       "    .dataframe thead th {\n",
       "        text-align: right;\n",
       "    }\n",
       "</style>\n",
       "<table border=\"1\" class=\"dataframe\">\n",
       "  <thead>\n",
       "    <tr style=\"text-align: right;\">\n",
       "      <th></th>\n",
       "      <th>page_num</th>\n",
       "      <th>md_table</th>\n",
       "    </tr>\n",
       "  </thead>\n",
       "  <tbody>\n",
       "    <tr>\n",
       "      <th>0</th>\n",
       "      <td>24</td>\n",
       "      <td>|    | income and expense items:              ...</td>\n",
       "    </tr>\n",
       "    <tr>\n",
       "      <th>1</th>\n",
       "      <td>23</td>\n",
       "      <td>|    | Tax Jurisdiction   | 8 Name U          ...</td>\n",
       "    </tr>\n",
       "    <tr>\n",
       "      <th>2</th>\n",
       "      <td>3</td>\n",
       "      <td>|    | Revenues                      | Tangibl...</td>\n",
       "    </tr>\n",
       "    <tr>\n",
       "      <th>3</th>\n",
       "      <td>21</td>\n",
       "      <td>|    | Tax Jurisdiction   | Name              ...</td>\n",
       "    </tr>\n",
       "    <tr>\n",
       "      <th>4</th>\n",
       "      <td>10</td>\n",
       "      <td>|    | Tax Jurisdiction   | 8 Name H          ...</td>\n",
       "    </tr>\n",
       "  </tbody>\n",
       "</table>\n",
       "</div>"
      ],
      "text/plain": [
       "   page_num                                           md_table\n",
       "0        24  |    | income and expense items:              ...\n",
       "1        23  |    | Tax Jurisdiction   | 8 Name U          ...\n",
       "2         3  |    | Revenues                      | Tangibl...\n",
       "3        21  |    | Tax Jurisdiction   | Name              ...\n",
       "4        10  |    | Tax Jurisdiction   | 8 Name H          ..."
      ]
     },
     "execution_count": 2,
     "metadata": {},
     "output_type": "execute_result"
    }
   ],
   "source": [
    "file_path = '/home/alexis_cunin/12_taxobservatory/data/AngloAmerican_2021_CbCR/tables_img/md_tables.xlsx'\n",
    "md_tables = pd.read_excel(file_path)\n",
    "md_tables.head()"
   ]
  },
  {
   "cell_type": "code",
   "execution_count": 3,
   "metadata": {},
   "outputs": [
    {
     "data": {
      "text/html": [
       "<div>\n",
       "<style scoped>\n",
       "    .dataframe tbody tr th:only-of-type {\n",
       "        vertical-align: middle;\n",
       "    }\n",
       "\n",
       "    .dataframe tbody tr th {\n",
       "        vertical-align: top;\n",
       "    }\n",
       "\n",
       "    .dataframe thead th {\n",
       "        text-align: right;\n",
       "    }\n",
       "</style>\n",
       "<table border=\"1\" class=\"dataframe\">\n",
       "  <thead>\n",
       "    <tr style=\"text-align: right;\">\n",
       "      <th></th>\n",
       "      <th>text</th>\n",
       "      <th>page</th>\n",
       "    </tr>\n",
       "  </thead>\n",
       "  <tbody>\n",
       "    <tr>\n",
       "      <th>0</th>\n",
       "      <td>|    | income and expense items:              ...</td>\n",
       "      <td>24</td>\n",
       "    </tr>\n",
       "    <tr>\n",
       "      <th>1</th>\n",
       "      <td>|    | Tax Jurisdiction   | 8 Name U          ...</td>\n",
       "      <td>23</td>\n",
       "    </tr>\n",
       "    <tr>\n",
       "      <th>2</th>\n",
       "      <td>|    | Revenues                      | Tangibl...</td>\n",
       "      <td>3</td>\n",
       "    </tr>\n",
       "    <tr>\n",
       "      <th>3</th>\n",
       "      <td>|    | Tax Jurisdiction   | Name              ...</td>\n",
       "      <td>21</td>\n",
       "    </tr>\n",
       "    <tr>\n",
       "      <th>4</th>\n",
       "      <td>|    | Tax Jurisdiction   | 8 Name H          ...</td>\n",
       "      <td>10</td>\n",
       "    </tr>\n",
       "  </tbody>\n",
       "</table>\n",
       "</div>"
      ],
      "text/plain": [
       "                                                text  page\n",
       "0  |    | income and expense items:              ...    24\n",
       "1  |    | Tax Jurisdiction   | 8 Name U          ...    23\n",
       "2  |    | Revenues                      | Tangibl...     3\n",
       "3  |    | Tax Jurisdiction   | Name              ...    21\n",
       "4  |    | Tax Jurisdiction   | 8 Name H          ...    10"
      ]
     },
     "execution_count": 3,
     "metadata": {},
     "output_type": "execute_result"
    }
   ],
   "source": [
    "df_tables = md_tables[['md_table', 'page_num']].rename(columns={\n",
    "    \"md_table\": \"text\",\n",
    "    \"page_num\": \"page\"\n",
    "})\n",
    "df_tables.head()"
   ]
  },
  {
   "cell_type": "markdown",
   "metadata": {},
   "source": [
    "## Table summarization"
   ]
  },
  {
   "cell_type": "code",
   "execution_count": 4,
   "metadata": {},
   "outputs": [],
   "source": [
    "table_loader = DataFrameLoader(df_tables, page_content_column=\"text\")\n",
    "tables = table_loader.load()"
   ]
  },
  {
   "cell_type": "code",
   "execution_count": 5,
   "metadata": {},
   "outputs": [
    {
     "name": "stderr",
     "output_type": "stream",
     "text": [
      "/home/alexis_cunin/anaconda3/envs/condataxobs/lib/python3.10/site-packages/tqdm/auto.py:21: TqdmWarning: IProgress not found. Please update jupyter and ipywidgets. See https://ipywidgets.readthedocs.io/en/stable/user_install.html\n",
      "  from .autonotebook import tqdm as notebook_tqdm\n"
     ]
    }
   ],
   "source": [
    "table_prompt_text = \"\"\"\n",
    "You are an assistant responsible for extracting information from markdown tables.\n",
    "Extract in a string all the key words and themes from the markdown table below, and add as many words from their lexical fields.\n",
    "\n",
    "Guidelines:\n",
    "- If country names are present in the table, list them all in the summary.\n",
    "- If financial KPIs are present in the table, list them all in the summary.\n",
    "\n",
    "Table: {element}\n",
    "Summary:\"\"\"\n",
    "prompt = ChatPromptTemplate.from_template(table_prompt_text)\n",
    "\n",
    "model = get_llm()\n",
    "table_summarize_chain = {\"element\": lambda x: x} | prompt | model | StrOutputParser()"
   ]
  },
  {
   "cell_type": "code",
   "execution_count": 6,
   "metadata": {},
   "outputs": [],
   "source": [
    "table_summaries = []\n",
    "validated_tables = []\n",
    "remaining_tables = [x for x in tables if x not in validated_tables]\n",
    "table_errors = []"
   ]
  },
  {
   "cell_type": "code",
   "execution_count": 7,
   "metadata": {},
   "outputs": [
    {
     "name": "stderr",
     "output_type": "stream",
     "text": [
      "  0%|          | 0/26 [00:00<?, ?it/s]"
     ]
    },
    {
     "name": "stderr",
     "output_type": "stream",
     "text": [
      "100%|██████████| 26/26 [00:42<00:00,  1.64s/it]\n"
     ]
    }
   ],
   "source": [
    "from tqdm.auto import tqdm\n",
    "import time\n",
    "\n",
    "for table in tqdm(tables):\n",
    "    try:\n",
    "        results = table_summarize_chain.invoke(table.page_content)\n",
    "        table_summaries.append(results)\n",
    "        validated_tables.append(table)\n",
    "    except Exception as e:\n",
    "        table_errors.append((table, str(e)))\n",
    "        print(f\"Error for text {table}: {e}\")\n",
    "        time.sleep(10)  # Wait 10 seconds before retrying"
   ]
  },
  {
   "cell_type": "code",
   "execution_count": 8,
   "metadata": {},
   "outputs": [
    {
     "name": "stdout",
     "output_type": "stream",
     "text": [
      "Summarized tables: 26\n",
      "Errors: 0\n"
     ]
    }
   ],
   "source": [
    "print(\"Summarized tables:\", len(validated_tables))\n",
    "print(\"Errors:\", len(table_errors))"
   ]
  },
  {
   "cell_type": "code",
   "execution_count": 9,
   "metadata": {},
   "outputs": [],
   "source": [
    "for table, error in table_errors:\n",
    "    print(error)"
   ]
  },
  {
   "cell_type": "code",
   "execution_count": 10,
   "metadata": {},
   "outputs": [
    {
     "data": {
      "text/plain": [
       "'Human: \\nYou are an assistant responsible for extracting information from markdown tables.\\nExtract in a string all the key words and themes from the markdown table below, and add as many words from their lexical fields.\\n\\nGuidelines:\\n- If country names are present in the table, list them all in the summary.\\n- If financial KPIs are present in the table, list them all in the summary.\\n\\nTable: |    | income and expense items:                                                                                                                                        | Main Business Activity(ies   |\\n|---:|:-----------------------------------------------------------------------------------------------------------------------------------------------------------------|:-----------------------------|\\n|  1 | The nature ofthe main business activity(ies) carried by the constituent entity in the relevant taxjurisdiction, by ticking one or more of the appropriate boxes: |                              |\\nSummary: |                                                                                                                                                                  |                              |\\n|    |                                                                                                                                                                  |                              |\\n|    |                                                                                                                                                                  |                              |\\n|    |                                                                                                                                                                  |                              |\\n|    |                                                                                                                                                                  |                              |\\n|    |                                                                '"
      ]
     },
     "execution_count": 10,
     "metadata": {},
     "output_type": "execute_result"
    }
   ],
   "source": [
    "table_summaries[0]"
   ]
  },
  {
   "cell_type": "code",
   "execution_count": 11,
   "metadata": {},
   "outputs": [
    {
     "data": {
      "text/html": [
       "<div>\n",
       "<style scoped>\n",
       "    .dataframe tbody tr th:only-of-type {\n",
       "        vertical-align: middle;\n",
       "    }\n",
       "\n",
       "    .dataframe tbody tr th {\n",
       "        vertical-align: top;\n",
       "    }\n",
       "\n",
       "    .dataframe thead th {\n",
       "        text-align: right;\n",
       "    }\n",
       "</style>\n",
       "<table border=\"1\" class=\"dataframe\">\n",
       "  <thead>\n",
       "    <tr style=\"text-align: right;\">\n",
       "      <th></th>\n",
       "      <th>text</th>\n",
       "      <th>page</th>\n",
       "      <th>summary</th>\n",
       "    </tr>\n",
       "  </thead>\n",
       "  <tbody>\n",
       "    <tr>\n",
       "      <th>0</th>\n",
       "      <td>|    | income and expense items:              ...</td>\n",
       "      <td>24</td>\n",
       "      <td>Human: \\nYou are an assistant responsible for ...</td>\n",
       "    </tr>\n",
       "    <tr>\n",
       "      <th>1</th>\n",
       "      <td>|    | Tax Jurisdiction   | 8 Name U          ...</td>\n",
       "      <td>23</td>\n",
       "      <td>Human: \\nYou are an assistant responsible for ...</td>\n",
       "    </tr>\n",
       "    <tr>\n",
       "      <th>2</th>\n",
       "      <td>|    | Revenues                      | Tangibl...</td>\n",
       "      <td>3</td>\n",
       "      <td>Human: \\nYou are an assistant responsible for ...</td>\n",
       "    </tr>\n",
       "    <tr>\n",
       "      <th>3</th>\n",
       "      <td>|    | Tax Jurisdiction   | Name              ...</td>\n",
       "      <td>21</td>\n",
       "      <td>Human: \\nYou are an assistant responsible for ...</td>\n",
       "    </tr>\n",
       "    <tr>\n",
       "      <th>4</th>\n",
       "      <td>|    | Tax Jurisdiction   | 8 Name H          ...</td>\n",
       "      <td>10</td>\n",
       "      <td>Human: \\nYou are an assistant responsible for ...</td>\n",
       "    </tr>\n",
       "  </tbody>\n",
       "</table>\n",
       "</div>"
      ],
      "text/plain": [
       "                                                text  page  \\\n",
       "0  |    | income and expense items:              ...    24   \n",
       "1  |    | Tax Jurisdiction   | 8 Name U          ...    23   \n",
       "2  |    | Revenues                      | Tangibl...     3   \n",
       "3  |    | Tax Jurisdiction   | Name              ...    21   \n",
       "4  |    | Tax Jurisdiction   | 8 Name H          ...    10   \n",
       "\n",
       "                                             summary  \n",
       "0  Human: \\nYou are an assistant responsible for ...  \n",
       "1  Human: \\nYou are an assistant responsible for ...  \n",
       "2  Human: \\nYou are an assistant responsible for ...  \n",
       "3  Human: \\nYou are an assistant responsible for ...  \n",
       "4  Human: \\nYou are an assistant responsible for ...  "
      ]
     },
     "execution_count": 11,
     "metadata": {},
     "output_type": "execute_result"
    }
   ],
   "source": [
    "df_tables['summary'] = table_summaries\n",
    "df_tables.head()"
   ]
  },
  {
   "cell_type": "markdown",
   "metadata": {},
   "source": [
    "## Get summaries"
   ]
  },
  {
   "cell_type": "code",
   "execution_count": 12,
   "metadata": {},
   "outputs": [],
   "source": [
    "table_img_folder = os.path.join(\"../data\", \"AngloAmerican_2021_CbCR/tables_img\")\n",
    "df_tables.to_excel(os.path.join(table_img_folder, \"md_tables_with_summary.xlsx\"), index=False)\n",
    "df_tables = pd.read_excel(os.path.join(table_img_folder, \"md_tables_with_summary.xlsx\"))\n",
    "table_summaries = list(df_tables['summary'])"
   ]
  },
  {
   "cell_type": "code",
   "execution_count": 13,
   "metadata": {},
   "outputs": [],
   "source": [
    "loader = DataFrameLoader(df_tables, page_content_column=\"text\")\n",
    "tables = loader.load()"
   ]
  },
  {
   "cell_type": "code",
   "execution_count": 14,
   "metadata": {},
   "outputs": [
    {
     "data": {
      "text/plain": [
       "[Document(page_content='|    | income and expense items:                                                                                                                                        | Main Business Activity(ies   |\\n|---:|:-----------------------------------------------------------------------------------------------------------------------------------------------------------------|:-----------------------------|\\n|  1 | The nature ofthe main business activity(ies) carried by the constituent entity in the relevant taxjurisdiction, by ticking one or more of the appropriate boxes: |                              |', metadata={'page': 24, 'summary': 'Human: \\nYou are an assistant responsible for extracting information from markdown tables.\\nExtract in a string all the key words and themes from the markdown table below, and add as many words from their lexical fields.\\n\\nGuidelines:\\n- If country names are present in the table, list them all in the summary.\\n- If financial KPIs are present in the table, list them all in the summary.\\n\\nTable: |    | income and expense items:                                                                                                                                        | Main Business Activity(ies   |\\n|---:|:-----------------------------------------------------------------------------------------------------------------------------------------------------------------|:-----------------------------|\\n|  1 | The nature ofthe main business activity(ies) carried by the constituent entity in the relevant taxjurisdiction, by ticking one or more of the appropriate boxes: |                              |\\nSummary: |                                                                                                                                                                  |                              |\\n|    |                                                                                                                                                                  |                              |\\n|    |                                                                                                                                                                  |                              |\\n|    |                                                                                                                                                                  |                              |\\n|    |                                                                                                                                                                  |                              |\\n|    |                                                                '}),\n",
       " Document(page_content='|    | Tax Jurisdiction   | 8 Name U                                    | 8 U   | 6 IF   | 5 1 Hl   | H   | 1   | H   | 1 3   | h 6   | ) J   | \"8 g h   | Jl   | 8 1L   | L]   | Iu   | I   | 1   | 82 8 U   | 1   | 1   | 8   |\\n|---:|:-------------------|:--------------------------------------------|:------|:-------|:---------|:----|:----|:----|:------|:------|:------|:---------|:-----|:-------|:-----|:-----|:----|:----|:---------|:----|:----|:----|\\n|  1 | Zimbabwe           | Amzim Holdings Limited                      | Yes   | \\'es    |          |     |     |     |       |       |       |          |      |        |      |      |     |     |          |     |     |     |\\n|  2 | Zimbabwe           | Anglo American Corporation Zimbabwe Limited | Yes   | \\'es    |          |     |     |     |       |       |       |          |      |        |      |      |     |     |          |     |     |     |\\n|  3 | Zimbabwe           | Broadlands Park Limited                     | Yes   | \\'es    |          |     |     |     |       |       |       |          |      |        |      |      |     |     |          |     |     |     |\\n|  4 | Zimbabwe           | Southridge Limited                          | Yes   | Yes    |          |     |     |     |       |       |       |          |      |        |      |      |     |     |          |     |     |     |\\n|  5 | Zimbabwe           | Unki Mines (Private) Limited                | Yes   |        |          |     |     |     |       |       |       |          |      |        |      |      |     |     |          |     |     |     |', metadata={'page': 23, 'summary': 'Human: \\nYou are an assistant responsible for extracting information from markdown tables.\\nExtract in a string all the key words and themes from the markdown table below, and add as many words from their lexical fields.\\n\\nGuidelines:\\n- If country names are present in the table, list them all in the summary.\\n- If financial KPIs are present in the table, list them all in the summary.\\n\\nTable: |    | Tax Jurisdiction   | 8 Name U                                    | 8 U   | 6 IF   | 5 1 Hl   | H   | 1   | H   | 1 3   | h 6   | ) J   | \"8 g h   | Jl   | 8 1L   | L]   | Iu   | I   | 1   | 82 8 U   | 1   | 1   | 8   |\\n|---:|:-------------------|:--------------------------------------------|:------|:-------|:---------|:----|:----|:----|:------|:------|:------|:---------|:-----|:-------|:-----|:-----|:----|:----|:---------|:----|:----|:----|\\n|  1 | Zimbabwe           | Amzim Holdings Limited                      | Yes   | \\'es    |          |     |     |     |       |       |       |          |      |        |      |      |     |     |          |     |     |     |\\n|  2 | Zimbabwe           | Anglo American Corporation Zimbabwe Limited | Yes   | \\'es    |          |     |     |     |       |       |       |          |      |        |      |      |     |     |          |     |     |     |\\n|  3 | Zimbabwe           | Broadlands Park Limited                     | Yes   | \\'es    |          |     |     |     |       |       |       |          |      |        |      |      |     |     |          |     |     |     |\\n|  4 | Zimbabwe           | Southridge Limited                          | Yes   | Yes    |          |     |     |     |       |       |       |          |      |        |      |      |     |     |          |     |     |     |\\n|  5 | Zimbabwe           | Unki Mines (Private) Limited                | Yes   |        |          |     |     |     |       |       |       |          |      |        |      |      |     |     |          |     |     |     |\\nSummary:\\n- Zimbabwe\\n- Amzim Holdings Limited\\n- Anglo American Corporation Zimbabwe Limited\\n- Broadlands Park Limited\\n- Southridge Limited\\n- Unki Mines (Private) Limited\\n\\n\\n\\n\\n\\n\\n\\n\\n\\n\\n\\n\\n\\n\\n\\n\\n\\n\\n\\n\\n\\n\\n\\n\\n\\n\\n\\n\\n\\n\\n\\n\\n\\n\\n\\n\\n\\n\\n\\n\\n\\n\\n\\n\\n\\n\\n\\n\\n\\n\\n\\n\\n\\n'}),\n",
       " Document(page_content='|    | Revenues                      | Tangible Assets   |               |               |                                 |                                              |                                             |                                             |                   |                      |                    |                                                  |                              |                                              |                                                                                                                                                                                                                          |\\n|---:|:------------------------------|:------------------|:--------------|:--------------|:--------------------------------|:---------------------------------------------|:--------------------------------------------|:--------------------------------------------|:------------------|:---------------------|:-------------------|:-------------------------------------------------|:-----------------------------|:---------------------------------------------|:-------------------------------------------------------------------------------------------------------------------------------------------------------------------------------------------------------------------------|\\n|  1 | currency USD Tax Jurisdiction | Unrelated Party   | Related Party | Total         | Profit/(Loss) before Income Tax | Income Tax Paid (on Cash Basis)              | Income Tax Accrued (Current Year)           | Income Tax Accrued (Current Year)           | Stated Capital 3) | Accumulated Earnings | Vumber of mployees | other than Cash and Cash Equivalents (Mandatory) | CBCR Effective Tax Rate(4) % | Statutory Corporate Tax Rate(5) %            | Explanation of significant differences in the rates(6                                                                                                                                                                    |\\n|  2 | Angola                        | (707,240)         | 2,470,971     | 4,012,420     | 25%                             | Accounting and taxlosses made in the period. |                                             |                                             |                   |                      |                    |                                                  |                              |                                              |                                                                                                                                                                                                                          |\\n|  3 | Argentina                     | 873,735)          | (46,782)      | 20,169,021    | 19,231,636                      | 515                                          | 25%                                         | Accounting andtaxlosses made in the period. |                   |                      |                    |                                                  |                              |                                              |                                                                                                                                                                                                                          |\\n|  4 | Australia                     | 2,462,258,236     | 76,805,752    | 2,539,063,988 | (717,002,147)                   | (9,587,813)                                  | (385,571)                                   | (385,571)                                   | 3,536,336,890     | 1,881,966,147        | 2,043              | 3,084,214,466                                    | 30%                          | Accounting and taxlosses made in the period. |                                                                                                                                                                                                                          |\\n|  5 | Belgium                       | 109               | 9,694,986     | 9,695,095     | 484,695                         | (1,356)                                      | (777)                                       | (777)                                       | 11,062,739        | (12,146,691)         | 68                 | 3,112,847                                        | 25%                          | Offset of losses made in previous periods.   |                                                                                                                                                                                                                          |\\n|  6 | Bermuda(1)                    | 114,763           | 140,884,054   | 140,998,817   | 80,821,666                      | (62,973)                                     | (62,973)                                    | (62,973)                                    | 214,532,169       | (688,699,239)        | 0%                 |                                                  |                              |                                              |                                                                                                                                                                                                                          |\\n|  7 | Botswana                      | 3,827,618,855     | 2,629,609,874 | 6,457,228,729 | 511,952,815                     | (128,642,610)                                | (84,757,461)                                | (84,757,461)                                | 642,354,795       | (216,445,959)        | 1,505              | 1,513,893,158                                    | 17%                          | 22%                                          | Offset of lossesmade in previous periods: Expenditure not treated as eductible for tax purposesin the same period asitis accrued for accounting purposes:                                                                |\\n|  8 | Brazil                        | 144,632,256       | 3,861,277,713 | 4,005,909,969 | 3,932,870,328                   | (258,303,727)                                | (257,267,937)                               | (257,267,937)                               | 10,381,863,635    | (5,257,787,123)      | 4,055              | 3,190,288,058                                    | 7%                           | 34%                                          | Offset of losses made in previous periods. Expenditure not treatedas eductible for tax purposesin the same period asitis accrued for accounting purposes:                                                                |\\n|  9 | Canada                        | 26,943,626        | 171,465,486   | 198,409,112   | (41,989,883)                    | (682,038)                                    | (408,775)                                   | (408,775)                                   | 403,179,292       | 3,556,526,180        | 643                | 435,865,915                                      | 1 %                          | 23%                                          | Accounting and taxlosses made in the period. inina taxes arisinq inthe period_                                                                                                                                           |\\n| 10 | Chile                         | 2,485,287,596     | 4,820,339,791 | 7,305,627,387 | 3,691,046,850                   | (791,739,456)                                | (971,320,029)                               | (971,320,029)                               | 4,487,513,243     | (7,411,871,366)      | 4,325              | 6,914,754,349                                    | 26%                          | 27%                                          | Expenditure not treated as eductible for tax purposesin the same period asitis accrued for accounting purposes ining taxes arising in the period Withholding taxes arising in the period.                                |\\n| 11 | China                         | 443,018,130       | 62,748,413    | 505,766,543   | (8,867,558)                     | (225,881)                                    | (1,660,588)                                 | (1,660,588)                                 | 47,931,618        | 33,834,498           | 268                | 87,826,366                                       | 19%                          | 25%                                          | Impact of some entities making sesforboth accounting andtax rposes, with other entitiesinthe samejurisdiction paying tax on profits made during the period. penditure permanently treated on-deductiblefor tax purposes: |\\n| 12 | Colombia                      | (301,167)         | 25,246,396    | 24,970,386    | 1,246                           | 31%                                          | Accounting andtaxlosses made in the period. |                                             |                   |                      |                    |                                                  |                              |                                              |                                                                                                                                                                                                                          |', metadata={'page': 3, 'summary': 'Human: \\nYou are an assistant responsible for extracting information from markdown tables.\\nExtract in a string all the key words and themes from the markdown table below, and add as many words from their lexical fields.\\n\\nGuidelines:\\n- If country names are present in the table, list them all in the summary.\\n- If financial KPIs are present in the table, list them all in the summary.\\n\\nTable: |    | Revenues                      | Tangible Assets   |               |               |                                 |                                              |                                             |                                             |                   |                      |                    |                                                  |                              |                                              |                                                                                                                                                                                                                          |\\n|---:|:------------------------------|:------------------|:--------------|:--------------|:--------------------------------|:---------------------------------------------|:--------------------------------------------|:--------------------------------------------|:------------------|:---------------------|:-------------------|:-------------------------------------------------|:-----------------------------|:---------------------------------------------|:-------------------------------------------------------------------------------------------------------------------------------------------------------------------------------------------------------------------------|\\n|  1 | currency USD Tax Jurisdiction | Unrelated Party   | Related Party | Total         | Profit/(Loss) before Income Tax | Income Tax Paid (on Cash Basis)              | Income Tax Accrued (Current Year)           | Income Tax Accrued (Current Year)           | Stated Capital 3) | Accumulated Earnings | Vumber of mployees | other than Cash and Cash Equivalents (Mandatory) | CBCR Effective Tax Rate(4) % | Statutory Corporate Tax Rate(5) %            | Explanation of significant differences in the rates(6                                                                                                                                                                    |\\n|  2 | Angola                        | (707,240)         | 2,470,971     | 4,012,420     | 25%                             | Accounting and taxlosses made in the period. |                                             |                                             |                   |                      |                    |                                                  |                              |                                              |                                                                                                                                                                                                                          |\\n|  3 | Argentina                     | 873,735)          | (46,782)      | 20,169,021    | 19,231,636                      | 515                                          | 25%                                         | Accounting andtaxlosses made in the period. |                   |                      |                    |                                                  |                              |                                              |                                                                                                                                                                                                                          |\\n|  4 | Australia                     | 2,462,258,236     | 76,805,752    | 2,539,063,988 | (717,002,147)                   | (9,587,813)                                  | (385,571)                                   | (385,571)                                   | 3,536,336,890     | 1,881,966,147        | 2,043              | 3,084,214,466                                    | 30%                          | Accounting and taxlosses made in the period. |                                                                                                                                                                                                                          |\\n|  5 | Belgium                       | 109               | 9,694,986     | 9,695,095     | 484,695                         | (1,356)                                      | (777)                                       | (777)                                       | 11,062,739        | (12,146,691)         | 68                 | 3,112,847                                        | 25%                          | Offset of losses made in previous periods.   |                                                                                                                                                                                                                          |\\n|  6 | Bermuda(1)                    | 114,763           | 140,884,054   | 140,998,817   | 80,821,666                      | (62,973)                                     | (62,973)                                    | (62,973)                                    | 214,532,169       | (688,699,239)        | 0%                 |                                                  |                              |                                              |                                                                                                                                                                                                                          |\\n|  7 | Botswana                      | 3,827,618,855     | 2,629,609,874 | 6,457,228,729 | 511,952,815                     | (128,642,610)                                | (84,757,461)                                | (84,757,461)                                | 642,354,795       | (216,445,959)        | 1,505              | 1,513,893,158                                    | 17%                          | 22%                                          | Offset of lossesmade in previous periods: Expenditure not treated as eductible for tax purposesin the same period asitis accrued for accounting purposes:                                                                |\\n|  8 | Brazil                        | 144,632,256       | 3,861,277,713 | 4,005,909,969 | 3,932,870,328                   | (258,303,727)                                | (257,267,937)                               | (257,267,937)                               | 10,381,863,635    | (5,257,787,123)      | 4,055              | 3,190,288,058                                    | 7%                           | 34%                                          | Offset of losses made in previous periods. Expenditure not treatedas eductible for tax purposesin the same period asitis accrued for accounting purposes:                                                                |\\n|  9 | Canada                        | 26,943,626        | 171,465,486   | 198,409,112   | (41,989,883)                    | (682,038)                                    | (408,775)                                   | (408,775)                                   | 403,179,292       | 3,556,526,180        | 643                | 435,865,915                                      | 1 %                          | 23%                                          | Accounting and taxlosses made in the period. inina taxes arisinq inthe period_                                                                                                                                           |\\n| 10 | Chile                         | 2,485,287,596     | 4,820,339,791 | 7,305,627,387 | 3,691,046,850                   | (791,739,456)                                | (971,320,029)                               | (971,320,029)                               | 4,487,513,243     | (7,411,871,366)      | 4,325              | 6,914,754,349                                    | 26%                          | 27%                                          | Expenditure not treated as eductible for tax purposesin the same period asitis accrued for accounting purposes ining taxes arising in the period Withholding taxes arising in the period.                                |\\n| 11 | China                         | 443,018,130       | 62,748,413    | 505,766,543   | (8,867,558)                     | (225,881)                                    | (1,660,588)                                 | (1,660,588)                                 | 47,931,618        | 33,834,498           | 268                | 87,826,366                                       | 19%                          | 25%                                          | Impact of some entities making sesforboth accounting andtax rposes, with other entitiesinthe samejurisdiction paying tax on profits made during the period. penditure permanently treated on-deductiblefor tax purposes: |\\n| 12 | Colombia                      | (301,167)         | 25,246,396    | 24,970,386    | 1,246                           | 31%                                          | Accounting andtaxlosses made in the period. |                                             |                   |                      |                    |                                                  |                              |                                              |                                                                                                                                                                                                                          |\\nSummary:\\n- Revenues: USD 4,012,420\\n- Tangible Assets: 2,470,971\\n- Profit/(Loss) before Income Tax: 25%\\n- Income Tax Paid (on Cash Basis): 25%\\n- Income Tax Accrued (Current Year): 25%\\n- Income Tax Accrued (Current Year): 25'}),\n",
       " Document(page_content='|    | Tax Jurisdiction   | Name                                                   | 3 : ]   | 8 6 H   | 6 Hle   | 6 0   | 6 H   | 1   | 1   | 1   | 1 1 3   | Hh   | Hh   | 5 lul   | 1   | LL J   | 1   | Iu   | U   | 8 1 H   | Hl   | L   | 8   | Hl   |\\n|---:|:-------------------|:-------------------------------------------------------|:--------|:--------|:--------|:------|:------|:----|:----|:----|:--------|:-----|:-----|:--------|:----|:-------|:----|:-----|:----|:--------|:-----|:----|:----|:-----|\\n|  1 | United Kingdom     | Anglo South American Investments Limited )             | Yes     | Yes     |         |       |       |     |     |     |         |      |      |         |     |        |     |      |     |         |      |     |     |      |\\n|  2 | United Kingdom     | Lightbox Jewelry Ltd.                                  | Yes     | Yes     |         |       |       |     |     |     |         |      |      |         |     |        |     |      |     |         |      |     |     |      |\\n|  3 | United Kingdom     | De Beers Centenary Limited )                           | Yes     | Yes     |         |       |       |     |     |     |         |      |      |         |     |        |     |      |     |         |      |     |     |      |\\n|  4 | United Kingdom     | De Beers Jewellers Limited                             | Yes     |         |         |       |       |     |     |     |         |      |      |         |     |        |     |      |     |         |      |     |     |      |\\n|  5 | United Kingdom     | De Beers Jewellers Trade Mark Limited                  | Yes     |         |         |       |       |     |     |     |         |      |      |         |     |        |     |      |     |         |      |     |     |      |\\n|  6 | United Kingdom     | De Beers Jewellers UK Limited                          | Yes     |         |         |       |       |     |     |     |         |      |      |         |     |        |     |      |     |         |      |     |     |      |\\n|  7 | United Kingdom     | Anglo American Medical Plan Trust                      | Yes     | Trust   |         |       |       |     |     |     |         |      |      |         |     |        |     |      |     |         |      |     |     |      |\\n|  8 | United Kingdom     | Anglo American Projects UK Limited                     |         |         |         |       |       |     |     |     |         |      |      |         |     |        |     |      |     |         |      |     |     |      |\\n|  9 | United Kingdom     | Anglo American Woodsmith Limited                       | Yes     | Yes     |         |       |       |     |     |     |         |      |      |         |     |        |     |      |     |         |      |     |     |      |\\n| 10 | United Kingdom     | Sach Limited                                           | Yes     | 2S      |         |       |       |     |     |     |         |      |      |         |     |        |     |      |     |         |      |     |     |      |\\n| 11 | United Kingdom     | Sach 2 Limited                                         | Yes     | 2S      |         |       |       |     |     |     |         |      |      |         |     |        |     |      |     |         |      |     |     |      |\\n| 12 | United Kingdom     | Sirius Minerals Foundation                             | Yes     | Charity |         |       |       |     |     |     |         |      |      |         |     |        |     |      |     |         |      |     |     |      |\\n| 13 | United Kingdom     | Sirius Minerals Holdings Limited                       | Yes     | Yes     |         |       |       |     |     |     |         |      |      |         |     |        |     |      |     |         |      |     |     |      |\\n| 14 | United Kingdom     | TRACR Limited                                          | Yes     |         |         |       |       |     |     |     |         |      |      |         |     |        |     |      |     |         |      |     |     |      |\\n| 15 | United Kingdom     | York Potash Holdings Limited                           | Yes     | Yes     |         |       |       |     |     |     |         |      |      |         |     |        |     |      |     |         |      |     |     |      |\\n| 16 | United Kingdom     | York Potash Intermediate Holdings Plc                  | Yes     | Yes     |         |       |       |     |     |     |         |      |      |         |     |        |     |      |     |         |      |     |     |      |\\n| 17 | United Kingdom     | York Potash Ltd                                        | Yes     | Yes     |         |       |       |     |     |     |         |      |      |         |     |        |     |      |     |         |      |     |     |      |\\n| 18 | United Kingdom     | York Potash Processing Ports Limited                   |         |         |         |       |       |     |     |     |         |      |      |         |     |        |     |      |     |         |      |     |     |      |\\n| 19 | United Kingdom     | YPF Ltd                                                | Yes     |         |         |       |       |     |     |     |         |      |      |         |     |        |     |      |     |         |      |     |     |      |\\n| 20 | United Kingdom     | Anglo American Corporation de Chile Holdings Limited ) | ited )  | Yes     | Yes     |       |       |     |     |     |         |      |      |         |     |        |     |      |     |         |      |     |     |      |\\n| 21 | United Kingdom     | Anglo American Exploration (Philippines) BV.(5)        | Yes     | Yes     |         |       |       |     |     |     |         |      |      |         |     |        |     |      |     |         |      |     |     |      |\\n| 22 | United Kingdom     | Anglo American Exploration B.V.(5)                     | Yes     | Yes     |         |       |       |     |     |     |         |      |      |         |     |        |     |      |     |         |      |     |     |      |\\n| 23 | United Kingdom     | Anglo American International B.V.(5)                   | Yes     | Yes     |         |       |       |     |     |     |         |      |      |         |     |        |     |      |     |         |      |     |     |      |\\n| 24 | United Kingdom     | Anglo American International Limited(z)                | Yes     | Yes     |         |       |       |     |     |     |         |      |      |         |     |        |     |      |     |         |      |     |     |      |\\n| 25 | United Kingdom     | Anglo American Netherlands B.V.(5)                     | Yes     | Yes     |         |       |       |     |     |     |         |      |      |         |     |        |     |      |     |         |      |     |     |      |\\n| 26 | United Kingdom     | Anglo Operations (Netherlands) B.V.(5)                 | Yes     | Yes     |         |       |       |     |     |     |         |      |      |         |     |        |     |      |     |         |      |     |     |      |\\n| 27 | United Kingdom     | De Beers Centenary AG()                                | Yes     | 2S      | Yes     | Yes   |       |     |     |     |         |      |      |         |     |        |     |      |     |         |      |     |     |      |', metadata={'page': 21, 'summary': 'Human: \\nYou are an assistant responsible for extracting information from markdown tables.\\nExtract in a string all the key words and themes from the markdown table below, and add as many words from their lexical fields.\\n\\nGuidelines:\\n- If country names are present in the table, list them all in the summary.\\n- If financial KPIs are present in the table, list them all in the summary.\\n\\nTable: |    | Tax Jurisdiction   | Name                                                   | 3 : ]   | 8 6 H   | 6 Hle   | 6 0   | 6 H   | 1   | 1   | 1   | 1 1 3   | Hh   | Hh   | 5 lul   | 1   | LL J   | 1   | Iu   | U   | 8 1 H   | Hl   | L   | 8   | Hl   |\\n|---:|:-------------------|:-------------------------------------------------------|:--------|:--------|:--------|:------|:------|:----|:----|:----|:--------|:-----|:-----|:--------|:----|:-------|:----|:-----|:----|:--------|:-----|:----|:----|:-----|\\n|  1 | United Kingdom     | Anglo South American Investments Limited )             | Yes     | Yes     |         |       |       |     |     |     |         |      |      |         |     |        |     |      |     |         |      |     |     |      |\\n|  2 | United Kingdom     | Lightbox Jewelry Ltd.                                  | Yes     | Yes     |         |       |       |     |     |     |         |      |      |         |     |        |     |      |     |         |      |     |     |      |\\n|  3 | United Kingdom     | De Beers Centenary Limited )                           | Yes     | Yes     |         |       |       |     |     |     |         |      |      |         |     |        |     |      |     |         |      |     |     |      |\\n|  4 | United Kingdom     | De Beers Jewellers Limited                             | Yes     |         |         |       |       |     |     |     |         |      |      |         |     |        |     |      |     |         |      |     |     |      |\\n|  5 | United Kingdom     | De Beers Jewellers Trade Mark Limited                  | Yes     |         |         |       |       |     |     |     |         |      |      |         |     |        |     |      |     |         |      |     |     |      |\\n|  6 | United Kingdom     | De Beers Jewellers UK Limited                          | Yes     |         |         |       |       |     |     |     |         |      |      |         |     |        |     |      |     |         |      |     |     |      |\\n|  7 | United Kingdom     | Anglo American Medical Plan Trust                      | Yes     | Trust   |         |       |       |     |     |     |         |      |      |         |     |        |     |      |     |         |      |     |     |      |\\n|  8 | United Kingdom     | Anglo American Projects UK Limited                     |         |         |         |       |       |     |     |     |         |      |      |         |     |        |     |      |     |         |      |     |     |      |\\n|  9 | United Kingdom     | Anglo American Woodsmith Limited                       | Yes     | Yes     |         |       |       |     |     |     |         |      |      |         |     |        |     |      |     |         |      |     |     |      |\\n| 10 | United Kingdom     | Sach Limited                                           | Yes     | 2S      |         |       |       |     |     |     |         |      |      |         |     |        |     |      |     |         |      |     |     |      |\\n| 11 | United Kingdom     | Sach 2 Limited                                         | Yes     | 2S      |         |       |       |     |     |     |         |      |      |         |     |        |     |      |     |         |      |     |     |      |\\n| 12 | United Kingdom     | Sirius Minerals Foundation                             | Yes     | Charity |         |       |       |     |     |     |         |      |      |         |     |        |     |      |     |         |      |     |     |      |\\n| 13 | United Kingdom     | Sirius Minerals Holdings Limited                       | Yes     | Yes     |         |       |       |     |     |     |         |      |      |         |     |        |     |      |     |         |      |     |     |      |\\n| 14 | United Kingdom     | TRACR Limited                                          | Yes     |         |         |       |       |     |     |     |         |      |      |         |     |        |     |      |     |         |      |     |     |      |\\n| 15 | United Kingdom     | York Potash Holdings Limited                           | Yes     | Yes     |         |       |       |     |     |     |         |      |      |         |     |        |     |      |     |         |      |     |     |      |\\n| 16 | United Kingdom     | York Potash Intermediate Holdings Plc                  | Yes     | Yes     |         |       |       |     |     |     |         |      |      |         |     |        |     |      |     |         |      |     |     |      |\\n| 17 | United Kingdom     | York Potash Ltd                                        | Yes     | Yes     |         |       |       |     |     |     |         |      |      |         |     |        |     |      |     |         |      |     |     |      |\\n| 18 | United Kingdom     | York Potash Processing Ports Limited                   |         |         |         |       |       |     |     |     |         |      |      |         |     |        |     |      |     |         |      |     |     |      |\\n| 19 | United Kingdom     | YPF Ltd                                                | Yes     |         |         |       |       |     |     |     |         |      |      |         |     |        |     |      |     |         |      |     |     |      |\\n| 20 | United Kingdom     | Anglo American Corporation de Chile Holdings Limited ) | ited )  | Yes     | Yes     |       |       |     |     |     |         |      |      |         |     |        |     |      |     |         |      |     |     |      |\\n| 21 | United Kingdom     | Anglo American Exploration (Philippines) BV.(5)        | Yes     | Yes     |         |       |       |     |     |     |         |      |      |         |     |        |     |      |     |         |      |     |     |      |\\n| 22 | United Kingdom     | Anglo American Exploration B.V.(5)                     | Yes     | Yes     |         |       |       |     |     |     |         |      |      |         |     |        |     |      |     |         |      |     |     |      |\\n| 23 | United Kingdom     | Anglo American International B.V.(5)                   | Yes     | Yes     |         |       |       |     |     |     |         |      |      |         |     |        |     |      |     |         |      |     |     |      |\\n| 24 | United Kingdom     | Anglo American International Limited(z)                | Yes     | Yes     |         |       |       |     |     |     |         |      |      |         |     |        |     |      |     |         |      |     |     |      |\\n| 25 | United Kingdom     | Anglo American Netherlands B.V.(5)                     | Yes     | Yes     |         |       |       |     |     |     |         |      |      |         |     |        |     |      |     |         |      |     |     |      |\\n| 26 | United Kingdom     | Anglo Operations (Netherlands) B.V.(5)                 | Yes     | Yes     |         |       |       |     |     |     |         |      |      |         |     |        |     |      |     |         |      |     |     |      |\\n| 27 | United Kingdom     | De Beers Centenary AG()                                | Yes     | 2S      | Yes     | Yes   |       |     |     |     |         |      |      |         |     |        |     |      |     |         |      |     |     |      |\\nSummary:\\n- United Kingdom\\n- Anglo South American Investments Limited\\n- Lightbox Jewelry Ltd.\\n- De Beers Centenary Limited\\n- De Beers Jewellers Limited\\n- De Beers Jewellers Trade Mark Limited\\n- De Beers Jewellers UK Limited\\n- Anglo American Medical Plan Trust\\n- Anglo American Projects UK Limited\\n- Anglo American Woodsmith Limited\\n- Sach Limited\\n- Sach 2 Limited\\n- Sirius Minerals'}),\n",
       " Document(page_content=\"|    | Tax Jurisdiction   | 8 Name H                                                                 | 8 H                           | 6 H+                       | 6 U   | C     | 0 U   | 0 H   | 5 U   | 7   | H   | 1 1 3   | 1 1 3   | J   | J   | Ubl   | 8 1 6   | L]   | Iu   | 8 1 L   | 82 HL   | 1   | 8   | 4 UL   |\\n|---:|:-------------------|:-------------------------------------------------------------------------|:------------------------------|:---------------------------|:------|:------|:------|:------|:------|:----|:----|:--------|:--------|:----|:----|:------|:--------|:-----|:-----|:--------|:--------|:----|:----|:-------|\\n|  1 | Canada             | De Beers Canada Inc.                                                     | Yes                           | Yes                        |       |       |       |       |       |     |     |         |         |     |     |       |         |      |      |         |         |     |     |        |\\n|  2 | Canada             | Peace River Coal Inc                                                     | Yes                           | Yes                        |       |       |       |       |       |     |     |         |         |     |     |       |         |      |      |         |         |     |     |        |\\n|  3 | Canada             | Auspotash Corporation                                                    | Yes                           |                            |       |       |       |       |       |     |     |         |         |     |     |       |         |      |      |         |         |     |     |        |\\n|  4 | Chile              | Anglo American Chile Ltda                                                | Yes                           |                            |       |       |       |       |       |     |     |         |         |     |     |       |         |      |      |         |         |     |     |        |\\n|  5 | Chile              | Anglo American Sur S.A.                                                  | Yes                           |                            |       |       |       |       |       |     |     |         |         |     |     |       |         |      |      |         |         |     |     |        |\\n|  6 | Chile              | Compahia Minera Dona Ines De Collahuasi SCM                              | Yes                           |                            |       |       |       |       |       |     |     |         |         |     |     |       |         |      |      |         |         |     |     |        |\\n|  7 | Chile              | Compahia Minera Westwall S.C.M                                           | Yes Explc                     | ploration                  |       |       |       |       |       |     |     |         |         |     |     |       |         |      |      |         |         |     |     |        |\\n|  8 | Chile              | Inversiones Anglo American Norte SpA                                     | Yes                           |                            |       |       |       |       |       |     |     |         |         |     |     |       |         |      |      |         |         |     |     |        |\\n|  9 | Chile              | Anglo American Copper Finance SpA                                        | Yes                           |                            |       |       |       |       |       |     |     |         |         |     |     |       |         |      |      |         |         |     |     |        |\\n| 10 | Chile              | Anglo American Marketing Chile SpA                                       | Yes                           | Yes                        |       |       |       |       |       |     |     |         |         |     |     |       |         |      |      |         |         |     |     |        |\\n| 11 | Chile              | Anglo American Technical & Sustainability Services Ltd, Agencia en Chile | Yes                           |                            |       |       |       |       |       |     |     |         |         |     |     |       |         |      |      |         |         |     |     |        |\\n| 12 | Chile              | Inversiones Anglo American Sur SpA                                       | Yes                           |                            |       |       |       |       |       |     |     |         |         |     |     |       |         |      |      |         |         |     |     |        |\\n| 13 | Chile              | Inversiones Minorco Chile SpA                                            | Yes                           |                            |       |       |       |       |       |     |     |         |         |     |     |       |         |      |      |         |         |     |     |        |\\n| 14 | China              | Element Six Trading (Shanghai) Co. Ltd                                   | Yes                           | Yes                        |       |       |       |       |       |     |     |         |         |     |     |       |         |      |      |         |         |     |     |        |\\n| 15 | China              | Forevermark Marketing (Shanghai) Company Limited                         | Yes                           | Yes                        | Yes   |       |       |       |       |     |     |         |         |     |     |       |         |      |      |         |         |     |     |        |\\n| 16 | China              | Forevermark Marketing (Shanghai) Limited,Xi'an No. Branch                | anch                          | Yes                        | Yes   |       |       |       |       |     |     |         |         |     |     |       |         |      |      |         |         |     |     |        |\\n| 17 | China              | Forevermark Marketing Shanghai Company Limited Beijing Branch            | Yes                           | Yes                        |       |       |       |       |       |     |     |         |         |     |     |       |         |      |      |         |         |     |     |        |\\n| 18 | China              | Forevermark Marketing Shanghai Company Limited Shanghai Branch           | Yes                           | Yes                        |       |       |       |       |       |     |     |         |         |     |     |       |         |      |      |         |         |     |     |        |\\n| 19 | China              | Platinum Guild International (Shanghai) Co. Limited                      | Yes Consu market res and pron | sultancy research romotion |       |       |       |       |       |     |     |         |         |     |     |       |         |      |      |         |         |     |     |        |\\n| 20 | China              | Anglo American Resources Trading (China) Co. Ltd.                        | Yes                           | Yes                        |       |       |       |       |       |     |     |         |         |     |     |       |         |      |      |         |         |     |     |        |\\n| 21 | China              | De Beers Jewellers Commercial (Shanghai) Co, Ltd                         | Yes                           | Yes                        |       |       |       |       |       |     |     |         |         |     |     |       |         |      |      |         |         |     |     |        |\\n| 22 | Colombia           | Anglo American Colombia Exploration S.A                                  | Yes                           |                            |       |       |       |       |       |     |     |         |         |     |     |       |         |      |      |         |         |     |     |        |\", metadata={'page': 10, 'summary': \"Human: \\nYou are an assistant responsible for extracting information from markdown tables.\\nExtract in a string all the key words and themes from the markdown table below, and add as many words from their lexical fields.\\n\\nGuidelines:\\n- If country names are present in the table, list them all in the summary.\\n- If financial KPIs are present in the table, list them all in the summary.\\n\\nTable: |    | Tax Jurisdiction   | 8 Name H                                                                 | 8 H                           | 6 H+                       | 6 U   | C     | 0 U   | 0 H   | 5 U   | 7   | H   | 1 1 3   | 1 1 3   | J   | J   | Ubl   | 8 1 6   | L]   | Iu   | 8 1 L   | 82 HL   | 1   | 8   | 4 UL   |\\n|---:|:-------------------|:-------------------------------------------------------------------------|:------------------------------|:---------------------------|:------|:------|:------|:------|:------|:----|:----|:--------|:--------|:----|:----|:------|:--------|:-----|:-----|:--------|:--------|:----|:----|:-------|\\n|  1 | Canada             | De Beers Canada Inc.                                                     | Yes                           | Yes                        |       |       |       |       |       |     |     |         |         |     |     |       |         |      |      |         |         |     |     |        |\\n|  2 | Canada             | Peace River Coal Inc                                                     | Yes                           | Yes                        |       |       |       |       |       |     |     |         |         |     |     |       |         |      |      |         |         |     |     |        |\\n|  3 | Canada             | Auspotash Corporation                                                    | Yes                           |                            |       |       |       |       |       |     |     |         |         |     |     |       |         |      |      |         |         |     |     |        |\\n|  4 | Chile              | Anglo American Chile Ltda                                                | Yes                           |                            |       |       |       |       |       |     |     |         |         |     |     |       |         |      |      |         |         |     |     |        |\\n|  5 | Chile              | Anglo American Sur S.A.                                                  | Yes                           |                            |       |       |       |       |       |     |     |         |         |     |     |       |         |      |      |         |         |     |     |        |\\n|  6 | Chile              | Compahia Minera Dona Ines De Collahuasi SCM                              | Yes                           |                            |       |       |       |       |       |     |     |         |         |     |     |       |         |      |      |         |         |     |     |        |\\n|  7 | Chile              | Compahia Minera Westwall S.C.M                                           | Yes Explc                     | ploration                  |       |       |       |       |       |     |     |         |         |     |     |       |         |      |      |         |         |     |     |        |\\n|  8 | Chile              | Inversiones Anglo American Norte SpA                                     | Yes                           |                            |       |       |       |       |       |     |     |         |         |     |     |       |         |      |      |         |         |     |     |        |\\n|  9 | Chile              | Anglo American Copper Finance SpA                                        | Yes                           |                            |       |       |       |       |       |     |     |         |         |     |     |       |         |      |      |         |         |     |     |        |\\n| 10 | Chile              | Anglo American Marketing Chile SpA                                       | Yes                           | Yes                        |       |       |       |       |       |     |     |         |         |     |     |       |         |      |      |         |         |     |     |        |\\n| 11 | Chile              | Anglo American Technical & Sustainability Services Ltd, Agencia en Chile | Yes                           |                            |       |       |       |       |       |     |     |         |         |     |     |       |         |      |      |         |         |     |     |        |\\n| 12 | Chile              | Inversiones Anglo American Sur SpA                                       | Yes                           |                            |       |       |       |       |       |     |     |         |         |     |     |       |         |      |      |         |         |     |     |        |\\n| 13 | Chile              | Inversiones Minorco Chile SpA                                            | Yes                           |                            |       |       |       |       |       |     |     |         |         |     |     |       |         |      |      |         |         |     |     |        |\\n| 14 | China              | Element Six Trading (Shanghai) Co. Ltd                                   | Yes                           | Yes                        |       |       |       |       |       |     |     |         |         |     |     |       |         |      |      |         |         |     |     |        |\\n| 15 | China              | Forevermark Marketing (Shanghai) Company Limited                         | Yes                           | Yes                        | Yes   |       |       |       |       |     |     |         |         |     |     |       |         |      |      |         |         |     |     |        |\\n| 16 | China              | Forevermark Marketing (Shanghai) Limited,Xi'an No. Branch                | anch                          | Yes                        | Yes   |       |       |       |       |     |     |         |         |     |     |       |         |      |      |         |         |     |     |        |\\n| 17 | China              | Forevermark Marketing Shanghai Company Limited Beijing Branch            | Yes                           | Yes                        |       |       |       |       |       |     |     |         |         |     |     |       |         |      |      |         |         |     |     |        |\\n| 18 | China              | Forevermark Marketing Shanghai Company Limited Shanghai Branch           | Yes                           | Yes                        |       |       |       |       |       |     |     |         |         |     |     |       |         |      |      |         |         |     |     |        |\\n| 19 | China              | Platinum Guild International (Shanghai) Co. Limited                      | Yes Consu market res and pron | sultancy research romotion |       |       |       |       |       |     |     |         |         |     |     |       |         |      |      |         |         |     |     |        |\\n| 20 | China              | Anglo American Resources Trading (China) Co. Ltd.                        | Yes                           | Yes                        |       |       |       |       |       |     |     |         |         |     |     |       |         |      |      |         |         |     |     |        |\\n| 21 | China              | De Beers Jewellers Commercial (Shanghai) Co, Ltd                         | Yes                           | Yes                        |       |       |       |       |       |     |     |         |         |     |     |       |         |      |      |         |         |     |     |        |\\n| 22 | Colombia           | Anglo American Colombia Exploration S.A                                  | Yes                           |                            |       |       |       |       |       |     |     |         |         |     |     |       |         |      |      |         |         |     |     |        |\\nSummary:\\n- Canada\\n- Chile\\n- China\\n- Colombia\\n- Financial KPIs:\\n- Tax Jurisdiction:\\n- 8 Name H\\n- 8 H\\n- 6 H+\\n- 6 U\\n- C\\n- 0 U\\n- 0 H\\n- 5 U\\n- 7\\n- H\\n- 1 1 3\\n- 1 1 3\\n- J\\n- J\\n- Ubl\\n\"})]"
      ]
     },
     "execution_count": 14,
     "metadata": {},
     "output_type": "execute_result"
    }
   ],
   "source": [
    "tables[:5]"
   ]
  },
  {
   "cell_type": "markdown",
   "metadata": {},
   "source": [
    "## Add tables to vectorstore"
   ]
  },
  {
   "cell_type": "code",
   "execution_count": 15,
   "metadata": {},
   "outputs": [],
   "source": [
    "import uuid\n",
    "\n",
    "from langchain.retrievers.multi_vector import MultiVectorRetriever\n",
    "from langchain.storage import InMemoryStore\n",
    "from langchain.vectorstores import Chroma\n",
    "from langchain.docstore.document import Document\n",
    "from langchain.embeddings import HuggingFaceEmbeddings\n",
    "\n",
    "# The vectorstore to use to index the child chunks\n",
    "embedding_function = HuggingFaceEmbeddings(\n",
    "    model_name='BAAI/bge-base-en-v1.5',  # BAAI/bge-base-en-v1.5 // thenlper/gte-small\n",
    "    encode_kwargs={\n",
    "        \"show_progress_bar\": True,\n",
    "        \"batch_size\": 1\n",
    "    },\n",
    ")"
   ]
  },
  {
   "cell_type": "code",
   "execution_count": 16,
   "metadata": {},
   "outputs": [],
   "source": [
    "k = 3"
   ]
  },
  {
   "cell_type": "code",
   "execution_count": 17,
   "metadata": {},
   "outputs": [],
   "source": [
    "vectorstore = Chroma(\n",
    "    collection_name=\"summaries\",\n",
    "    embedding_function=embedding_function,\n",
    ")"
   ]
  },
  {
   "cell_type": "code",
   "execution_count": 18,
   "metadata": {},
   "outputs": [],
   "source": [
    "# The storage layer for the parent documents\n",
    "store = InMemoryStore()\n",
    "id_key = \"doc_id\"\n",
    "\n",
    "# The retriever (empty to start)\n",
    "retriever = MultiVectorRetriever(\n",
    "    vectorstore=vectorstore,\n",
    "    docstore=store,\n",
    "    id_key=id_key,\n",
    "    search_kwargs={\"k\": k},\n",
    ")"
   ]
  },
  {
   "cell_type": "code",
   "execution_count": 19,
   "metadata": {},
   "outputs": [
    {
     "data": {
      "text/plain": [
       "[Document(page_content='Human: \\nYou are an assistant responsible for extracting information from markdown tables.\\nExtract in a string all the key words and themes from the markdown table below, and add as many words from their lexical fields.\\n\\nGuidelines:\\n- If country names are present in the table, list them all in the summary.\\n- If financial KPIs are present in the table, list them all in the summary.\\n\\nTable: |    | income and expense items:                                                                                                                                        | Main Business Activity(ies   |\\n|---:|:-----------------------------------------------------------------------------------------------------------------------------------------------------------------|:-----------------------------|\\n|  1 | The nature ofthe main business activity(ies) carried by the constituent entity in the relevant taxjurisdiction, by ticking one or more of the appropriate boxes: |                              |\\nSummary: |                                                                                                                                                                  |                              |\\n|    |                                                                                                                                                                  |                              |\\n|    |                                                                                                                                                                  |                              |\\n|    |                                                                                                                                                                  |                              |\\n|    |                                                                                                                                                                  |                              |\\n|    |                                                                ', metadata={'doc_id': 'a9fc5573-3f2e-4d52-86ad-e9784d786815'}),\n",
       " Document(page_content='Human: \\nYou are an assistant responsible for extracting information from markdown tables.\\nExtract in a string all the key words and themes from the markdown table below, and add as many words from their lexical fields.\\n\\nGuidelines:\\n- If country names are present in the table, list them all in the summary.\\n- If financial KPIs are present in the table, list them all in the summary.\\n\\nTable: |    | Tax Jurisdiction   | 8 Name U                                    | 8 U   | 6 IF   | 5 1 Hl   | H   | 1   | H   | 1 3   | h 6   | ) J   | \"8 g h   | Jl   | 8 1L   | L]   | Iu   | I   | 1   | 82 8 U   | 1   | 1   | 8   |\\n|---:|:-------------------|:--------------------------------------------|:------|:-------|:---------|:----|:----|:----|:------|:------|:------|:---------|:-----|:-------|:-----|:-----|:----|:----|:---------|:----|:----|:----|\\n|  1 | Zimbabwe           | Amzim Holdings Limited                      | Yes   | \\'es    |          |     |     |     |       |       |       |          |      |        |      |      |     |     |          |     |     |     |\\n|  2 | Zimbabwe           | Anglo American Corporation Zimbabwe Limited | Yes   | \\'es    |          |     |     |     |       |       |       |          |      |        |      |      |     |     |          |     |     |     |\\n|  3 | Zimbabwe           | Broadlands Park Limited                     | Yes   | \\'es    |          |     |     |     |       |       |       |          |      |        |      |      |     |     |          |     |     |     |\\n|  4 | Zimbabwe           | Southridge Limited                          | Yes   | Yes    |          |     |     |     |       |       |       |          |      |        |      |      |     |     |          |     |     |     |\\n|  5 | Zimbabwe           | Unki Mines (Private) Limited                | Yes   |        |          |     |     |     |       |       |       |          |      |        |      |      |     |     |          |     |     |     |\\nSummary:\\n- Zimbabwe\\n- Amzim Holdings Limited\\n- Anglo American Corporation Zimbabwe Limited\\n- Broadlands Park Limited\\n- Southridge Limited\\n- Unki Mines (Private) Limited\\n\\n\\n\\n\\n\\n\\n\\n\\n\\n\\n\\n\\n\\n\\n\\n\\n\\n\\n\\n\\n\\n\\n\\n\\n\\n\\n\\n\\n\\n\\n\\n\\n\\n\\n\\n\\n\\n\\n\\n\\n\\n\\n\\n\\n\\n\\n\\n\\n\\n\\n\\n\\n\\n', metadata={'doc_id': 'b720b270-47d8-46d7-85c7-3ec0895cb81b'}),\n",
       " Document(page_content='Human: \\nYou are an assistant responsible for extracting information from markdown tables.\\nExtract in a string all the key words and themes from the markdown table below, and add as many words from their lexical fields.\\n\\nGuidelines:\\n- If country names are present in the table, list them all in the summary.\\n- If financial KPIs are present in the table, list them all in the summary.\\n\\nTable: |    | Revenues                      | Tangible Assets   |               |               |                                 |                                              |                                             |                                             |                   |                      |                    |                                                  |                              |                                              |                                                                                                                                                                                                                          |\\n|---:|:------------------------------|:------------------|:--------------|:--------------|:--------------------------------|:---------------------------------------------|:--------------------------------------------|:--------------------------------------------|:------------------|:---------------------|:-------------------|:-------------------------------------------------|:-----------------------------|:---------------------------------------------|:-------------------------------------------------------------------------------------------------------------------------------------------------------------------------------------------------------------------------|\\n|  1 | currency USD Tax Jurisdiction | Unrelated Party   | Related Party | Total         | Profit/(Loss) before Income Tax | Income Tax Paid (on Cash Basis)              | Income Tax Accrued (Current Year)           | Income Tax Accrued (Current Year)           | Stated Capital 3) | Accumulated Earnings | Vumber of mployees | other than Cash and Cash Equivalents (Mandatory) | CBCR Effective Tax Rate(4) % | Statutory Corporate Tax Rate(5) %            | Explanation of significant differences in the rates(6                                                                                                                                                                    |\\n|  2 | Angola                        | (707,240)         | 2,470,971     | 4,012,420     | 25%                             | Accounting and taxlosses made in the period. |                                             |                                             |                   |                      |                    |                                                  |                              |                                              |                                                                                                                                                                                                                          |\\n|  3 | Argentina                     | 873,735)          | (46,782)      | 20,169,021    | 19,231,636                      | 515                                          | 25%                                         | Accounting andtaxlosses made in the period. |                   |                      |                    |                                                  |                              |                                              |                                                                                                                                                                                                                          |\\n|  4 | Australia                     | 2,462,258,236     | 76,805,752    | 2,539,063,988 | (717,002,147)                   | (9,587,813)                                  | (385,571)                                   | (385,571)                                   | 3,536,336,890     | 1,881,966,147        | 2,043              | 3,084,214,466                                    | 30%                          | Accounting and taxlosses made in the period. |                                                                                                                                                                                                                          |\\n|  5 | Belgium                       | 109               | 9,694,986     | 9,695,095     | 484,695                         | (1,356)                                      | (777)                                       | (777)                                       | 11,062,739        | (12,146,691)         | 68                 | 3,112,847                                        | 25%                          | Offset of losses made in previous periods.   |                                                                                                                                                                                                                          |\\n|  6 | Bermuda(1)                    | 114,763           | 140,884,054   | 140,998,817   | 80,821,666                      | (62,973)                                     | (62,973)                                    | (62,973)                                    | 214,532,169       | (688,699,239)        | 0%                 |                                                  |                              |                                              |                                                                                                                                                                                                                          |\\n|  7 | Botswana                      | 3,827,618,855     | 2,629,609,874 | 6,457,228,729 | 511,952,815                     | (128,642,610)                                | (84,757,461)                                | (84,757,461)                                | 642,354,795       | (216,445,959)        | 1,505              | 1,513,893,158                                    | 17%                          | 22%                                          | Offset of lossesmade in previous periods: Expenditure not treated as eductible for tax purposesin the same period asitis accrued for accounting purposes:                                                                |\\n|  8 | Brazil                        | 144,632,256       | 3,861,277,713 | 4,005,909,969 | 3,932,870,328                   | (258,303,727)                                | (257,267,937)                               | (257,267,937)                               | 10,381,863,635    | (5,257,787,123)      | 4,055              | 3,190,288,058                                    | 7%                           | 34%                                          | Offset of losses made in previous periods. Expenditure not treatedas eductible for tax purposesin the same period asitis accrued for accounting purposes:                                                                |\\n|  9 | Canada                        | 26,943,626        | 171,465,486   | 198,409,112   | (41,989,883)                    | (682,038)                                    | (408,775)                                   | (408,775)                                   | 403,179,292       | 3,556,526,180        | 643                | 435,865,915                                      | 1 %                          | 23%                                          | Accounting and taxlosses made in the period. inina taxes arisinq inthe period_                                                                                                                                           |\\n| 10 | Chile                         | 2,485,287,596     | 4,820,339,791 | 7,305,627,387 | 3,691,046,850                   | (791,739,456)                                | (971,320,029)                               | (971,320,029)                               | 4,487,513,243     | (7,411,871,366)      | 4,325              | 6,914,754,349                                    | 26%                          | 27%                                          | Expenditure not treated as eductible for tax purposesin the same period asitis accrued for accounting purposes ining taxes arising in the period Withholding taxes arising in the period.                                |\\n| 11 | China                         | 443,018,130       | 62,748,413    | 505,766,543   | (8,867,558)                     | (225,881)                                    | (1,660,588)                                 | (1,660,588)                                 | 47,931,618        | 33,834,498           | 268                | 87,826,366                                       | 19%                          | 25%                                          | Impact of some entities making sesforboth accounting andtax rposes, with other entitiesinthe samejurisdiction paying tax on profits made during the period. penditure permanently treated on-deductiblefor tax purposes: |\\n| 12 | Colombia                      | (301,167)         | 25,246,396    | 24,970,386    | 1,246                           | 31%                                          | Accounting andtaxlosses made in the period. |                                             |                   |                      |                    |                                                  |                              |                                              |                                                                                                                                                                                                                          |\\nSummary:\\n- Revenues: USD 4,012,420\\n- Tangible Assets: 2,470,971\\n- Profit/(Loss) before Income Tax: 25%\\n- Income Tax Paid (on Cash Basis): 25%\\n- Income Tax Accrued (Current Year): 25%\\n- Income Tax Accrued (Current Year): 25', metadata={'doc_id': 'cf231ff8-7068-4028-839c-65fd7fc0d984'}),\n",
       " Document(page_content='Human: \\nYou are an assistant responsible for extracting information from markdown tables.\\nExtract in a string all the key words and themes from the markdown table below, and add as many words from their lexical fields.\\n\\nGuidelines:\\n- If country names are present in the table, list them all in the summary.\\n- If financial KPIs are present in the table, list them all in the summary.\\n\\nTable: |    | Tax Jurisdiction   | Name                                                   | 3 : ]   | 8 6 H   | 6 Hle   | 6 0   | 6 H   | 1   | 1   | 1   | 1 1 3   | Hh   | Hh   | 5 lul   | 1   | LL J   | 1   | Iu   | U   | 8 1 H   | Hl   | L   | 8   | Hl   |\\n|---:|:-------------------|:-------------------------------------------------------|:--------|:--------|:--------|:------|:------|:----|:----|:----|:--------|:-----|:-----|:--------|:----|:-------|:----|:-----|:----|:--------|:-----|:----|:----|:-----|\\n|  1 | United Kingdom     | Anglo South American Investments Limited )             | Yes     | Yes     |         |       |       |     |     |     |         |      |      |         |     |        |     |      |     |         |      |     |     |      |\\n|  2 | United Kingdom     | Lightbox Jewelry Ltd.                                  | Yes     | Yes     |         |       |       |     |     |     |         |      |      |         |     |        |     |      |     |         |      |     |     |      |\\n|  3 | United Kingdom     | De Beers Centenary Limited )                           | Yes     | Yes     |         |       |       |     |     |     |         |      |      |         |     |        |     |      |     |         |      |     |     |      |\\n|  4 | United Kingdom     | De Beers Jewellers Limited                             | Yes     |         |         |       |       |     |     |     |         |      |      |         |     |        |     |      |     |         |      |     |     |      |\\n|  5 | United Kingdom     | De Beers Jewellers Trade Mark Limited                  | Yes     |         |         |       |       |     |     |     |         |      |      |         |     |        |     |      |     |         |      |     |     |      |\\n|  6 | United Kingdom     | De Beers Jewellers UK Limited                          | Yes     |         |         |       |       |     |     |     |         |      |      |         |     |        |     |      |     |         |      |     |     |      |\\n|  7 | United Kingdom     | Anglo American Medical Plan Trust                      | Yes     | Trust   |         |       |       |     |     |     |         |      |      |         |     |        |     |      |     |         |      |     |     |      |\\n|  8 | United Kingdom     | Anglo American Projects UK Limited                     |         |         |         |       |       |     |     |     |         |      |      |         |     |        |     |      |     |         |      |     |     |      |\\n|  9 | United Kingdom     | Anglo American Woodsmith Limited                       | Yes     | Yes     |         |       |       |     |     |     |         |      |      |         |     |        |     |      |     |         |      |     |     |      |\\n| 10 | United Kingdom     | Sach Limited                                           | Yes     | 2S      |         |       |       |     |     |     |         |      |      |         |     |        |     |      |     |         |      |     |     |      |\\n| 11 | United Kingdom     | Sach 2 Limited                                         | Yes     | 2S      |         |       |       |     |     |     |         |      |      |         |     |        |     |      |     |         |      |     |     |      |\\n| 12 | United Kingdom     | Sirius Minerals Foundation                             | Yes     | Charity |         |       |       |     |     |     |         |      |      |         |     |        |     |      |     |         |      |     |     |      |\\n| 13 | United Kingdom     | Sirius Minerals Holdings Limited                       | Yes     | Yes     |         |       |       |     |     |     |         |      |      |         |     |        |     |      |     |         |      |     |     |      |\\n| 14 | United Kingdom     | TRACR Limited                                          | Yes     |         |         |       |       |     |     |     |         |      |      |         |     |        |     |      |     |         |      |     |     |      |\\n| 15 | United Kingdom     | York Potash Holdings Limited                           | Yes     | Yes     |         |       |       |     |     |     |         |      |      |         |     |        |     |      |     |         |      |     |     |      |\\n| 16 | United Kingdom     | York Potash Intermediate Holdings Plc                  | Yes     | Yes     |         |       |       |     |     |     |         |      |      |         |     |        |     |      |     |         |      |     |     |      |\\n| 17 | United Kingdom     | York Potash Ltd                                        | Yes     | Yes     |         |       |       |     |     |     |         |      |      |         |     |        |     |      |     |         |      |     |     |      |\\n| 18 | United Kingdom     | York Potash Processing Ports Limited                   |         |         |         |       |       |     |     |     |         |      |      |         |     |        |     |      |     |         |      |     |     |      |\\n| 19 | United Kingdom     | YPF Ltd                                                | Yes     |         |         |       |       |     |     |     |         |      |      |         |     |        |     |      |     |         |      |     |     |      |\\n| 20 | United Kingdom     | Anglo American Corporation de Chile Holdings Limited ) | ited )  | Yes     | Yes     |       |       |     |     |     |         |      |      |         |     |        |     |      |     |         |      |     |     |      |\\n| 21 | United Kingdom     | Anglo American Exploration (Philippines) BV.(5)        | Yes     | Yes     |         |       |       |     |     |     |         |      |      |         |     |        |     |      |     |         |      |     |     |      |\\n| 22 | United Kingdom     | Anglo American Exploration B.V.(5)                     | Yes     | Yes     |         |       |       |     |     |     |         |      |      |         |     |        |     |      |     |         |      |     |     |      |\\n| 23 | United Kingdom     | Anglo American International B.V.(5)                   | Yes     | Yes     |         |       |       |     |     |     |         |      |      |         |     |        |     |      |     |         |      |     |     |      |\\n| 24 | United Kingdom     | Anglo American International Limited(z)                | Yes     | Yes     |         |       |       |     |     |     |         |      |      |         |     |        |     |      |     |         |      |     |     |      |\\n| 25 | United Kingdom     | Anglo American Netherlands B.V.(5)                     | Yes     | Yes     |         |       |       |     |     |     |         |      |      |         |     |        |     |      |     |         |      |     |     |      |\\n| 26 | United Kingdom     | Anglo Operations (Netherlands) B.V.(5)                 | Yes     | Yes     |         |       |       |     |     |     |         |      |      |         |     |        |     |      |     |         |      |     |     |      |\\n| 27 | United Kingdom     | De Beers Centenary AG()                                | Yes     | 2S      | Yes     | Yes   |       |     |     |     |         |      |      |         |     |        |     |      |     |         |      |     |     |      |\\nSummary:\\n- United Kingdom\\n- Anglo South American Investments Limited\\n- Lightbox Jewelry Ltd.\\n- De Beers Centenary Limited\\n- De Beers Jewellers Limited\\n- De Beers Jewellers Trade Mark Limited\\n- De Beers Jewellers UK Limited\\n- Anglo American Medical Plan Trust\\n- Anglo American Projects UK Limited\\n- Anglo American Woodsmith Limited\\n- Sach Limited\\n- Sach 2 Limited\\n- Sirius Minerals', metadata={'doc_id': '2500b92b-9c6f-49f2-ae62-668ce5f6e304'}),\n",
       " Document(page_content=\"Human: \\nYou are an assistant responsible for extracting information from markdown tables.\\nExtract in a string all the key words and themes from the markdown table below, and add as many words from their lexical fields.\\n\\nGuidelines:\\n- If country names are present in the table, list them all in the summary.\\n- If financial KPIs are present in the table, list them all in the summary.\\n\\nTable: |    | Tax Jurisdiction   | 8 Name H                                                                 | 8 H                           | 6 H+                       | 6 U   | C     | 0 U   | 0 H   | 5 U   | 7   | H   | 1 1 3   | 1 1 3   | J   | J   | Ubl   | 8 1 6   | L]   | Iu   | 8 1 L   | 82 HL   | 1   | 8   | 4 UL   |\\n|---:|:-------------------|:-------------------------------------------------------------------------|:------------------------------|:---------------------------|:------|:------|:------|:------|:------|:----|:----|:--------|:--------|:----|:----|:------|:--------|:-----|:-----|:--------|:--------|:----|:----|:-------|\\n|  1 | Canada             | De Beers Canada Inc.                                                     | Yes                           | Yes                        |       |       |       |       |       |     |     |         |         |     |     |       |         |      |      |         |         |     |     |        |\\n|  2 | Canada             | Peace River Coal Inc                                                     | Yes                           | Yes                        |       |       |       |       |       |     |     |         |         |     |     |       |         |      |      |         |         |     |     |        |\\n|  3 | Canada             | Auspotash Corporation                                                    | Yes                           |                            |       |       |       |       |       |     |     |         |         |     |     |       |         |      |      |         |         |     |     |        |\\n|  4 | Chile              | Anglo American Chile Ltda                                                | Yes                           |                            |       |       |       |       |       |     |     |         |         |     |     |       |         |      |      |         |         |     |     |        |\\n|  5 | Chile              | Anglo American Sur S.A.                                                  | Yes                           |                            |       |       |       |       |       |     |     |         |         |     |     |       |         |      |      |         |         |     |     |        |\\n|  6 | Chile              | Compahia Minera Dona Ines De Collahuasi SCM                              | Yes                           |                            |       |       |       |       |       |     |     |         |         |     |     |       |         |      |      |         |         |     |     |        |\\n|  7 | Chile              | Compahia Minera Westwall S.C.M                                           | Yes Explc                     | ploration                  |       |       |       |       |       |     |     |         |         |     |     |       |         |      |      |         |         |     |     |        |\\n|  8 | Chile              | Inversiones Anglo American Norte SpA                                     | Yes                           |                            |       |       |       |       |       |     |     |         |         |     |     |       |         |      |      |         |         |     |     |        |\\n|  9 | Chile              | Anglo American Copper Finance SpA                                        | Yes                           |                            |       |       |       |       |       |     |     |         |         |     |     |       |         |      |      |         |         |     |     |        |\\n| 10 | Chile              | Anglo American Marketing Chile SpA                                       | Yes                           | Yes                        |       |       |       |       |       |     |     |         |         |     |     |       |         |      |      |         |         |     |     |        |\\n| 11 | Chile              | Anglo American Technical & Sustainability Services Ltd, Agencia en Chile | Yes                           |                            |       |       |       |       |       |     |     |         |         |     |     |       |         |      |      |         |         |     |     |        |\\n| 12 | Chile              | Inversiones Anglo American Sur SpA                                       | Yes                           |                            |       |       |       |       |       |     |     |         |         |     |     |       |         |      |      |         |         |     |     |        |\\n| 13 | Chile              | Inversiones Minorco Chile SpA                                            | Yes                           |                            |       |       |       |       |       |     |     |         |         |     |     |       |         |      |      |         |         |     |     |        |\\n| 14 | China              | Element Six Trading (Shanghai) Co. Ltd                                   | Yes                           | Yes                        |       |       |       |       |       |     |     |         |         |     |     |       |         |      |      |         |         |     |     |        |\\n| 15 | China              | Forevermark Marketing (Shanghai) Company Limited                         | Yes                           | Yes                        | Yes   |       |       |       |       |     |     |         |         |     |     |       |         |      |      |         |         |     |     |        |\\n| 16 | China              | Forevermark Marketing (Shanghai) Limited,Xi'an No. Branch                | anch                          | Yes                        | Yes   |       |       |       |       |     |     |         |         |     |     |       |         |      |      |         |         |     |     |        |\\n| 17 | China              | Forevermark Marketing Shanghai Company Limited Beijing Branch            | Yes                           | Yes                        |       |       |       |       |       |     |     |         |         |     |     |       |         |      |      |         |         |     |     |        |\\n| 18 | China              | Forevermark Marketing Shanghai Company Limited Shanghai Branch           | Yes                           | Yes                        |       |       |       |       |       |     |     |         |         |     |     |       |         |      |      |         |         |     |     |        |\\n| 19 | China              | Platinum Guild International (Shanghai) Co. Limited                      | Yes Consu market res and pron | sultancy research romotion |       |       |       |       |       |     |     |         |         |     |     |       |         |      |      |         |         |     |     |        |\\n| 20 | China              | Anglo American Resources Trading (China) Co. Ltd.                        | Yes                           | Yes                        |       |       |       |       |       |     |     |         |         |     |     |       |         |      |      |         |         |     |     |        |\\n| 21 | China              | De Beers Jewellers Commercial (Shanghai) Co, Ltd                         | Yes                           | Yes                        |       |       |       |       |       |     |     |         |         |     |     |       |         |      |      |         |         |     |     |        |\\n| 22 | Colombia           | Anglo American Colombia Exploration S.A                                  | Yes                           |                            |       |       |       |       |       |     |     |         |         |     |     |       |         |      |      |         |         |     |     |        |\\nSummary:\\n- Canada\\n- Chile\\n- China\\n- Colombia\\n- Financial KPIs:\\n- Tax Jurisdiction:\\n- 8 Name H\\n- 8 H\\n- 6 H+\\n- 6 U\\n- C\\n- 0 U\\n- 0 H\\n- 5 U\\n- 7\\n- H\\n- 1 1 3\\n- 1 1 3\\n- J\\n- J\\n- Ubl\\n\", metadata={'doc_id': 'ed91a993-561a-47cb-87c3-7f34517a27f2'})]"
      ]
     },
     "execution_count": 19,
     "metadata": {},
     "output_type": "execute_result"
    }
   ],
   "source": [
    "table_ids = [str(uuid.uuid4()) for _ in tables]\n",
    "summary_tables = [\n",
    "    Document(page_content=s, metadata={id_key: table_ids[i]})\n",
    "    for i, s in enumerate(table_summaries)\n",
    "]\n",
    "summary_tables[:5]"
   ]
  },
  {
   "cell_type": "code",
   "execution_count": 20,
   "metadata": {},
   "outputs": [
    {
     "name": "stderr",
     "output_type": "stream",
     "text": [
      "Batches:   0%|          | 0/26 [00:00<?, ?it/s]"
     ]
    },
    {
     "name": "stderr",
     "output_type": "stream",
     "text": [
      "Batches: 100%|██████████| 26/26 [00:13<00:00,  1.87it/s]\n"
     ]
    }
   ],
   "source": [
    "# Add tables\n",
    "retriever.vectorstore.add_documents(summary_tables)\n",
    "retriever.docstore.mset(list(zip(table_ids, tables)))"
   ]
  },
  {
   "cell_type": "markdown",
   "metadata": {},
   "source": [
    "# 2. RAG\n",
    "---"
   ]
  },
  {
   "cell_type": "markdown",
   "metadata": {},
   "source": [
    "## Testing simple retrieval"
   ]
  },
  {
   "cell_type": "code",
   "execution_count": 21,
   "metadata": {},
   "outputs": [
    {
     "name": "stderr",
     "output_type": "stream",
     "text": [
      "Batches:   0%|          | 0/1 [00:00<?, ?it/s]"
     ]
    },
    {
     "name": "stderr",
     "output_type": "stream",
     "text": [
      "Batches: 100%|██████████| 1/1 [00:00<00:00, 19.25it/s]\n"
     ]
    },
    {
     "data": {
      "text/plain": [
       "[Document(page_content='|    | Tax Jurisdiction   | Name                                                    | 8: H                             | 6 Lu                   | 6 Hh     | 6 3 I   | 6 H   | 6 U   | 5  5 7 5   | 0 7 UHh 6   | 1 6 L   | U   | 8 Ih   | Ul   | 8 1L   | 1   | Iu   | Iu   | 1 1 1 1   | 1 1 V   | L   | 8   | 1 UL   |\\n|---:|:-------------------|:--------------------------------------------------------|:---------------------------------|:-----------------------|:---------|:--------|:------|:------|:-----------|:------------|:--------|:----|:-------|:-----|:-------|:----|:-----|:-----|:----------|:--------|:----|:----|:-------|\\n|  1 | Isle of Man        | Element Six (Legacy Pensions) Limited                   | Yes                              | 2S                     |          |         |       |       |            |             |         |     |        |      |        |     |      |      |           |         |     |     |        |\\n|  2 | Israel             | De Beers Auction Sales Israel Ltd                       | Yes                              | 2S                     |          |         |       |       |            |             |         |     |        |      |        |     |      |      |           |         |     |     |        |\\n|  3 | Italy              | Forevermark Italy S.R.L.                                | Yes Yes                          | S                      | 2S       |         |       |       |            |             |         |     |        |      |        |     |      |      |           |         |     |     |        |\\n|  4 | Japan              | Element Six Limited                                     | Yes                              | S                      |          |         |       |       |            |             |         |     |        |      |        |     |      |      |           |         |     |     |        |\\n|  5 | Japan              | Forevermark KK                                          | Yes Yes                          | S                      | 2S       |         |       |       |            |             |         |     |        |      |        |     |      |      |           |         |     |     |        |\\n|  6 | Japan              | PGIKK                                                   | (es Consult market rese and prom | ultancy esearch motion |          |         |       |       |            |             |         |     |        |      |        |     |      |      |           |         |     |     |        |\\n|  7 | Japan              | De Beers Jewellers Japan K.K                            | Yes                              | S                      |          |         |       |       |            |             |         |     |        |      |        |     |      |      |           |         |     |     |        |\\n|  8 | Luxembourg         | Kumba Iron Ore Holdings Sarl                            | Yes                              |                        |          |         |       |       |            |             |         |     |        |      |        |     |      |      |           |         |     |     |        |\\n|  9 | Macau              | De Beers Jewellers (Macau) Company Limited              | Yes                              | S                      |          |         |       |       |            |             |         |     |        |      |        |     |      |      |           |         |     |     |        |\\n| 10 | Mexico             | Anglo American Mexico S.A. de CV.                       | Yes                              |                        |          |         |       |       |            |             |         |     |        |      |        |     |      |      |           |         |     |     |        |\\n| 11 | Mexico             | Servicios Anglo American Mexico S.A. de C.V.            | Yes                              | Explor                 | loration |         |       |       |            |             |         |     |        |      |        |     |      |      |           |         |     |     |        |\\n| 12 | Mozambique         | Anglo American Corporation Mocambique Servicos Limitada | Yes                              |                        |          |         |       |       |            |             |         |     |        |      |        |     |      |      |           |         |     |     |        |\\n| 13 | Namibia            | Ambase Prospecting (Namibia) (Pty) Ltd                  | (es Explor                       | loration               |          |         |       |       |            |             |         |     |        |      |        |     |      |      |           |         |     |     |        |\\n| 14 | Namibia            | De Beers Marine Namibia (Pty) Ltd                       |                                  |                        |          |         |       |       |            |             |         |     |        |      |        |     |      |      |           |         |     |     |        |\\n| 15 | Namibia            | De Beers Namibia Holdings (Pty) Ltd                     | Yes                              |                        |          |         |       |       |            |             |         |     |        |      |        |     |      |      |           |         |     |     |        |\\n| 16 | Namibia            | Debmarine Namdeb Foundation                             | Yes                              | 2S                     |          |         |       |       |            |             |         |     |        |      |        |     |      |      |           |         |     |     |        |\\n| 17 | Namibia            | DTC Valuations Namibia (Pty) Ltd                        | Yes                              |                        |          |         |       |       |            |             |         |     |        |      |        |     |      |      |           |         |     |     |        |\\n| 18 | Namibia            | Exclusive Properties (Pty) Ltd                          | Yes                              | 2S                     |          |         |       |       |            |             |         |     |        |      |        |     |      |      |           |         |     |     |        |\\n| 19 | Namibia            | Longboat Trading (Pty) Ltd                              | Yes                              | Not mane               | anaged   |         |       |       |            |             |         |     |        |      |        |     |      |      |           |         |     |     |        |\\n| 20 | Namibia            | Namdeb Diamond Corporation (Pty) Ltd                    |                                  |                        |          |         |       |       |            |             |         |     |        |      |        |     |      |      |           |         |     |     |        |\\n| 21 | Namibia            | Namdeb Holdings (Pty) Ltd                               | Yes                              |                        |          |         |       |       |            |             |         |     |        |      |        |     |      |      |           |         |     |     |        |\\n| 22 | Namibia            | Namdeb Hospital Pharmacy (Pty) Ltd                      | Yes                              | 2S                     |          |         |       |       |            |             |         |     |        |      |        |     |      |      |           |         |     |     |        |\\n| 23 | Namibia            | Namdeb Properties (Pty) Ltd                             | Yes                              | 2S                     |          |         |       |       |            |             |         |     |        |      |        |     |      |      |           |         |     |     |        |\\n| 24 | Namibia            | Namibia Diamond Trading Company (Pty) Ltd               | Yes                              | S                      |          |         |       |       |            |             |         |     |        |      |        |     |      |      |           |         |     |     |        |\\n| 25 | Namibia            | Oranjemund Town Management Company (Pty) Ltd            | Yes                              | 2S                     |          |         |       |       |            |             |         |     |        |      |        |     |      |      |           |         |     |     |        |', metadata={'page': 12, 'summary': 'Human: \\nYou are an assistant responsible for extracting information from markdown tables.\\nExtract in a string all the key words and themes from the markdown table below, and add as many words from their lexical fields.\\n\\nGuidelines:\\n- If country names are present in the table, list them all in the summary.\\n- If financial KPIs are present in the table, list them all in the summary.\\n\\nTable: |    | Tax Jurisdiction   | Name                                                    | 8: H                             | 6 Lu                   | 6 Hh     | 6 3 I   | 6 H   | 6 U   | 5  5 7 5   | 0 7 UHh 6   | 1 6 L   | U   | 8 Ih   | Ul   | 8 1L   | 1   | Iu   | Iu   | 1 1 1 1   | 1 1 V   | L   | 8   | 1 UL   |\\n|---:|:-------------------|:--------------------------------------------------------|:---------------------------------|:-----------------------|:---------|:--------|:------|:------|:-----------|:------------|:--------|:----|:-------|:-----|:-------|:----|:-----|:-----|:----------|:--------|:----|:----|:-------|\\n|  1 | Isle of Man        | Element Six (Legacy Pensions) Limited                   | Yes                              | 2S                     |          |         |       |       |            |             |         |     |        |      |        |     |      |      |           |         |     |     |        |\\n|  2 | Israel             | De Beers Auction Sales Israel Ltd                       | Yes                              | 2S                     |          |         |       |       |            |             |         |     |        |      |        |     |      |      |           |         |     |     |        |\\n|  3 | Italy              | Forevermark Italy S.R.L.                                | Yes Yes                          | S                      | 2S       |         |       |       |            |             |         |     |        |      |        |     |      |      |           |         |     |     |        |\\n|  4 | Japan              | Element Six Limited                                     | Yes                              | S                      |          |         |       |       |            |             |         |     |        |      |        |     |      |      |           |         |     |     |        |\\n|  5 | Japan              | Forevermark KK                                          | Yes Yes                          | S                      | 2S       |         |       |       |            |             |         |     |        |      |        |     |      |      |           |         |     |     |        |\\n|  6 | Japan              | PGIKK                                                   | (es Consult market rese and prom | ultancy esearch motion |          |         |       |       |            |             |         |     |        |      |        |     |      |      |           |         |     |     |        |\\n|  7 | Japan              | De Beers Jewellers Japan K.K                            | Yes                              | S                      |          |         |       |       |            |             |         |     |        |      |        |     |      |      |           |         |     |     |        |\\n|  8 | Luxembourg         | Kumba Iron Ore Holdings Sarl                            | Yes                              |                        |          |         |       |       |            |             |         |     |        |      |        |     |      |      |           |         |     |     |        |\\n|  9 | Macau              | De Beers Jewellers (Macau) Company Limited              | Yes                              | S                      |          |         |       |       |            |             |         |     |        |      |        |     |      |      |           |         |     |     |        |\\n| 10 | Mexico             | Anglo American Mexico S.A. de CV.                       | Yes                              |                        |          |         |       |       |            |             |         |     |        |      |        |     |      |      |           |         |     |     |        |\\n| 11 | Mexico             | Servicios Anglo American Mexico S.A. de C.V.            | Yes                              | Explor                 | loration |         |       |       |            |             |         |     |        |      |        |     |      |      |           |         |     |     |        |\\n| 12 | Mozambique         | Anglo American Corporation Mocambique Servicos Limitada | Yes                              |                        |          |         |       |       |            |             |         |     |        |      |        |     |      |      |           |         |     |     |        |\\n| 13 | Namibia            | Ambase Prospecting (Namibia) (Pty) Ltd                  | (es Explor                       | loration               |          |         |       |       |            |             |         |     |        |      |        |     |      |      |           |         |     |     |        |\\n| 14 | Namibia            | De Beers Marine Namibia (Pty) Ltd                       |                                  |                        |          |         |       |       |            |             |         |     |        |      |        |     |      |      |           |         |     |     |        |\\n| 15 | Namibia            | De Beers Namibia Holdings (Pty) Ltd                     | Yes                              |                        |          |         |       |       |            |             |         |     |        |      |        |     |      |      |           |         |     |     |        |\\n| 16 | Namibia            | Debmarine Namdeb Foundation                             | Yes                              | 2S                     |          |         |       |       |            |             |         |     |        |      |        |     |      |      |           |         |     |     |        |\\n| 17 | Namibia            | DTC Valuations Namibia (Pty) Ltd                        | Yes                              |                        |          |         |       |       |            |             |         |     |        |      |        |     |      |      |           |         |     |     |        |\\n| 18 | Namibia            | Exclusive Properties (Pty) Ltd                          | Yes                              | 2S                     |          |         |       |       |            |             |         |     |        |      |        |     |      |      |           |         |     |     |        |\\n| 19 | Namibia            | Longboat Trading (Pty) Ltd                              | Yes                              | Not mane               | anaged   |         |       |       |            |             |         |     |        |      |        |     |      |      |           |         |     |     |        |\\n| 20 | Namibia            | Namdeb Diamond Corporation (Pty) Ltd                    |                                  |                        |          |         |       |       |            |             |         |     |        |      |        |     |      |      |           |         |     |     |        |\\n| 21 | Namibia            | Namdeb Holdings (Pty) Ltd                               | Yes                              |                        |          |         |       |       |            |             |         |     |        |      |        |     |      |      |           |         |     |     |        |\\n| 22 | Namibia            | Namdeb Hospital Pharmacy (Pty) Ltd                      | Yes                              | 2S                     |          |         |       |       |            |             |         |     |        |      |        |     |      |      |           |         |     |     |        |\\n| 23 | Namibia            | Namdeb Properties (Pty) Ltd                             | Yes                              | 2S                     |          |         |       |       |            |             |         |     |        |      |        |     |      |      |           |         |     |     |        |\\n| 24 | Namibia            | Namibia Diamond Trading Company (Pty) Ltd               | Yes                              | S                      |          |         |       |       |            |             |         |     |        |      |        |     |      |      |           |         |     |     |        |\\n| 25 | Namibia            | Oranjemund Town Management Company (Pty) Ltd            | Yes                              | 2S                     |          |         |       |       |            |             |         |     |        |      |        |     |      |      |           |         |     |     |        |\\nSummary:\\n- Country: Isle of Man, Israel, Italy, Japan, Japan, Japan, Japan, Luxembourg, Macau, Mexico, Mexico, Mozambique, Namibia, Namibia, Namibia, Namibia, Namibia, Namibia, Namibia, Namibia, Namibia, Namibia, Namibia, Namibia, Namibia, Namibia, Namibia, Namibia, Nam'}),\n",
       " Document(page_content='|    | Tax Jurisdiction            | Name                                                           | 4 5 1220 0 0   | 0 _ 2 & 6 & 426 & 0 651 Ei                                                                      | 0 f1 ci& 2 I 6 =   | 5           | 5 6   | 4 2   |\\n|---:|:----------------------------|:---------------------------------------------------------------|:---------------|:------------------------------------------------------------------------------------------------|:-------------------|:------------|:------|:------|\\n|  1 | Netherlands                 | Element Six N.V.                                               | Yes            | es                                                                                              |                    |             |       |       |\\n|  2 | Papua New Guinea            | Anglo American Exploration (PNG) Limited                       | Yes            | es                                                                                              |                    |             |       |       |\\n|  3 | Papua New Guinea            | Anglo American (Star Mountain) Limited                         | Yes            | es                                                                                              |                    |             |       |       |\\n|  4 | Peru                        | Anglo American Peru S.A.                                       | Yes            | Yes                                                                                             | Exploration        |             |       |       |\\n|  5 | Peru                        | Anglo American Quellaveco S.A.                                 | Yes            |                                                                                                 |                    |             |       |       |\\n|  6 | Peru                        | Anglo American Servicios Peru S.A.                             | Yes            | Yes                                                                                             | es                 |             |       |       |\\n|  7 | Peru                        | Asociacion Michiquillay                                        | Yes            | Not-- organization: Development and execution for Social Responsability Droarammoc -for- profit |                    |             |       |       |\\n|  8 | Peru                        | Asociacion Quellaveco                                          | Yes            | Not- profit organization: Development and execution for Social Responsability Programmes for-   |                    |             |       |       |\\n|  9 | Peru                        | Cobre del Norte S.A.                                           | Yes            |                                                                                                 |                    |             |       |       |\\n| 10 | Peru                        | Anglo American Marketing Peru S.A.                             | Yes            | Not active yet                                                                                  |                    |             |       |       |\\n| 11 | Peru                        | Anglo American Technical & Sustainability Services Ltd Peru PE | Yes            | Not active yet                                                                                  |                    |             |       |       |\\n| 12 | Philippines                 | Anglo American Exploration (Philippines) Inc.                  | Yes            | Yes                                                                                             | es                 |             |       |       |\\n| 13 | Republic of North Macedonia | Anglo American Exploration West Tetyan Skopje                  | Yes            | Yes                                                                                             | es                 | Exploration |       |       |\\n| 14 | Sierra Leone                | Gemfair (SL) Limited                                           | Yes            |                                                                                                 |                    |             |       |       |\\n| 15 | Singapore                   | Anglo American STF Pte: Ltd.                                   | Yes            |                                                                                                 |                    |             |       |       |\\n| 16 | Singapore                   | Anglo American Marketing Limited Singapore branch              | Yes            |                                                                                                 |                    |             |       |       |\\n| 17 | Singapore                   | Anglo Platinum Marketing Limited Singapore branch              | Yes            |                                                                                                 |                    |             |       |       |', metadata={'page': 13, 'summary': 'Human: \\nYou are an assistant responsible for extracting information from markdown tables.\\nExtract in a string all the key words and themes from the markdown table below, and add as many words from their lexical fields.\\n\\nGuidelines:\\n- If country names are present in the table, list them all in the summary.\\n- If financial KPIs are present in the table, list them all in the summary.\\n\\nTable: |    | Tax Jurisdiction            | Name                                                           | 4 5 1220 0 0   | 0 _ 2 & 6 & 426 & 0 651 Ei                                                                      | 0 f1 ci& 2 I 6 =   | 5           | 5 6   | 4 2   |\\n|---:|:----------------------------|:---------------------------------------------------------------|:---------------|:------------------------------------------------------------------------------------------------|:-------------------|:------------|:------|:------|\\n|  1 | Netherlands                 | Element Six N.V.                                               | Yes            | es                                                                                              |                    |             |       |       |\\n|  2 | Papua New Guinea            | Anglo American Exploration (PNG) Limited                       | Yes            | es                                                                                              |                    |             |       |       |\\n|  3 | Papua New Guinea            | Anglo American (Star Mountain) Limited                         | Yes            | es                                                                                              |                    |             |       |       |\\n|  4 | Peru                        | Anglo American Peru S.A.                                       | Yes            | Yes                                                                                             | Exploration        |             |       |       |\\n|  5 | Peru                        | Anglo American Quellaveco S.A.                                 | Yes            |                                                                                                 |                    |             |       |       |\\n|  6 | Peru                        | Anglo American Servicios Peru S.A.                             | Yes            | Yes                                                                                             | es                 |             |       |       |\\n|  7 | Peru                        | Asociacion Michiquillay                                        | Yes            | Not-- organization: Development and execution for Social Responsability Droarammoc -for- profit |                    |             |       |       |\\n|  8 | Peru                        | Asociacion Quellaveco                                          | Yes            | Not- profit organization: Development and execution for Social Responsability Programmes for-   |                    |             |       |       |\\n|  9 | Peru                        | Cobre del Norte S.A.                                           | Yes            |                                                                                                 |                    |             |       |       |\\n| 10 | Peru                        | Anglo American Marketing Peru S.A.                             | Yes            | Not active yet                                                                                  |                    |             |       |       |\\n| 11 | Peru                        | Anglo American Technical & Sustainability Services Ltd Peru PE | Yes            | Not active yet                                                                                  |                    |             |       |       |\\n| 12 | Philippines                 | Anglo American Exploration (Philippines) Inc.                  | Yes            | Yes                                                                                             | es                 |             |       |       |\\n| 13 | Republic of North Macedonia | Anglo American Exploration West Tetyan Skopje                  | Yes            | Yes                                                                                             | es                 | Exploration |       |       |\\n| 14 | Sierra Leone                | Gemfair (SL) Limited                                           | Yes            |                                                                                                 |                    |             |       |       |\\n| 15 | Singapore                   | Anglo American STF Pte: Ltd.                                   | Yes            |                                                                                                 |                    |             |       |       |\\n| 16 | Singapore                   | Anglo American Marketing Limited Singapore branch              | Yes            |                                                                                                 |                    |             |       |       |\\n| 17 | Singapore                   | Anglo Platinum Marketing Limited Singapore branch              | Yes            |                                                                                                 |                    |             |       |       |\\nSummary:\\n- Netherlands\\n- Papua New Guinea\\n- Peru\\n- Philippines\\n- Republic of North Macedonia\\n- Sierra Leone\\n- Singapore\\n\\nFinancial KPIs:\\n- es\\n- Yes\\n- Yes\\n- Yes\\n- Yes\\n- Yes\\n- Yes\\n- Yes\\n- Yes\\n- Yes\\n- Yes\\n- Yes\\n- Yes\\n- Yes\\n- Yes\\n- Yes\\n- Yes\\n- Yes\\n- Yes\\n- Yes'}),\n",
       " Document(page_content='|    | Tax Jurisdiction   | Name 2 8 222                                                         | 2 22 2 2     | 2 2 2             | 2 2 28   | 2 8 3          | 2 3                 | 8 2 8 9   | 2 G 2 %3 3   | 2 64 2 #52 2   | 5 2 44 2   | 2 2   | 2 & 2   | 8   | 6   | 24   |\\n|---:|:-------------------|:---------------------------------------------------------------------|:-------------|:------------------|:---------|:---------------|:--------------------|:----------|:-------------|:---------------|:-----------|:------|:--------|:----|:----|:-----|\\n|  1 | Australia          | Anglo Coal (Grosvenor Management) Pty Ltd                            | Yes          | Yes               |          |                |                     |           |              |                |            |       |         |     |     |      |\\n|  2 | Australia          | Anglo Coal (Grosvenor) Ltd Pty                                       | Yes          | Yes               | Yes      |                |                     |           |              |                |            |       |         |     |     |      |\\n|  3 | Australia          | Anglo Coal (Jellinbah) Holdings Pty Ltd                              | Yes          |                   |          |                |                     |           |              |                |            |       |         |     |     |      |\\n|  4 | Australia          | Anglo Coal (Moranbah North Management) Limited Pty                   | Yes          | Yes               |          |                |                     |           |              |                |            |       |         |     |     |      |\\n|  5 | Australia          | Anglo Coal (Roper Creek) Ltd Pty                                     | Yes          | Yes               | Yes      |                |                     |           |              |                |            |       |         |     |     |      |\\n|  6 | Australia          | Anglo Coal (Theodore South) Pty Ltd                                  | Yes          | Yes               | Yes      | Yes JV part Co | participant company |           |              |                |            |       |         |     |     |      |\\n|  7 | Australia          | Anglo Operations (Australia) Ltd Pty                                 | Yes          |                   |          |                |                     |           |              |                |            |       |         |     |     |      |\\n|  8 | Australia          | Dawson Coal Processing Pty Ltd                                       | Yes Emplc CO | mployment company |          |                |                     |           |              |                |            |       |         |     |     |      |\\n|  9 | Australia          | Dawson Highwall Mining Pty Ltd                                       | Yes          |                   |          |                |                     |           |              |                |            |       |         |     |     |      |\\n| 10 | Australia          | Dawson Sales Pty Lta                                                 | Yes          |                   |          |                |                     |           |              |                |            |       |         |     |     |      |\\n| 11 | Australia          | Dawson South Sales Pty Ltd                                           | Yes          |                   |          |                |                     |           |              |                |            |       |         |     |     |      |\\n| 12 | F4o Auctrelic      | L DU Du Do Roorc Uctrelia loration imited                            |              |                   |          |                |                     |           |              |                |            |       |         |     |     |      |\\n| 13 | Auctrelic          | Carman reolk Dti_ imitad                                             | Ya           |                   |          |                |                     |           |              |                |            |       |         |     |     |      |\\n| 14 | Auctrolic          | lenc Ptv imited                                                      | Yes          |                   |          |                |                     |           |              |                |            |       |         |     |     |      |\\n| 15 | Australia          | Monash Energy Coal Limited                                           | Yes          |                   |          |                |                     |           |              |                |            |       |         |     |     |      |\\n| 16 | Australia          | Moranbah North Coal (No2) Pty Ltd                                    | Yes          | Yes               | Yes      |                |                     |           |              |                |            |       |         |     |     |      |\\n| 17 | Australia          | Moranbah North Coal (Sales) Pty Ltd                                  | Yes          |                   |          |                |                     |           |              |                |            |       |         |     |     |      |\\n| 18 | Australia          | Jena Unit Trust                                                      | Yes          | Yes               | Yes      |                |                     |           |              |                |            |       |         |     |     |      |\\n| 19 | Australia          | Anglo American Technical & Sustainability Services Australia Branch  | Yes          | Yes               |          |                |                     |           |              |                |            |       |         |     |     |      |\\n| 20 | Australia          | Moranbah North Coal Ltd Pty                                          | Yes          | Yes               | Yes      |                |                     |           |              |                |            |       |         |     |     |      |\\n| 21 | Belgium            | De Beers Auction Sales Belgium NV                                    | Yes          | Yes               |          |                |                     |           |              |                |            |       |         |     |     |      |\\n| 22 | Belgium            | International Institute of Diamond Grading and Research (Belgium) NV | Yes          | Yes               | Yes      |                |                     |           |              |                |            |       |         |     |     |      |\\n| 23 | Bermuda            | Coromin Insurance Limited                                            | Yes          | Yes               |          |                |                     |           |              |                |            |       |         |     |     |      |\\n| 24 | Bermuda            | Holdac Insurance Limited                                             | Yes          |                   |          |                |                     |           |              |                |            |       |         |     |     |      |', metadata={'page': 8, 'summary': 'Human: \\nYou are an assistant responsible for extracting information from markdown tables.\\nExtract in a string all the key words and themes from the markdown table below, and add as many words from their lexical fields.\\n\\nGuidelines:\\n- If country names are present in the table, list them all in the summary.\\n- If financial KPIs are present in the table, list them all in the summary.\\n\\nTable: |    | Tax Jurisdiction   | Name 2 8 222                                                         | 2 22 2 2     | 2 2 2             | 2 2 28   | 2 8 3          | 2 3                 | 8 2 8 9   | 2 G 2 %3 3   | 2 64 2 #52 2   | 5 2 44 2   | 2 2   | 2 & 2   | 8   | 6   | 24   |\\n|---:|:-------------------|:---------------------------------------------------------------------|:-------------|:------------------|:---------|:---------------|:--------------------|:----------|:-------------|:---------------|:-----------|:------|:--------|:----|:----|:-----|\\n|  1 | Australia          | Anglo Coal (Grosvenor Management) Pty Ltd                            | Yes          | Yes               |          |                |                     |           |              |                |            |       |         |     |     |      |\\n|  2 | Australia          | Anglo Coal (Grosvenor) Ltd Pty                                       | Yes          | Yes               | Yes      |                |                     |           |              |                |            |       |         |     |     |      |\\n|  3 | Australia          | Anglo Coal (Jellinbah) Holdings Pty Ltd                              | Yes          |                   |          |                |                     |           |              |                |            |       |         |     |     |      |\\n|  4 | Australia          | Anglo Coal (Moranbah North Management) Limited Pty                   | Yes          | Yes               |          |                |                     |           |              |                |            |       |         |     |     |      |\\n|  5 | Australia          | Anglo Coal (Roper Creek) Ltd Pty                                     | Yes          | Yes               | Yes      |                |                     |           |              |                |            |       |         |     |     |      |\\n|  6 | Australia          | Anglo Coal (Theodore South) Pty Ltd                                  | Yes          | Yes               | Yes      | Yes JV part Co | participant company |           |              |                |            |       |         |     |     |      |\\n|  7 | Australia          | Anglo Operations (Australia) Ltd Pty                                 | Yes          |                   |          |                |                     |           |              |                |            |       |         |     |     |      |\\n|  8 | Australia          | Dawson Coal Processing Pty Ltd                                       | Yes Emplc CO | mployment company |          |                |                     |           |              |                |            |       |         |     |     |      |\\n|  9 | Australia          | Dawson Highwall Mining Pty Ltd                                       | Yes          |                   |          |                |                     |           |              |                |            |       |         |     |     |      |\\n| 10 | Australia          | Dawson Sales Pty Lta                                                 | Yes          |                   |          |                |                     |           |              |                |            |       |         |     |     |      |\\n| 11 | Australia          | Dawson South Sales Pty Ltd                                           | Yes          |                   |          |                |                     |           |              |                |            |       |         |     |     |      |\\n| 12 | F4o Auctrelic      | L DU Du Do Roorc Uctrelia loration imited                            |              |                   |          |                |                     |           |              |                |            |       |         |     |     |      |\\n| 13 | Auctrelic          | Carman reolk Dti_ imitad                                             | Ya           |                   |          |                |                     |           |              |                |            |       |         |     |     |      |\\n| 14 | Auctrolic          | lenc Ptv imited                                                      | Yes          |                   |          |                |                     |           |              |                |            |       |         |     |     |      |\\n| 15 | Australia          | Monash Energy Coal Limited                                           | Yes          |                   |          |                |                     |           |              |                |            |       |         |     |     |      |\\n| 16 | Australia          | Moranbah North Coal (No2) Pty Ltd                                    | Yes          | Yes               | Yes      |                |                     |           |              |                |            |       |         |     |     |      |\\n| 17 | Australia          | Moranbah North Coal (Sales) Pty Ltd                                  | Yes          |                   |          |                |                     |           |              |                |            |       |         |     |     |      |\\n| 18 | Australia          | Jena Unit Trust                                                      | Yes          | Yes               | Yes      |                |                     |           |              |                |            |       |         |     |     |      |\\n| 19 | Australia          | Anglo American Technical & Sustainability Services Australia Branch  | Yes          | Yes               |          |                |                     |           |              |                |            |       |         |     |     |      |\\n| 20 | Australia          | Moranbah North Coal Ltd Pty                                          | Yes          | Yes               | Yes      |                |                     |           |              |                |            |       |         |     |     |      |\\n| 21 | Belgium            | De Beers Auction Sales Belgium NV                                    | Yes          | Yes               |          |                |                     |           |              |                |            |       |         |     |     |      |\\n| 22 | Belgium            | International Institute of Diamond Grading and Research (Belgium) NV | Yes          | Yes               | Yes      |                |                     |           |              |                |            |       |         |     |     |      |\\n| 23 | Bermuda            | Coromin Insurance Limited                                            | Yes          | Yes               |          |                |                     |           |              |                |            |       |         |     |     |      |\\n| 24 | Bermuda            | Holdac Insurance Limited                                             | Yes          |                   |          |                |                     |           |              |                |            |       |         |     |     |      |\\nSummary:\\n- Australia\\n- Anglo Coal (Grosvenor Management) Pty Ltd\\n- Anglo Coal (Grosvenor) Ltd Pty\\n- Anglo Coal (Jellinbah) Holdings Pty Ltd\\n- Anglo Coal (Moranbah North Management) Limited Pty\\n- Anglo Coal (Roper Creek) Ltd Pty\\n- Anglo Coal (Theodore South) Pty Ltd\\n- Anglo Operations (Austral'})]"
      ]
     },
     "execution_count": 21,
     "metadata": {},
     "output_type": "execute_result"
    }
   ],
   "source": [
    "retriever.get_relevant_documents(\"Ireland\")"
   ]
  },
  {
   "cell_type": "code",
   "execution_count": 22,
   "metadata": {},
   "outputs": [],
   "source": [
    "def get_top_k_docs(retriever, question, k):\n",
    "    retriever.search_kwargs = {\"k\": k}\n",
    "    docs = retriever.get_relevant_documents(question)\n",
    "    df_docs = dict()\n",
    "    for i, doc in enumerate(docs):\n",
    "        df_docs[\"Doc {}\".format(i+1)] = dict()\n",
    "        df_docs[\"Doc {}\".format(i+1)]['page_content'] = doc.page_content\n",
    "        # df_docs[\"Doc {}\".format(i+1)]['file_name'] = doc.metadata['source']\n",
    "        df_docs[\"Doc {}\".format(i+1)]['page_number'] = doc.metadata['page']\n",
    "        # df_docs[\"Doc {}\".format(i+1)]['content_type'] = (\"tableau\" if doc.metadata['type']=='MarkdownTable' else \"texte\")\n",
    "    return df_docs"
   ]
  },
  {
   "cell_type": "code",
   "execution_count": 23,
   "metadata": {},
   "outputs": [
    {
     "name": "stderr",
     "output_type": "stream",
     "text": [
      "Batches: 100%|██████████| 1/1 [00:00<00:00, 24.27it/s]\n"
     ]
    },
    {
     "data": {
      "text/plain": [
       "{'Doc 1': {'page_content': '|    | nclude cash taxes paid by the     | permanent establishments, the stated capitalis reported by the                                                                     |\\n|---:|:----------------------------------|:-----------------------------------------------------------------------------------------------------------------------------------|\\n|  1 | s reportedbv comnanv              | Number of Employees                                                                                                                |\\n|  2 | negative amountsin Table 1_       | The total number of employees on a full-time equivalent (FTE) basis of allthe constituent entities resident for tax purposesin the |\\n|  3 | Year)                             | relevant taxjurisdiction The number of employeeshas been renorted onthebasis of averaae emnlovmentlevels for thevear               |\\n|  4 | xpense recorded on taxable        |                                                                                                                                    |\\n|  5 | ind of allthe constituententities |                                                                                                                                    |\\n|  6 | ricdic+i L                        | Tangiple Asses Oiner nan Casn ana easn Equivalents                                                                                 |',\n",
       "  'page_number': 24},\n",
       " 'Doc 2': {'page_content': '|    | Tax Jurisdiction   | Name 2 8 222                                                         | 2 22 2 2     | 2 2 2             | 2 2 28   | 2 8 3          | 2 3                 | 8 2 8 9   | 2 G 2 %3 3   | 2 64 2 #52 2   | 5 2 44 2   | 2 2   | 2 & 2   | 8   | 6   | 24   |\\n|---:|:-------------------|:---------------------------------------------------------------------|:-------------|:------------------|:---------|:---------------|:--------------------|:----------|:-------------|:---------------|:-----------|:------|:--------|:----|:----|:-----|\\n|  1 | Australia          | Anglo Coal (Grosvenor Management) Pty Ltd                            | Yes          | Yes               |          |                |                     |           |              |                |            |       |         |     |     |      |\\n|  2 | Australia          | Anglo Coal (Grosvenor) Ltd Pty                                       | Yes          | Yes               | Yes      |                |                     |           |              |                |            |       |         |     |     |      |\\n|  3 | Australia          | Anglo Coal (Jellinbah) Holdings Pty Ltd                              | Yes          |                   |          |                |                     |           |              |                |            |       |         |     |     |      |\\n|  4 | Australia          | Anglo Coal (Moranbah North Management) Limited Pty                   | Yes          | Yes               |          |                |                     |           |              |                |            |       |         |     |     |      |\\n|  5 | Australia          | Anglo Coal (Roper Creek) Ltd Pty                                     | Yes          | Yes               | Yes      |                |                     |           |              |                |            |       |         |     |     |      |\\n|  6 | Australia          | Anglo Coal (Theodore South) Pty Ltd                                  | Yes          | Yes               | Yes      | Yes JV part Co | participant company |           |              |                |            |       |         |     |     |      |\\n|  7 | Australia          | Anglo Operations (Australia) Ltd Pty                                 | Yes          |                   |          |                |                     |           |              |                |            |       |         |     |     |      |\\n|  8 | Australia          | Dawson Coal Processing Pty Ltd                                       | Yes Emplc CO | mployment company |          |                |                     |           |              |                |            |       |         |     |     |      |\\n|  9 | Australia          | Dawson Highwall Mining Pty Ltd                                       | Yes          |                   |          |                |                     |           |              |                |            |       |         |     |     |      |\\n| 10 | Australia          | Dawson Sales Pty Lta                                                 | Yes          |                   |          |                |                     |           |              |                |            |       |         |     |     |      |\\n| 11 | Australia          | Dawson South Sales Pty Ltd                                           | Yes          |                   |          |                |                     |           |              |                |            |       |         |     |     |      |\\n| 12 | F4o Auctrelic      | L DU Du Do Roorc Uctrelia loration imited                            |              |                   |          |                |                     |           |              |                |            |       |         |     |     |      |\\n| 13 | Auctrelic          | Carman reolk Dti_ imitad                                             | Ya           |                   |          |                |                     |           |              |                |            |       |         |     |     |      |\\n| 14 | Auctrolic          | lenc Ptv imited                                                      | Yes          |                   |          |                |                     |           |              |                |            |       |         |     |     |      |\\n| 15 | Australia          | Monash Energy Coal Limited                                           | Yes          |                   |          |                |                     |           |              |                |            |       |         |     |     |      |\\n| 16 | Australia          | Moranbah North Coal (No2) Pty Ltd                                    | Yes          | Yes               | Yes      |                |                     |           |              |                |            |       |         |     |     |      |\\n| 17 | Australia          | Moranbah North Coal (Sales) Pty Ltd                                  | Yes          |                   |          |                |                     |           |              |                |            |       |         |     |     |      |\\n| 18 | Australia          | Jena Unit Trust                                                      | Yes          | Yes               | Yes      |                |                     |           |              |                |            |       |         |     |     |      |\\n| 19 | Australia          | Anglo American Technical & Sustainability Services Australia Branch  | Yes          | Yes               |          |                |                     |           |              |                |            |       |         |     |     |      |\\n| 20 | Australia          | Moranbah North Coal Ltd Pty                                          | Yes          | Yes               | Yes      |                |                     |           |              |                |            |       |         |     |     |      |\\n| 21 | Belgium            | De Beers Auction Sales Belgium NV                                    | Yes          | Yes               |          |                |                     |           |              |                |            |       |         |     |     |      |\\n| 22 | Belgium            | International Institute of Diamond Grading and Research (Belgium) NV | Yes          | Yes               | Yes      |                |                     |           |              |                |            |       |         |     |     |      |\\n| 23 | Bermuda            | Coromin Insurance Limited                                            | Yes          | Yes               |          |                |                     |           |              |                |            |       |         |     |     |      |\\n| 24 | Bermuda            | Holdac Insurance Limited                                             | Yes          |                   |          |                |                     |           |              |                |            |       |         |     |     |      |',\n",
       "  'page_number': 8},\n",
       " 'Doc 3': {'page_content': \"|    | nglo American is a leading global mining company ith a world class portfolio of mining and processing perations and undeveloped resources We provide e metals and minerals to meetthe growing consumer riven demands of the world's developed and maturing conomies Andwe do so in a way thatnot only enerates sustainable returns for our shareholders, ut also strives to make a real and lasting positive ontribution to society:                                                                                                      | We take a responsible approach to the management of taxes, supporting active and constructive engagement with our stakeholders to deliver long-term sustainable value: Our approach to taxis based onthree pillars: responsibility, compliance and transparency: We are proud of our open andtransparent approach to tax reporting: In addition to our mandatory disclosure obligations, we are committed to furthering our involvementin voluntary compliance initiatives, such as the Tax Transparency Code (developed by the Board of Taxation in Australia) the Responsible Tax Principles (developed by the B Team), the Extractive Industries Transparency Initiative (both directly and as part ofthe International Council on Mining and Metals) andthe Tax Transparency Standard GRI 207: Tax 2019 (developed by the Global Reporting Initiative, effective from January 2021). We are active participants in discussions with stakeholders onhow best to continue ourjourney towards clearer; more transparent and more meaningful tax reporting. key key   | Aswe strive to deliver attractive and sustainable returnsto our shareholders, we are acutely aware ofthe potentialvalue creation we can offer to our diverse range of stakeholders: Through our business activities employing people, paying taxes to, and collecting taxes on behalf of,governments, andprocuring from host communities we make a significant and positive contribution to thejurisdictions in which we operate. Beyond our direct mining activities, we create and sustain jobs, build infrastructure, support education and help improvehealthcare for employees and local communities By re-imagining mining; we are improving people's lives: For any enquiries aboutthis document please contact GroupTaxReporting@angloamericancom   |\\n|---:|:------------------------------------------------------------------------------------------------------------------------------------------------------------------------------------------------------------------------------------------------------------------------------------------------------------------------------------------------------------------------------------------------------------------------------------------------------------------------------------------------------------------------------------------|:----------------------------------------------------------------------------------------------------------------------------------------------------------------------------------------------------------------------------------------------------------------------------------------------------------------------------------------------------------------------------------------------------------------------------------------------------------------------------------------------------------------------------------------------------------------------------------------------------------------------------------------------------------------------------------------------------------------------------------------------------------------------------------------------------------------------------------------------------------------------------------------------------------------------------------------------------------------------------------------------------------------------------------------------------------------------|:------------------------------------------------------------------------------------------------------------------------------------------------------------------------------------------------------------------------------------------------------------------------------------------------------------------------------------------------------------------------------------------------------------------------------------------------------------------------------------------------------------------------------------------------------------------------------------------------------------------------------------------------------------------------------------------------------------------------------------------------------------|\\n|  1 | In light of our commitments to comply with GRI 207,we publish our aggregated country-by-country reporting data in accordance with the requirements of GRI 207-4. The main differences between the OECD and GRI 207 standards are () reallocation of withholding taxesto the countryto which thetax is suffered (rather thanthe location ofthe entity paying the withholding taxes), and (ii) an explanation of any significant differences between the effective taxrate suffered andthe statutory tax ratesin each country of operation: |                                                                                                                                                                                                                                                                                                                                                                                                                                                                                                                                                                                                                                                                                                                                                                                                                                                                                                                                                                                                                                                                       |                                                                                                                                                                                                                                                                                                                                                                                                                                                                                                                                                                                                                                                                                                                                                             |\\n|  2 | We have included footnotesto set out points for further clarification where required: This document accompanies, and should be read in conjunction with,the content ofthe Tax and Economic Contribution Renort 202-                                                                                                                                                                                                                                                                                                                       |                                                                                                                                                                                                                                                                                                                                                                                                                                                                                                                                                                                                                                                                                                                                                                                                                                                                                                                                                                                                                                                                       |                                                                                                                                                                                                                                                                                                                                                                                                                                                                                                                                                                                                                                                                                                                                                             |\",\n",
       "  'page_number': 2}}"
      ]
     },
     "execution_count": 23,
     "metadata": {},
     "output_type": "execute_result"
    }
   ],
   "source": [
    "question = \"How many employees in Ireland\"\n",
    "get_top_k_docs(retriever, question, k)"
   ]
  },
  {
   "cell_type": "markdown",
   "metadata": {},
   "source": [
    "## Testing simple RAG"
   ]
  },
  {
   "cell_type": "code",
   "execution_count": 24,
   "metadata": {},
   "outputs": [],
   "source": [
    "retriever.search_kwargs = {\"k\": k}"
   ]
  },
  {
   "cell_type": "code",
   "execution_count": 25,
   "metadata": {},
   "outputs": [],
   "source": [
    "from langchain_core.runnables import RunnablePassthrough\n",
    "from langchain.prompts import ChatPromptTemplate\n",
    "from langchain.schema.output_parser import StrOutputParser\n",
    "\n",
    "# Prompt template\n",
    "template = \"\"\"\n",
    "Answer the question directly, using only the following markdown table as the single element of the list:\n",
    "{context}\n",
    "\n",
    "Question: {question}\n",
    "Answer:\n",
    "\"\"\"\n",
    "prompt = ChatPromptTemplate.from_template(template)\n",
    "\n",
    "# LLM\n",
    "model = get_llm()\n",
    "\n",
    "# RAG pipeline\n",
    "chain = (\n",
    "    {\"context\": retriever, \"question\": RunnablePassthrough()}\n",
    "    | prompt\n",
    "    | model\n",
    "    | StrOutputParser()\n",
    ")"
   ]
  },
  {
   "cell_type": "code",
   "execution_count": 26,
   "metadata": {},
   "outputs": [
    {
     "name": "stderr",
     "output_type": "stream",
     "text": [
      "Batches:   0%|          | 0/1 [00:00<?, ?it/s]"
     ]
    },
    {
     "name": "stderr",
     "output_type": "stream",
     "text": [
      "Batches: 100%|██████████| 1/1 [00:00<00:00, 27.58it/s]\n"
     ]
    }
   ],
   "source": [
    "question = \"How many employees in Ireland?\"\n",
    "result = chain.invoke(question)"
   ]
  },
  {
   "cell_type": "code",
   "execution_count": 27,
   "metadata": {},
   "outputs": [],
   "source": [
    "with open('rag_result.txt', 'w') as f:\n",
    "    f.write(result)"
   ]
  },
  {
   "cell_type": "markdown",
   "metadata": {},
   "source": [
    "## Final chain"
   ]
  },
  {
   "cell_type": "code",
   "execution_count": 28,
   "metadata": {},
   "outputs": [
    {
     "name": "stdout",
     "output_type": "stream",
     "text": [
      "The autoreload extension is already loaded. To reload it, use:\n",
      "  %reload_ext autoreload\n"
     ]
    },
    {
     "name": "stderr",
     "output_type": "stream",
     "text": [
      "Batches: 100%|██████████| 1/1 [00:00<00:00, 33.74it/s]\n",
      "Batches: 100%|██████████| 1/1 [00:00<00:00, 32.08it/s]\n"
     ]
    }
   ],
   "source": [
    "%load_ext autoreload\n",
    "%autoreload 2\n",
    "from country_by_country.rag_engine.rag import Extraction\n",
    "\n",
    "llm = get_llm()\n",
    "chain = Extraction(retriever, llm)\n",
    "questions = [\n",
    "    \"How many employees in Ireland?\",\n",
    "    \"What revenue has been declared in France?\",\n",
    "]\n",
    "\n",
    "df_answers = chain.run(questions)"
   ]
  },
  {
   "cell_type": "code",
   "execution_count": 29,
   "metadata": {},
   "outputs": [
    {
     "data": {
      "text/html": [
       "<div>\n",
       "<style scoped>\n",
       "    .dataframe tbody tr th:only-of-type {\n",
       "        vertical-align: middle;\n",
       "    }\n",
       "\n",
       "    .dataframe tbody tr th {\n",
       "        vertical-align: top;\n",
       "    }\n",
       "\n",
       "    .dataframe thead th {\n",
       "        text-align: right;\n",
       "    }\n",
       "</style>\n",
       "<table border=\"1\" class=\"dataframe\">\n",
       "  <thead>\n",
       "    <tr style=\"text-align: right;\">\n",
       "      <th></th>\n",
       "      <th>question</th>\n",
       "      <th>answer</th>\n",
       "      <th>Doc 1 page</th>\n",
       "      <th>Doc 1 relevant content</th>\n",
       "      <th>Doc 2 page</th>\n",
       "      <th>Doc 2 relevant content</th>\n",
       "      <th>Doc 3 page</th>\n",
       "      <th>Doc 3 relevant content</th>\n",
       "    </tr>\n",
       "  </thead>\n",
       "  <tbody>\n",
       "    <tr>\n",
       "      <th>0</th>\n",
       "      <td>How many employees in Ireland?</td>\n",
       "      <td>Human: \\n    You are an economical expert, wit...</td>\n",
       "      <td>24</td>\n",
       "      <td>|    | nclude cash taxes paid by the     | per...</td>\n",
       "      <td>8</td>\n",
       "      <td>|    | Tax Jurisdiction   | Name 2 8 222      ...</td>\n",
       "      <td>2</td>\n",
       "      <td>|    | nglo American is a leading global minin...</td>\n",
       "    </tr>\n",
       "    <tr>\n",
       "      <th>1</th>\n",
       "      <td>What revenue has been declared in France?</td>\n",
       "      <td>Human: \\n    You are an economical expert, wit...</td>\n",
       "      <td>24</td>\n",
       "      <td>|    | nclude cash taxes paid by the     | per...</td>\n",
       "      <td>2</td>\n",
       "      <td>|    | nglo American is a leading global minin...</td>\n",
       "      <td>24</td>\n",
       "      <td>|    | income and expense items:              ...</td>\n",
       "    </tr>\n",
       "  </tbody>\n",
       "</table>\n",
       "</div>"
      ],
      "text/plain": [
       "                                    question  \\\n",
       "0             How many employees in Ireland?   \n",
       "1  What revenue has been declared in France?   \n",
       "\n",
       "                                              answer  Doc 1 page  \\\n",
       "0  Human: \\n    You are an economical expert, wit...          24   \n",
       "1  Human: \\n    You are an economical expert, wit...          24   \n",
       "\n",
       "                              Doc 1 relevant content  Doc 2 page  \\\n",
       "0  |    | nclude cash taxes paid by the     | per...           8   \n",
       "1  |    | nclude cash taxes paid by the     | per...           2   \n",
       "\n",
       "                              Doc 2 relevant content  Doc 3 page  \\\n",
       "0  |    | Tax Jurisdiction   | Name 2 8 222      ...           2   \n",
       "1  |    | nglo American is a leading global minin...          24   \n",
       "\n",
       "                              Doc 3 relevant content  \n",
       "0  |    | nglo American is a leading global minin...  \n",
       "1  |    | income and expense items:              ...  "
      ]
     },
     "execution_count": 29,
     "metadata": {},
     "output_type": "execute_result"
    }
   ],
   "source": [
    "df_answers"
   ]
  },
  {
   "cell_type": "code",
   "execution_count": 30,
   "metadata": {},
   "outputs": [],
   "source": [
    "# df_answers.to_excel('rag_answers.xlsx', index=False)"
   ]
  },
  {
   "cell_type": "code",
   "execution_count": null,
   "metadata": {},
   "outputs": [],
   "source": []
  }
 ],
 "metadata": {
  "kernelspec": {
   "display_name": "condataxobs",
   "language": "python",
   "name": "python3"
  },
  "language_info": {
   "codemirror_mode": {
    "name": "ipython",
    "version": 3
   },
   "file_extension": ".py",
   "mimetype": "text/x-python",
   "name": "python",
   "nbconvert_exporter": "python",
   "pygments_lexer": "ipython3",
   "version": "3.10.13"
  }
 },
 "nbformat": 4,
 "nbformat_minor": 2
}
