{
 "cells": [
  {
   "cell_type": "code",
   "execution_count": 1,
   "metadata": {},
   "outputs": [],
   "source": [
    "import pandas as pd\n",
    "import langchain\n",
    "import numpy as np\n",
    "import os\n",
    "import json\n",
    "\n",
    "from langchain.document_loaders import DataFrameLoader\n",
    "from langchain.prompts import ChatPromptTemplate\n",
    "from langchain.schema.output_parser import StrOutputParser\n",
    "\n",
    "%load_ext autoreload\n",
    "%autoreload 2\n",
    "\n",
    "import sys\n",
    "sys.path.append('/home/alexis_cunin/12_taxobservatory')\n",
    "\n",
    "import country_by_country\n",
    "from country_by_country.rag_engine.llm import get_llm\n",
    "from country_by_country.rag_engine.rag import Extraction"
   ]
  },
  {
   "cell_type": "markdown",
   "metadata": {},
   "source": [
    "# 1. Build vectorstore\n",
    "---"
   ]
  },
  {
   "cell_type": "markdown",
   "metadata": {},
   "source": [
    "## Parse and create vectorstore"
   ]
  },
  {
   "cell_type": "markdown",
   "metadata": {},
   "source": [
    "##### Create vectorstore"
   ]
  },
  {
   "cell_type": "code",
   "execution_count": 2,
   "metadata": {},
   "outputs": [
    {
     "data": {
      "text/html": [
       "<div>\n",
       "<style scoped>\n",
       "    .dataframe tbody tr th:only-of-type {\n",
       "        vertical-align: middle;\n",
       "    }\n",
       "\n",
       "    .dataframe tbody tr th {\n",
       "        vertical-align: top;\n",
       "    }\n",
       "\n",
       "    .dataframe thead th {\n",
       "        text-align: right;\n",
       "    }\n",
       "</style>\n",
       "<table border=\"1\" class=\"dataframe\">\n",
       "  <thead>\n",
       "    <tr style=\"text-align: right;\">\n",
       "      <th></th>\n",
       "      <th>page_num</th>\n",
       "      <th>md_table</th>\n",
       "    </tr>\n",
       "  </thead>\n",
       "  <tbody>\n",
       "    <tr>\n",
       "      <th>0</th>\n",
       "      <td>24</td>\n",
       "      <td>|    | income and expense items:              ...</td>\n",
       "    </tr>\n",
       "    <tr>\n",
       "      <th>1</th>\n",
       "      <td>23</td>\n",
       "      <td>|    | Tax Jurisdiction   | 8 Name U          ...</td>\n",
       "    </tr>\n",
       "    <tr>\n",
       "      <th>2</th>\n",
       "      <td>3</td>\n",
       "      <td>|    | Revenues                      | Tangibl...</td>\n",
       "    </tr>\n",
       "    <tr>\n",
       "      <th>3</th>\n",
       "      <td>21</td>\n",
       "      <td>|    | Tax Jurisdiction   | Name              ...</td>\n",
       "    </tr>\n",
       "    <tr>\n",
       "      <th>4</th>\n",
       "      <td>10</td>\n",
       "      <td>|    | Tax Jurisdiction   | 8 Name H          ...</td>\n",
       "    </tr>\n",
       "  </tbody>\n",
       "</table>\n",
       "</div>"
      ],
      "text/plain": [
       "   page_num                                           md_table\n",
       "0        24  |    | income and expense items:              ...\n",
       "1        23  |    | Tax Jurisdiction   | 8 Name U          ...\n",
       "2         3  |    | Revenues                      | Tangibl...\n",
       "3        21  |    | Tax Jurisdiction   | Name              ...\n",
       "4        10  |    | Tax Jurisdiction   | 8 Name H          ..."
      ]
     },
     "execution_count": 2,
     "metadata": {},
     "output_type": "execute_result"
    }
   ],
   "source": [
    "file_path = '/home/alexis_cunin/12_taxobservatory/data/AngloAmerican_2021_CbCR/tables_img/md_tables.xlsx'\n",
    "md_tables = pd.read_excel(file_path)\n",
    "md_tables.head()"
   ]
  },
  {
   "cell_type": "code",
   "execution_count": 3,
   "metadata": {},
   "outputs": [
    {
     "data": {
      "text/html": [
       "<div>\n",
       "<style scoped>\n",
       "    .dataframe tbody tr th:only-of-type {\n",
       "        vertical-align: middle;\n",
       "    }\n",
       "\n",
       "    .dataframe tbody tr th {\n",
       "        vertical-align: top;\n",
       "    }\n",
       "\n",
       "    .dataframe thead th {\n",
       "        text-align: right;\n",
       "    }\n",
       "</style>\n",
       "<table border=\"1\" class=\"dataframe\">\n",
       "  <thead>\n",
       "    <tr style=\"text-align: right;\">\n",
       "      <th></th>\n",
       "      <th>text</th>\n",
       "      <th>page</th>\n",
       "    </tr>\n",
       "  </thead>\n",
       "  <tbody>\n",
       "    <tr>\n",
       "      <th>0</th>\n",
       "      <td>|    | income and expense items:              ...</td>\n",
       "      <td>24</td>\n",
       "    </tr>\n",
       "    <tr>\n",
       "      <th>1</th>\n",
       "      <td>|    | Tax Jurisdiction   | 8 Name U          ...</td>\n",
       "      <td>23</td>\n",
       "    </tr>\n",
       "    <tr>\n",
       "      <th>2</th>\n",
       "      <td>|    | Revenues                      | Tangibl...</td>\n",
       "      <td>3</td>\n",
       "    </tr>\n",
       "    <tr>\n",
       "      <th>3</th>\n",
       "      <td>|    | Tax Jurisdiction   | Name              ...</td>\n",
       "      <td>21</td>\n",
       "    </tr>\n",
       "    <tr>\n",
       "      <th>4</th>\n",
       "      <td>|    | Tax Jurisdiction   | 8 Name H          ...</td>\n",
       "      <td>10</td>\n",
       "    </tr>\n",
       "  </tbody>\n",
       "</table>\n",
       "</div>"
      ],
      "text/plain": [
       "                                                text  page\n",
       "0  |    | income and expense items:              ...    24\n",
       "1  |    | Tax Jurisdiction   | 8 Name U          ...    23\n",
       "2  |    | Revenues                      | Tangibl...     3\n",
       "3  |    | Tax Jurisdiction   | Name              ...    21\n",
       "4  |    | Tax Jurisdiction   | 8 Name H          ...    10"
      ]
     },
     "execution_count": 3,
     "metadata": {},
     "output_type": "execute_result"
    }
   ],
   "source": [
    "df_tables = md_tables[['md_table', 'page_num']].rename(columns={\n",
    "    \"md_table\": \"text\",\n",
    "    \"page_num\": \"page\"\n",
    "})\n",
    "df_tables.head()"
   ]
  },
  {
   "cell_type": "markdown",
   "metadata": {},
   "source": [
    "## Table summarization"
   ]
  },
  {
   "cell_type": "code",
   "execution_count": 4,
   "metadata": {},
   "outputs": [],
   "source": [
    "table_loader = DataFrameLoader(df_tables, page_content_column=\"text\")\n",
    "tables = table_loader.load()"
   ]
  },
  {
   "cell_type": "code",
   "execution_count": 5,
   "metadata": {},
   "outputs": [
    {
     "name": "stderr",
     "output_type": "stream",
     "text": [
      "/home/alexis_cunin/anaconda3/envs/condataxobs/lib/python3.10/site-packages/tqdm/auto.py:21: TqdmWarning: IProgress not found. Please update jupyter and ipywidgets. See https://ipywidgets.readthedocs.io/en/stable/user_install.html\n",
      "  from .autonotebook import tqdm as notebook_tqdm\n"
     ]
    },
    {
     "name": "stdout",
     "output_type": "stream",
     "text": [
      "Token has not been saved to git credential helper. Pass `add_to_git_credential=True` if you want to set the git credential as well.\n",
      "Token is valid (permission: write).\n",
      "Your token has been saved to /home/alexis_cunin/.cache/huggingface/token\n",
      "Login successful\n"
     ]
    }
   ],
   "source": [
    "table_prompt_text = \"\"\"\n",
    "You are an assistant responsible for extracting information from markdown tables.\n",
    "Extract in a string all the key words and themes from the markdown table below, and add as many words from their lexical fields.\n",
    "\n",
    "Guidelines:\n",
    "- If country names are present in the table, list them all in the summary.\n",
    "- If financial KPIs are present in the table, list them in the summary (e.g. income, tax income, number of employees).\n",
    "\n",
    "Table: {element}\n",
    "Summary:\"\"\"\n",
    "prompt = ChatPromptTemplate.from_template(table_prompt_text)\n",
    "\n",
    "model = get_llm()\n",
    "table_summarize_chain = {\"element\": lambda x: x} | prompt | model | StrOutputParser()"
   ]
  },
  {
   "cell_type": "code",
   "execution_count": 6,
   "metadata": {},
   "outputs": [],
   "source": [
    "table_summaries = []\n",
    "validated_tables = []\n",
    "remaining_tables = [x for x in tables if x not in validated_tables]\n",
    "table_errors = []"
   ]
  },
  {
   "cell_type": "code",
   "execution_count": 7,
   "metadata": {},
   "outputs": [
    {
     "name": "stderr",
     "output_type": "stream",
     "text": [
      "  0%|          | 0/26 [00:00<?, ?it/s]"
     ]
    },
    {
     "name": "stderr",
     "output_type": "stream",
     "text": [
      " 35%|███▍      | 9/26 [00:36<01:02,  3.70s/it]"
     ]
    },
    {
     "name": "stdout",
     "output_type": "stream",
     "text": [
      "Error for text page_content='|    | Currency USD         | Revenues        | Profit/(Loss   | Income Tax                                 | Income Tax                                  | Income Tax                      | Tangible Assets other than Cash and Cash    | CBCR Effective                               | Statutory Corporate   | Explanation of sianificant                  |                                             |                                                                                       |                                                          |                         |                                                                                                                                                              |\\n|---:|:---------------------|:----------------|:---------------|:-------------------------------------------|:--------------------------------------------|:--------------------------------|:--------------------------------------------|:---------------------------------------------|:----------------------|:--------------------------------------------|:--------------------------------------------|:--------------------------------------------------------------------------------------|:---------------------------------------------------------|:------------------------|:-------------------------------------------------------------------------------------------------------------------------------------------------------------|\\n|  1 | USD Tax Jurisdiction | Unrelated Party | Related Party  | Total                                      | Profit/(Loss) before Income Tax             | Income Tax Paid (on Cash Basis) | Income Tax Accrued (Current Year)           | Income Tax Accrued (Current Year)            | Stated Capital(3)     | Accumulated Earnings                        | Vumber of mployees                          | Cash and Cash Equivalents (Mandatory)                                                 | Effective Tax Rate(4) %                                  | Corporate Tax Rate(5) % | of significant differences inthe rates(6;                                                                                                                    |\\n|  2 | Netherlands          | 76,224          | 76,224         | 5,298                                      | (3,868)                                     | (136,200)                       | (136,200)                                   | 16,227,704                                   | 3,289,995             | 3                                           | 2571%                                       | 25%                                                                                   | Taxable capitaltransaction took place during the period. |                         |                                                                                                                                                              |\\n|  3 | North Macedonia      | 89,405          | 4,522          | 1 %                                        | No activities took place during the period. |                                 |                                             |                                              |                       |                                             |                                             |                                                                                       |                                                          |                         |                                                                                                                                                              |\\n|  4 | Papua New Guinea     | (68,058)        | 329,945        | 18,987,870                                 | 21,565,270                                  | 30%                             | Accounting and taxlosses made inthe period. |                                              |                       |                                             |                                             |                                                                                       |                                                          |                         |                                                                                                                                                              |\\n|  5 | Peru                 | 13,043,901      | 13,043,901     | (40,470,127)                               | 134,476                                     | 2,908,162,574                   | 554,415,689                                 | 748                                          | 6,788,728,821         | 30%                                         | Accounting andtaxlosses made in the period: |                                                                                       |                                                          |                         |                                                                                                                                                              |\\n|  6 | Philippines          | 34,152,277      | 81             | 25%                                        | No activitiestook place during the period.  |                                 |                                             |                                              |                       |                                             |                                             |                                                                                       |                                                          |                         |                                                                                                                                                              |\\n|  7 | Sierra Leone         | 300,255         | 300,255        | (681,206)                                  | 626,807                                     | (1,114,223)                     | 30%                                         | Accounting andtax losses made in the period. |                       |                                             |                                             |                                                                                       |                                                          |                         |                                                                                                                                                              |\\n|  8 | Singaporer2)         | 24,161,964,020  | 1,855,769,202  | 26,017,733,221                             | 959,801,184                                 | (46,087,607)                    | (48,089,108)                                | (48,089,108)                                 | 183,554,390           | (1,232,546,352)                             | 351                                         | 419,081,397                                                                           | 5%                                                       | 17%                     | CBCrateis aligned to the applicable rate granted under                                                                                                       |\\n|  9 | South Africa         | 1,455,314,642   | 21,321,581,945 | 22,776,896,587                             | 10,242,567,600                              | (3,037,474,272)                 | (2,864,552,821)                             | (2,864,552,821)                              | 5,816,709,768         | 13,819,574,915)                             | 41,483                                      | 10,474,896,613                                                                        | 28%                                                      | 28%                     | Impact of some entities making ssesforboth accounting andtax rposes, with other entities in the samejurisdiction paying tax on profits made durina theperiod |\\n| 10 | Sweden               | 286,432         | 286,432        | (490,028)                                  | (34,166)                                    | (34,151)                        | (34,151)                                    | 1,906,000                                    | (2,109,159)           | -7%                                         | 21%                                         | Accounting and taxlosses made in the period. Additional local taxes inperiod_ arising |                                                          |                         |                                                                                                                                                              |\\n| 11 | Switzerland          | 1,946           | 1,946          | (44,929)                                   | 111,160                                     | (99,151,741)                    | 16%                                         | Accounting andtaxlosses made intheneriod     |                       |                                             |                                             |                                                                                       |                                                          |                         |                                                                                                                                                              |\\n| 12 | Taiwan               | 4,386,250       | 4,386,250      | (1,596,493)                                | 180,850                                     | 4,195,461                       | 11                                          | 4,309,916                                    | 20%                   | Accounting andtaxlosses made in the period_ |                                             |                                                                                       |                                                          |                         |                                                                                                                                                              |\\n| 13 | Tanzania             | 1,864,915       | 30%            | No activitiestook place during the period. |                                             |                                 |                                             |                                              |                       |                                             |                                             |                                                                                       |                                                          |                         |                                                                                                                                                              |\\n| 14 | United Arab Emirates | 2,236,390       | 2,236,390      | 98,301                                     | 13,624                                      | (385,162)                       | 14                                          | 185,268                                      | %                     |                                             |                                             |                                                                                       |                                                          |                         |                                                                                                                                                              |\\n| 15 | United Kingdom       | 9,215,437,246   | 5,930,043,559  | 15,145,480,805                             | (1,063,696,898)                             | (120,617,403)                   | (494,099,092)                               | (494,099,092)                                | 55,640,708,299        | 28,775,985,902)                             | 1,541                                       | 3,223,777,380                                                                         | -43%                                                     | 19%                     | Accounting andtaxlosses made in the period. Withholding taxes arising inthe period: Taxation of profits made inother countries                               |' metadata={'page': 5}: (ReadTimeoutError(\"HTTPSConnectionPool(host='api-inference.huggingface.co', port=443): Read timed out. (read timeout=120)\"), '(Request ID: 8e5a0661-5932-4bcb-ae09-6df3de2ab686)')\n"
     ]
    },
    {
     "name": "stderr",
     "output_type": "stream",
     "text": [
      "100%|██████████| 26/26 [04:21<00:00, 10.04s/it]\n"
     ]
    }
   ],
   "source": [
    "from tqdm.auto import tqdm\n",
    "import time\n",
    "\n",
    "for table in tqdm(tables):\n",
    "    try:\n",
    "        results = table_summarize_chain.invoke(table.page_content)\n",
    "        table_summaries.append(results)\n",
    "        validated_tables.append(table)\n",
    "    except Exception as e:\n",
    "        table_errors.append((table, str(e)))\n",
    "        print(f\"Error for text {table}: {e}\")\n",
    "        time.sleep(10)  # Wait 10 seconds before retrying"
   ]
  },
  {
   "cell_type": "code",
   "execution_count": 8,
   "metadata": {},
   "outputs": [
    {
     "name": "stdout",
     "output_type": "stream",
     "text": [
      "Summarized tables: 25\n",
      "Errors: 1\n"
     ]
    }
   ],
   "source": [
    "print(\"Summarized tables:\", len(validated_tables))\n",
    "print(\"Errors:\", len(table_errors))"
   ]
  },
  {
   "cell_type": "code",
   "execution_count": 9,
   "metadata": {},
   "outputs": [
    {
     "name": "stdout",
     "output_type": "stream",
     "text": [
      "(ReadTimeoutError(\"HTTPSConnectionPool(host='api-inference.huggingface.co', port=443): Read timed out. (read timeout=120)\"), '(Request ID: 8e5a0661-5932-4bcb-ae09-6df3de2ab686)')\n"
     ]
    }
   ],
   "source": [
    "for table, error in table_errors:\n",
    "    print(error)"
   ]
  },
  {
   "cell_type": "code",
   "execution_count": 10,
   "metadata": {},
   "outputs": [
    {
     "data": {
      "text/plain": [
       "' | Tax Jurisdiction | 8 Name H                                                                 | 8 H                           | 6 H+                       | 6 U   | C     | 0 U   | 0 H   | 5 U   | 7   | H   | 1 1 3   | 1 1 3   | J   | J   | Ubl   | 8 1 6   | L]   | Iu   | 8 1 L   | 82 HL   | 1   | 8   | 4 UL   |\\n| ------ | ------------------- | ------------------------------------------------------------------------- | ------------------------------ | --------------------------- | ------ | ------ | ------ | ------ | ------ | ---- | ---- | -------- | -------- | ---- | ---- | ------ | -------- | ---- | ---- | -------- | -------- | ---- | ---- | -------- |\\n| 1 | Canada             | De Beers Canada Inc.                                                     | Yes                           | Yes                        |       |       |       |       |       |     |     |         |         |     |     |       |         |      |      |         |         |     |     |        |\\n| 2 | Canada             | Peace River Coal Inc                                                     | Yes                           | Yes                        |       |       |       |       |       |     |     |         |         |     |     |       |         |      |      |         |         |     |     |        |\\n| 3 | Canada             | Auspotash Corporation                                                    | Yes                           |                            |       |       |       |       |       |     |     |         |         |     |     |       |         |      |      |         |         |     |     |        |\\n| 4 | Chile              | Anglo American Chile Ltda                                                | Yes                           |                            |       |       |       |       |       |     |     |         |         |     |     |       |         |      |      |         |         |     |     |        |\\n| 5 | Chile              | Anglo American Sur S.A.                                                  | Yes                           |                            |       |       |       |       |      '"
      ]
     },
     "execution_count": 10,
     "metadata": {},
     "output_type": "execute_result"
    }
   ],
   "source": [
    "table_summaries[4]"
   ]
  },
  {
   "cell_type": "code",
   "execution_count": 11,
   "metadata": {},
   "outputs": [
    {
     "ename": "ValueError",
     "evalue": "Length of values (25) does not match length of index (26)",
     "output_type": "error",
     "traceback": [
      "\u001b[0;31m---------------------------------------------------------------------------\u001b[0m",
      "\u001b[0;31mValueError\u001b[0m                                Traceback (most recent call last)",
      "Cell \u001b[0;32mIn[11], line 1\u001b[0m\n\u001b[0;32m----> 1\u001b[0m \u001b[43mdf_tables\u001b[49m\u001b[43m[\u001b[49m\u001b[38;5;124;43m'\u001b[39;49m\u001b[38;5;124;43msummary\u001b[39;49m\u001b[38;5;124;43m'\u001b[39;49m\u001b[43m]\u001b[49m \u001b[38;5;241m=\u001b[39m table_summaries\n\u001b[1;32m      2\u001b[0m df_tables\u001b[38;5;241m.\u001b[39mhead()\n",
      "File \u001b[0;32m~/anaconda3/envs/condataxobs/lib/python3.10/site-packages/pandas/core/frame.py:4299\u001b[0m, in \u001b[0;36mDataFrame.__setitem__\u001b[0;34m(self, key, value)\u001b[0m\n\u001b[1;32m   4296\u001b[0m     \u001b[38;5;28mself\u001b[39m\u001b[38;5;241m.\u001b[39m_setitem_array([key], value)\n\u001b[1;32m   4297\u001b[0m \u001b[38;5;28;01melse\u001b[39;00m:\n\u001b[1;32m   4298\u001b[0m     \u001b[38;5;66;03m# set column\u001b[39;00m\n\u001b[0;32m-> 4299\u001b[0m     \u001b[38;5;28;43mself\u001b[39;49m\u001b[38;5;241;43m.\u001b[39;49m\u001b[43m_set_item\u001b[49m\u001b[43m(\u001b[49m\u001b[43mkey\u001b[49m\u001b[43m,\u001b[49m\u001b[43m \u001b[49m\u001b[43mvalue\u001b[49m\u001b[43m)\u001b[49m\n",
      "File \u001b[0;32m~/anaconda3/envs/condataxobs/lib/python3.10/site-packages/pandas/core/frame.py:4512\u001b[0m, in \u001b[0;36mDataFrame._set_item\u001b[0;34m(self, key, value)\u001b[0m\n\u001b[1;32m   4502\u001b[0m \u001b[38;5;28;01mdef\u001b[39;00m \u001b[38;5;21m_set_item\u001b[39m(\u001b[38;5;28mself\u001b[39m, key, value) \u001b[38;5;241m-\u001b[39m\u001b[38;5;241m>\u001b[39m \u001b[38;5;28;01mNone\u001b[39;00m:\n\u001b[1;32m   4503\u001b[0m \u001b[38;5;250m    \u001b[39m\u001b[38;5;124;03m\"\"\"\u001b[39;00m\n\u001b[1;32m   4504\u001b[0m \u001b[38;5;124;03m    Add series to DataFrame in specified column.\u001b[39;00m\n\u001b[1;32m   4505\u001b[0m \n\u001b[0;32m   (...)\u001b[0m\n\u001b[1;32m   4510\u001b[0m \u001b[38;5;124;03m    ensure homogeneity.\u001b[39;00m\n\u001b[1;32m   4511\u001b[0m \u001b[38;5;124;03m    \"\"\"\u001b[39;00m\n\u001b[0;32m-> 4512\u001b[0m     value, refs \u001b[38;5;241m=\u001b[39m \u001b[38;5;28;43mself\u001b[39;49m\u001b[38;5;241;43m.\u001b[39;49m\u001b[43m_sanitize_column\u001b[49m\u001b[43m(\u001b[49m\u001b[43mvalue\u001b[49m\u001b[43m)\u001b[49m\n\u001b[1;32m   4514\u001b[0m     \u001b[38;5;28;01mif\u001b[39;00m (\n\u001b[1;32m   4515\u001b[0m         key \u001b[38;5;129;01min\u001b[39;00m \u001b[38;5;28mself\u001b[39m\u001b[38;5;241m.\u001b[39mcolumns\n\u001b[1;32m   4516\u001b[0m         \u001b[38;5;129;01mand\u001b[39;00m value\u001b[38;5;241m.\u001b[39mndim \u001b[38;5;241m==\u001b[39m \u001b[38;5;241m1\u001b[39m\n\u001b[1;32m   4517\u001b[0m         \u001b[38;5;129;01mand\u001b[39;00m \u001b[38;5;129;01mnot\u001b[39;00m \u001b[38;5;28misinstance\u001b[39m(value\u001b[38;5;241m.\u001b[39mdtype, ExtensionDtype)\n\u001b[1;32m   4518\u001b[0m     ):\n\u001b[1;32m   4519\u001b[0m         \u001b[38;5;66;03m# broadcast across multiple columns if necessary\u001b[39;00m\n\u001b[1;32m   4520\u001b[0m         \u001b[38;5;28;01mif\u001b[39;00m \u001b[38;5;129;01mnot\u001b[39;00m \u001b[38;5;28mself\u001b[39m\u001b[38;5;241m.\u001b[39mcolumns\u001b[38;5;241m.\u001b[39mis_unique \u001b[38;5;129;01mor\u001b[39;00m \u001b[38;5;28misinstance\u001b[39m(\u001b[38;5;28mself\u001b[39m\u001b[38;5;241m.\u001b[39mcolumns, MultiIndex):\n",
      "File \u001b[0;32m~/anaconda3/envs/condataxobs/lib/python3.10/site-packages/pandas/core/frame.py:5253\u001b[0m, in \u001b[0;36mDataFrame._sanitize_column\u001b[0;34m(self, value)\u001b[0m\n\u001b[1;32m   5250\u001b[0m     \u001b[38;5;28;01mreturn\u001b[39;00m _reindex_for_setitem(value, \u001b[38;5;28mself\u001b[39m\u001b[38;5;241m.\u001b[39mindex)\n\u001b[1;32m   5252\u001b[0m \u001b[38;5;28;01mif\u001b[39;00m is_list_like(value):\n\u001b[0;32m-> 5253\u001b[0m     \u001b[43mcom\u001b[49m\u001b[38;5;241;43m.\u001b[39;49m\u001b[43mrequire_length_match\u001b[49m\u001b[43m(\u001b[49m\u001b[43mvalue\u001b[49m\u001b[43m,\u001b[49m\u001b[43m \u001b[49m\u001b[38;5;28;43mself\u001b[39;49m\u001b[38;5;241;43m.\u001b[39;49m\u001b[43mindex\u001b[49m\u001b[43m)\u001b[49m\n\u001b[1;32m   5254\u001b[0m arr \u001b[38;5;241m=\u001b[39m sanitize_array(value, \u001b[38;5;28mself\u001b[39m\u001b[38;5;241m.\u001b[39mindex, copy\u001b[38;5;241m=\u001b[39m\u001b[38;5;28;01mTrue\u001b[39;00m, allow_2d\u001b[38;5;241m=\u001b[39m\u001b[38;5;28;01mTrue\u001b[39;00m)\n\u001b[1;32m   5255\u001b[0m \u001b[38;5;28;01mif\u001b[39;00m (\n\u001b[1;32m   5256\u001b[0m     \u001b[38;5;28misinstance\u001b[39m(value, Index)\n\u001b[1;32m   5257\u001b[0m     \u001b[38;5;129;01mand\u001b[39;00m value\u001b[38;5;241m.\u001b[39mdtype \u001b[38;5;241m==\u001b[39m \u001b[38;5;124m\"\u001b[39m\u001b[38;5;124mobject\u001b[39m\u001b[38;5;124m\"\u001b[39m\n\u001b[0;32m   (...)\u001b[0m\n\u001b[1;32m   5260\u001b[0m     \u001b[38;5;66;03m# TODO: Remove kludge in sanitize_array for string mode when enforcing\u001b[39;00m\n\u001b[1;32m   5261\u001b[0m     \u001b[38;5;66;03m# this deprecation\u001b[39;00m\n",
      "File \u001b[0;32m~/anaconda3/envs/condataxobs/lib/python3.10/site-packages/pandas/core/common.py:573\u001b[0m, in \u001b[0;36mrequire_length_match\u001b[0;34m(data, index)\u001b[0m\n\u001b[1;32m    569\u001b[0m \u001b[38;5;250m\u001b[39m\u001b[38;5;124;03m\"\"\"\u001b[39;00m\n\u001b[1;32m    570\u001b[0m \u001b[38;5;124;03mCheck the length of data matches the length of the index.\u001b[39;00m\n\u001b[1;32m    571\u001b[0m \u001b[38;5;124;03m\"\"\"\u001b[39;00m\n\u001b[1;32m    572\u001b[0m \u001b[38;5;28;01mif\u001b[39;00m \u001b[38;5;28mlen\u001b[39m(data) \u001b[38;5;241m!=\u001b[39m \u001b[38;5;28mlen\u001b[39m(index):\n\u001b[0;32m--> 573\u001b[0m     \u001b[38;5;28;01mraise\u001b[39;00m \u001b[38;5;167;01mValueError\u001b[39;00m(\n\u001b[1;32m    574\u001b[0m         \u001b[38;5;124m\"\u001b[39m\u001b[38;5;124mLength of values \u001b[39m\u001b[38;5;124m\"\u001b[39m\n\u001b[1;32m    575\u001b[0m         \u001b[38;5;124mf\u001b[39m\u001b[38;5;124m\"\u001b[39m\u001b[38;5;124m(\u001b[39m\u001b[38;5;132;01m{\u001b[39;00m\u001b[38;5;28mlen\u001b[39m(data)\u001b[38;5;132;01m}\u001b[39;00m\u001b[38;5;124m) \u001b[39m\u001b[38;5;124m\"\u001b[39m\n\u001b[1;32m    576\u001b[0m         \u001b[38;5;124m\"\u001b[39m\u001b[38;5;124mdoes not match length of index \u001b[39m\u001b[38;5;124m\"\u001b[39m\n\u001b[1;32m    577\u001b[0m         \u001b[38;5;124mf\u001b[39m\u001b[38;5;124m\"\u001b[39m\u001b[38;5;124m(\u001b[39m\u001b[38;5;132;01m{\u001b[39;00m\u001b[38;5;28mlen\u001b[39m(index)\u001b[38;5;132;01m}\u001b[39;00m\u001b[38;5;124m)\u001b[39m\u001b[38;5;124m\"\u001b[39m\n\u001b[1;32m    578\u001b[0m     )\n",
      "\u001b[0;31mValueError\u001b[0m: Length of values (25) does not match length of index (26)"
     ]
    }
   ],
   "source": [
    "df_tables['summary'] = table_summaries\n",
    "df_tables.head()"
   ]
  },
  {
   "cell_type": "code",
   "execution_count": null,
   "metadata": {},
   "outputs": [],
   "source": [
    "df_tables.to_excel(\"table_summaries.xlsx\", index=False)"
   ]
  },
  {
   "cell_type": "markdown",
   "metadata": {},
   "source": [
    "## Get summaries"
   ]
  },
  {
   "cell_type": "code",
   "execution_count": null,
   "metadata": {},
   "outputs": [],
   "source": [
    "table_img_folder = os.path.join(\"../data\", \"AngloAmerican_2021_CbCR/tables_img\")\n",
    "df_tables.to_excel(os.path.join(table_img_folder, \"md_tables_with_summary.xlsx\"), index=False)\n",
    "df_tables = pd.read_excel(os.path.join(table_img_folder, \"md_tables_with_summary.xlsx\"))\n",
    "table_summaries = list(df_tables['summary'])"
   ]
  },
  {
   "cell_type": "code",
   "execution_count": null,
   "metadata": {},
   "outputs": [],
   "source": [
    "loader = DataFrameLoader(df_tables, page_content_column=\"text\")\n",
    "tables = loader.load()"
   ]
  },
  {
   "cell_type": "code",
   "execution_count": null,
   "metadata": {},
   "outputs": [
    {
     "data": {
      "text/plain": [
       "[Document(page_content='|    | income and expense items:                                                                                                                                        | Main Business Activity(ies   |\\n|---:|:-----------------------------------------------------------------------------------------------------------------------------------------------------------------|:-----------------------------|\\n|  1 | The nature ofthe main business activity(ies) carried by the constituent entity in the relevant taxjurisdiction, by ticking one or more of the appropriate boxes: |                              |', metadata={'page': 24, 'summary': '\\n\\n|    | income and expense items:                                                                                                                                        | Main Business Activity(ies   |\\n|---:|:-----------------------------------------------------------------------------------------------------------------------------------------------------------------|:-----------------------------|\\n|  1 | The nature ofthe main business activity(ies) carried by the constituent entity in the relevant taxjurisdiction, by ticking one or more of the appropriate boxes: |                              |\\nSummary:\\n\\n|    | income and expense items:                                                                                                                                        | Main Business Activity(ies   |\\n|---:|:-----------------------------------------------------------------------------------------------------------------------------------------------------------------|:-----------------------------|\\n|  1 | The nature ofthe main business activity(ies) carried by the constituent entity in the relevant taxjurisdiction, by ticking one or more of the appropriate boxes: |                              |\\nSummary:\\n\\n|    | income and expense items:                                                                                                                                        | Main Business Activity(ies   |\\n|---:|:-----------------------------------------------------------------------------------------------------------------------------------------------------------------|:-----------------------------|\\n|  1 | The nature ofthe main business activity(ies) carried by the constituent entity in the relevant taxjurisdiction, by ticking one or more of the appropriate boxes: |                              |\\nSummary:\\n\\n|    | income and expense items:                                                                                                                                        | Main Business Activity(ies   |\\n|---:|:-----------------------------------------------------------------------------------------------------------------------------------------------------------------|:-----------------------------|\\n|  1 | The nature ofthe main business activity(ies) carried by the constituent entity in the relevant taxjurisdiction, by ticking one or more of the appropriate boxes: |                              |\\nSummary:\\n\\n|    | income and expense items:                                                                                                                                        | Main Business Activity(ies   |\\n|---:|:-----------------------------------------------------------------------------------------------------------------------------------------------------------------|:-----------------------------|\\n|  1 | The nature ofthe main business activity(ies) carried by the constituent entity in the relevant taxjurisdiction, by ticking one or more of the appropriate boxes: |                              |\\nSummary:\\n\\n|    | income and expense items:                                                                                                                                        | Main Business Activity(ies   |\\n|---:|:'}),\n",
       " Document(page_content='|    | Tax Jurisdiction   | 8 Name U                                    | 8 U   | 6 IF   | 5 1 Hl   | H   | 1   | H   | 1 3   | h 6   | ) J   | \"8 g h   | Jl   | 8 1L   | L]   | Iu   | I   | 1   | 82 8 U   | 1   | 1   | 8   |\\n|---:|:-------------------|:--------------------------------------------|:------|:-------|:---------|:----|:----|:----|:------|:------|:------|:---------|:-----|:-------|:-----|:-----|:----|:----|:---------|:----|:----|:----|\\n|  1 | Zimbabwe           | Amzim Holdings Limited                      | Yes   | \\'es    |          |     |     |     |       |       |       |          |      |        |      |      |     |     |          |     |     |     |\\n|  2 | Zimbabwe           | Anglo American Corporation Zimbabwe Limited | Yes   | \\'es    |          |     |     |     |       |       |       |          |      |        |      |      |     |     |          |     |     |     |\\n|  3 | Zimbabwe           | Broadlands Park Limited                     | Yes   | \\'es    |          |     |     |     |       |       |       |          |      |        |      |      |     |     |          |     |     |     |\\n|  4 | Zimbabwe           | Southridge Limited                          | Yes   | Yes    |          |     |     |     |       |       |       |          |      |        |      |      |     |     |          |     |     |     |\\n|  5 | Zimbabwe           | Unki Mines (Private) Limited                | Yes   |        |          |     |     |     |       |       |       |          |      |        |      |      |     |     |          |     |     |     |', metadata={'page': 23, 'summary': '\\n - Zimbabwe\\n - Amzim Holdings Limited\\n - Anglo American Corporation Zimbabwe Limited\\n - Broadlands Park Limited\\n - Southridge Limited\\n - Unki Mines (Private) Limited'}),\n",
       " Document(page_content='|    | Revenues                      | Tangible Assets   |               |               |                                 |                                              |                                             |                                             |                   |                      |                    |                                                  |                              |                                              |                                                                                                                                                                                                                          |\\n|---:|:------------------------------|:------------------|:--------------|:--------------|:--------------------------------|:---------------------------------------------|:--------------------------------------------|:--------------------------------------------|:------------------|:---------------------|:-------------------|:-------------------------------------------------|:-----------------------------|:---------------------------------------------|:-------------------------------------------------------------------------------------------------------------------------------------------------------------------------------------------------------------------------|\\n|  1 | currency USD Tax Jurisdiction | Unrelated Party   | Related Party | Total         | Profit/(Loss) before Income Tax | Income Tax Paid (on Cash Basis)              | Income Tax Accrued (Current Year)           | Income Tax Accrued (Current Year)           | Stated Capital 3) | Accumulated Earnings | Vumber of mployees | other than Cash and Cash Equivalents (Mandatory) | CBCR Effective Tax Rate(4) % | Statutory Corporate Tax Rate(5) %            | Explanation of significant differences in the rates(6                                                                                                                                                                    |\\n|  2 | Angola                        | (707,240)         | 2,470,971     | 4,012,420     | 25%                             | Accounting and taxlosses made in the period. |                                             |                                             |                   |                      |                    |                                                  |                              |                                              |                                                                                                                                                                                                                          |\\n|  3 | Argentina                     | 873,735)          | (46,782)      | 20,169,021    | 19,231,636                      | 515                                          | 25%                                         | Accounting andtaxlosses made in the period. |                   |                      |                    |                                                  |                              |                                              |                                                                                                                                                                                                                          |\\n|  4 | Australia                     | 2,462,258,236     | 76,805,752    | 2,539,063,988 | (717,002,147)                   | (9,587,813)                                  | (385,571)                                   | (385,571)                                   | 3,536,336,890     | 1,881,966,147        | 2,043              | 3,084,214,466                                    | 30%                          | Accounting and taxlosses made in the period. |                                                                                                                                                                                                                          |\\n|  5 | Belgium                       | 109               | 9,694,986     | 9,695,095     | 484,695                         | (1,356)                                      | (777)                                       | (777)                                       | 11,062,739        | (12,146,691)         | 68                 | 3,112,847                                        | 25%                          | Offset of losses made in previous periods.   |                                                                                                                                                                                                                          |\\n|  6 | Bermuda(1)                    | 114,763           | 140,884,054   | 140,998,817   | 80,821,666                      | (62,973)                                     | (62,973)                                    | (62,973)                                    | 214,532,169       | (688,699,239)        | 0%                 |                                                  |                              |                                              |                                                                                                                                                                                                                          |\\n|  7 | Botswana                      | 3,827,618,855     | 2,629,609,874 | 6,457,228,729 | 511,952,815                     | (128,642,610)                                | (84,757,461)                                | (84,757,461)                                | 642,354,795       | (216,445,959)        | 1,505              | 1,513,893,158                                    | 17%                          | 22%                                          | Offset of lossesmade in previous periods: Expenditure not treated as eductible for tax purposesin the same period asitis accrued for accounting purposes:                                                                |\\n|  8 | Brazil                        | 144,632,256       | 3,861,277,713 | 4,005,909,969 | 3,932,870,328                   | (258,303,727)                                | (257,267,937)                               | (257,267,937)                               | 10,381,863,635    | (5,257,787,123)      | 4,055              | 3,190,288,058                                    | 7%                           | 34%                                          | Offset of losses made in previous periods. Expenditure not treatedas eductible for tax purposesin the same period asitis accrued for accounting purposes:                                                                |\\n|  9 | Canada                        | 26,943,626        | 171,465,486   | 198,409,112   | (41,989,883)                    | (682,038)                                    | (408,775)                                   | (408,775)                                   | 403,179,292       | 3,556,526,180        | 643                | 435,865,915                                      | 1 %                          | 23%                                          | Accounting and taxlosses made in the period. inina taxes arisinq inthe period_                                                                                                                                           |\\n| 10 | Chile                         | 2,485,287,596     | 4,820,339,791 | 7,305,627,387 | 3,691,046,850                   | (791,739,456)                                | (971,320,029)                               | (971,320,029)                               | 4,487,513,243     | (7,411,871,366)      | 4,325              | 6,914,754,349                                    | 26%                          | 27%                                          | Expenditure not treated as eductible for tax purposesin the same period asitis accrued for accounting purposes ining taxes arising in the period Withholding taxes arising in the period.                                |\\n| 11 | China                         | 443,018,130       | 62,748,413    | 505,766,543   | (8,867,558)                     | (225,881)                                    | (1,660,588)                                 | (1,660,588)                                 | 47,931,618        | 33,834,498           | 268                | 87,826,366                                       | 19%                          | 25%                                          | Impact of some entities making sesforboth accounting andtax rposes, with other entitiesinthe samejurisdiction paying tax on profits made during the period. penditure permanently treated on-deductiblefor tax purposes: |\\n| 12 | Colombia                      | (301,167)         | 25,246,396    | 24,970,386    | 1,246                           | 31%                                          | Accounting andtaxlosses made in the period. |                                             |                   |                      |                    |                                                  |                              |                                              |                                                                                                                                                                                                                          |', metadata={'page': 3, 'summary': '\\n- Currency: USD\\n- Tax jurisdiction: Unrelated Party\\n- Related Party: Related Party\\n- Total: 4,012,420\\n- Profit/(Loss) before Income Tax: 25%\\n- Income Tax Paid (on Cash Basis): Accounting and taxlosses made in the period.\\n- Income Tax Accrued (Current Year): 25%\\n- Income Tax Accrued (Current Year): Accounting andtaxlosses made in the period.\\n- Stated Capital: 3,536,336,890\\n- Accumulated Earnings: 1,881,966,147\\n- Number of mployees: 2,043\\n- other than Cash and Cash Equivalents (Mandatory): 3,084,214,466\\n- CBCR Effective Tax Rate(%): 30%\\n- Statutory Corporate Tax Rate(%): 25%\\n- Explanation of significant differences in the rates: Offset of losses made in previous periods.\\n- Explanation of significant differences in the rates: Offset of losses made in previous periods. Expenditure not treated as eductible for tax purposesin the same period asitis accrued for accounting purposes:\\n- Explanation of significant differences in the rates: Offset of losses made in previous periods. Expenditure not treatedas eductible for tax purposesin the same period asitis accrued for accounting purposes:\\n- Explanation of significant differences in the rates: Expenditure not treated as eductible for tax purposesin the same period asitis accrued for accounting purposes:\\n- Explanation of significant differences in the rates: Accounting and taxlosses made in the period. inina taxes arisinq inthe period_\\n- Explanation of significant differences in the rates: Expenditure not treated as eductible for tax purposesin the same period asitis accrued for accounting purposes ining taxes arising in the period Withholding taxes arising in the period.\\n- Explanation of significant differences in the rates: Impact of some entities making sesforboth accounting andtax rposes, with other entitiesinthe samejurisdiction paying tax on profits made during'}),\n",
       " Document(page_content='|    | Tax Jurisdiction   | Name                                                   | 3 : ]   | 8 6 H   | 6 Hle   | 6 0   | 6 H   | 1   | 1   | 1   | 1 1 3   | Hh   | Hh   | 5 lul   | 1   | LL J   | 1   | Iu   | U   | 8 1 H   | Hl   | L   | 8   | Hl   |\\n|---:|:-------------------|:-------------------------------------------------------|:--------|:--------|:--------|:------|:------|:----|:----|:----|:--------|:-----|:-----|:--------|:----|:-------|:----|:-----|:----|:--------|:-----|:----|:----|:-----|\\n|  1 | United Kingdom     | Anglo South American Investments Limited )             | Yes     | Yes     |         |       |       |     |     |     |         |      |      |         |     |        |     |      |     |         |      |     |     |      |\\n|  2 | United Kingdom     | Lightbox Jewelry Ltd.                                  | Yes     | Yes     |         |       |       |     |     |     |         |      |      |         |     |        |     |      |     |         |      |     |     |      |\\n|  3 | United Kingdom     | De Beers Centenary Limited )                           | Yes     | Yes     |         |       |       |     |     |     |         |      |      |         |     |        |     |      |     |         |      |     |     |      |\\n|  4 | United Kingdom     | De Beers Jewellers Limited                             | Yes     |         |         |       |       |     |     |     |         |      |      |         |     |        |     |      |     |         |      |     |     |      |\\n|  5 | United Kingdom     | De Beers Jewellers Trade Mark Limited                  | Yes     |         |         |       |       |     |     |     |         |      |      |         |     |        |     |      |     |         |      |     |     |      |\\n|  6 | United Kingdom     | De Beers Jewellers UK Limited                          | Yes     |         |         |       |       |     |     |     |         |      |      |         |     |        |     |      |     |         |      |     |     |      |\\n|  7 | United Kingdom     | Anglo American Medical Plan Trust                      | Yes     | Trust   |         |       |       |     |     |     |         |      |      |         |     |        |     |      |     |         |      |     |     |      |\\n|  8 | United Kingdom     | Anglo American Projects UK Limited                     |         |         |         |       |       |     |     |     |         |      |      |         |     |        |     |      |     |         |      |     |     |      |\\n|  9 | United Kingdom     | Anglo American Woodsmith Limited                       | Yes     | Yes     |         |       |       |     |     |     |         |      |      |         |     |        |     |      |     |         |      |     |     |      |\\n| 10 | United Kingdom     | Sach Limited                                           | Yes     | 2S      |         |       |       |     |     |     |         |      |      |         |     |        |     |      |     |         |      |     |     |      |\\n| 11 | United Kingdom     | Sach 2 Limited                                         | Yes     | 2S      |         |       |       |     |     |     |         |      |      |         |     |        |     |      |     |         |      |     |     |      |\\n| 12 | United Kingdom     | Sirius Minerals Foundation                             | Yes     | Charity |         |       |       |     |     |     |         |      |      |         |     |        |     |      |     |         |      |     |     |      |\\n| 13 | United Kingdom     | Sirius Minerals Holdings Limited                       | Yes     | Yes     |         |       |       |     |     |     |         |      |      |         |     |        |     |      |     |         |      |     |     |      |\\n| 14 | United Kingdom     | TRACR Limited                                          | Yes     |         |         |       |       |     |     |     |         |      |      |         |     |        |     |      |     |         |      |     |     |      |\\n| 15 | United Kingdom     | York Potash Holdings Limited                           | Yes     | Yes     |         |       |       |     |     |     |         |      |      |         |     |        |     |      |     |         |      |     |     |      |\\n| 16 | United Kingdom     | York Potash Intermediate Holdings Plc                  | Yes     | Yes     |         |       |       |     |     |     |         |      |      |         |     |        |     |      |     |         |      |     |     |      |\\n| 17 | United Kingdom     | York Potash Ltd                                        | Yes     | Yes     |         |       |       |     |     |     |         |      |      |         |     |        |     |      |     |         |      |     |     |      |\\n| 18 | United Kingdom     | York Potash Processing Ports Limited                   |         |         |         |       |       |     |     |     |         |      |      |         |     |        |     |      |     |         |      |     |     |      |\\n| 19 | United Kingdom     | YPF Ltd                                                | Yes     |         |         |       |       |     |     |     |         |      |      |         |     |        |     |      |     |         |      |     |     |      |\\n| 20 | United Kingdom     | Anglo American Corporation de Chile Holdings Limited ) | ited )  | Yes     | Yes     |       |       |     |     |     |         |      |      |         |     |        |     |      |     |         |      |     |     |      |\\n| 21 | United Kingdom     | Anglo American Exploration (Philippines) BV.(5)        | Yes     | Yes     |         |       |       |     |     |     |         |      |      |         |     |        |     |      |     |         |      |     |     |      |\\n| 22 | United Kingdom     | Anglo American Exploration B.V.(5)                     | Yes     | Yes     |         |       |       |     |     |     |         |      |      |         |     |        |     |      |     |         |      |     |     |      |\\n| 23 | United Kingdom     | Anglo American International B.V.(5)                   | Yes     | Yes     |         |       |       |     |     |     |         |      |      |         |     |        |     |      |     |         |      |     |     |      |\\n| 24 | United Kingdom     | Anglo American International Limited(z)                | Yes     | Yes     |         |       |       |     |     |     |         |      |      |         |     |        |     |      |     |         |      |     |     |      |\\n| 25 | United Kingdom     | Anglo American Netherlands B.V.(5)                     | Yes     | Yes     |         |       |       |     |     |     |         |      |      |         |     |        |     |      |     |         |      |     |     |      |\\n| 26 | United Kingdom     | Anglo Operations (Netherlands) B.V.(5)                 | Yes     | Yes     |         |       |       |     |     |     |         |      |      |         |     |        |     |      |     |         |      |     |     |      |\\n| 27 | United Kingdom     | De Beers Centenary AG()                                | Yes     | 2S      | Yes     | Yes   |       |     |     |     |         |      |      |         |     |        |     |      |     |         |      |     |     |      |', metadata={'page': 21, 'summary': '\\n\\nCountry: United Kingdom\\nKey words:\\n\\nThemes:\\n\\n\\nTable: |    | Tax Jurisdiction   | Name                                                   | 3 : ]   | 8 6 H   | 6 Hle   | 6 0   | 6 H   | 1   | 1   | 1   | 1 1 3   | Hh   | Hh   | 5 lul   | 1   | LL J   | 1   | Iu   | U   | 8 1 H   | Hl   | L   | 8   | Hl   |\\n|---:|:-------------------|:-------------------------------------------------------|:--------|:--------|:--------|:------|:------|:----|:----|:----|:--------|:-----|:-----|:--------|:----|:-------|:----|:-----|:----|:--------|:-----|:----|:----|:-----|\\n|  1 | United Kingdom     | Anglo South American Investments Limited )             | Yes     | Yes     |         |       |       |     |     |     |         |      |      |         |     |        |     |      |     |         |      |     |     |      |\\n|  2 | United Kingdom     | Lightbox Jewelry Ltd.                                  | Yes     | Yes     |         |       |       |     |     |     |         |      |      |         |     |        |     |      |     |         |      |     |     |      |\\n|  3 | United Kingdom     | De Beers Centenary Limited )                           | Yes     | Yes     |         |       |       |     |     |     |         |      |      |         |     |        |     |      |     |         |      |     |     |      |\\n|  4 | United Kingdom     | De Beers Jewellers Limited                             | Yes     |         |         |       |       |     |     |     |         |      |      |         |     |        |     |      |     |         |      |     |     |      |\\n|  5 | United Kingdom     | De Beers Jewellers Trade Mark Limited                  | Yes     |         |         |       |       |    '}),\n",
       " Document(page_content=\"|    | Tax Jurisdiction   | 8 Name H                                                                 | 8 H                           | 6 H+                       | 6 U   | C     | 0 U   | 0 H   | 5 U   | 7   | H   | 1 1 3   | 1 1 3   | J   | J   | Ubl   | 8 1 6   | L]   | Iu   | 8 1 L   | 82 HL   | 1   | 8   | 4 UL   |\\n|---:|:-------------------|:-------------------------------------------------------------------------|:------------------------------|:---------------------------|:------|:------|:------|:------|:------|:----|:----|:--------|:--------|:----|:----|:------|:--------|:-----|:-----|:--------|:--------|:----|:----|:-------|\\n|  1 | Canada             | De Beers Canada Inc.                                                     | Yes                           | Yes                        |       |       |       |       |       |     |     |         |         |     |     |       |         |      |      |         |         |     |     |        |\\n|  2 | Canada             | Peace River Coal Inc                                                     | Yes                           | Yes                        |       |       |       |       |       |     |     |         |         |     |     |       |         |      |      |         |         |     |     |        |\\n|  3 | Canada             | Auspotash Corporation                                                    | Yes                           |                            |       |       |       |       |       |     |     |         |         |     |     |       |         |      |      |         |         |     |     |        |\\n|  4 | Chile              | Anglo American Chile Ltda                                                | Yes                           |                            |       |       |       |       |       |     |     |         |         |     |     |       |         |      |      |         |         |     |     |        |\\n|  5 | Chile              | Anglo American Sur S.A.                                                  | Yes                           |                            |       |       |       |       |       |     |     |         |         |     |     |       |         |      |      |         |         |     |     |        |\\n|  6 | Chile              | Compahia Minera Dona Ines De Collahuasi SCM                              | Yes                           |                            |       |       |       |       |       |     |     |         |         |     |     |       |         |      |      |         |         |     |     |        |\\n|  7 | Chile              | Compahia Minera Westwall S.C.M                                           | Yes Explc                     | ploration                  |       |       |       |       |       |     |     |         |         |     |     |       |         |      |      |         |         |     |     |        |\\n|  8 | Chile              | Inversiones Anglo American Norte SpA                                     | Yes                           |                            |       |       |       |       |       |     |     |         |         |     |     |       |         |      |      |         |         |     |     |        |\\n|  9 | Chile              | Anglo American Copper Finance SpA                                        | Yes                           |                            |       |       |       |       |       |     |     |         |         |     |     |       |         |      |      |         |         |     |     |        |\\n| 10 | Chile              | Anglo American Marketing Chile SpA                                       | Yes                           | Yes                        |       |       |       |       |       |     |     |         |         |     |     |       |         |      |      |         |         |     |     |        |\\n| 11 | Chile              | Anglo American Technical & Sustainability Services Ltd, Agencia en Chile | Yes                           |                            |       |       |       |       |       |     |     |         |         |     |     |       |         |      |      |         |         |     |     |        |\\n| 12 | Chile              | Inversiones Anglo American Sur SpA                                       | Yes                           |                            |       |       |       |       |       |     |     |         |         |     |     |       |         |      |      |         |         |     |     |        |\\n| 13 | Chile              | Inversiones Minorco Chile SpA                                            | Yes                           |                            |       |       |       |       |       |     |     |         |         |     |     |       |         |      |      |         |         |     |     |        |\\n| 14 | China              | Element Six Trading (Shanghai) Co. Ltd                                   | Yes                           | Yes                        |       |       |       |       |       |     |     |         |         |     |     |       |         |      |      |         |         |     |     |        |\\n| 15 | China              | Forevermark Marketing (Shanghai) Company Limited                         | Yes                           | Yes                        | Yes   |       |       |       |       |     |     |         |         |     |     |       |         |      |      |         |         |     |     |        |\\n| 16 | China              | Forevermark Marketing (Shanghai) Limited,Xi'an No. Branch                | anch                          | Yes                        | Yes   |       |       |       |       |     |     |         |         |     |     |       |         |      |      |         |         |     |     |        |\\n| 17 | China              | Forevermark Marketing Shanghai Company Limited Beijing Branch            | Yes                           | Yes                        |       |       |       |       |       |     |     |         |         |     |     |       |         |      |      |         |         |     |     |        |\\n| 18 | China              | Forevermark Marketing Shanghai Company Limited Shanghai Branch           | Yes                           | Yes                        |       |       |       |       |       |     |     |         |         |     |     |       |         |      |      |         |         |     |     |        |\\n| 19 | China              | Platinum Guild International (Shanghai) Co. Limited                      | Yes Consu market res and pron | sultancy research romotion |       |       |       |       |       |     |     |         |         |     |     |       |         |      |      |         |         |     |     |        |\\n| 20 | China              | Anglo American Resources Trading (China) Co. Ltd.                        | Yes                           | Yes                        |       |       |       |       |       |     |     |         |         |     |     |       |         |      |      |         |         |     |     |        |\\n| 21 | China              | De Beers Jewellers Commercial (Shanghai) Co, Ltd                         | Yes                           | Yes                        |       |       |       |       |       |     |     |         |         |     |     |       |         |      |      |         |         |     |     |        |\\n| 22 | Colombia           | Anglo American Colombia Exploration S.A                                  | Yes                           |                            |       |       |       |       |       |     |     |         |         |     |     |       |         |      |      |         |         |     |     |        |\", metadata={'page': 10, 'summary': '|    |  2015    |  2014    |  2013   |  2012   |  2011   |  2010   |  2009   |  2008   |  2007   |  2006   |  2005   |  2004   |  2003   |  2002   |  2001   |  2000   |  1999   |  1998   |  1997   |  1996   |  1995   |  1994   |  1993   |  1992   |  1991   |  1990   |  1989   |  1988   |  1987   |  1986   |  1985   |  1984   |  1983   |  1982   |  1981   |  1980   |  1979   |  1978   |  1977   |  1976   |  1975   |  1974   |  1973   |  1972   |  1971   |  1970   |  1969   |  1968   |  1967   |  1966   |  1965   |  1964   |  1963   |  1962   |  1961   |  1960   |  1959   |  1958   |  1957   |  1956   |  1955   |  1954   |  1953   |  1952   |  1951   |  1950   |  1949   |  1948   |  1947   |  1946   |  1945   |  1944   |  1943'})]"
      ]
     },
     "execution_count": 15,
     "metadata": {},
     "output_type": "execute_result"
    }
   ],
   "source": [
    "tables[:5]"
   ]
  },
  {
   "cell_type": "markdown",
   "metadata": {},
   "source": [
    "## Add tables to vectorstore"
   ]
  },
  {
   "cell_type": "code",
   "execution_count": null,
   "metadata": {},
   "outputs": [],
   "source": [
    "import uuid\n",
    "\n",
    "from langchain.retrievers.multi_vector import MultiVectorRetriever\n",
    "from langchain.storage import InMemoryStore\n",
    "from langchain.vectorstores import Chroma\n",
    "from langchain.docstore.document import Document\n",
    "from langchain.embeddings import HuggingFaceEmbeddings\n",
    "\n",
    "# The vectorstore to use to index the child chunks\n",
    "embedding_function = HuggingFaceEmbeddings(\n",
    "    model_name='BAAI/bge-base-en-v1.5',  # BAAI/bge-base-en-v1.5 // thenlper/gte-small\n",
    "    encode_kwargs={\n",
    "        \"show_progress_bar\": True,\n",
    "        \"batch_size\": 1\n",
    "    },\n",
    ")"
   ]
  },
  {
   "cell_type": "code",
   "execution_count": null,
   "metadata": {},
   "outputs": [],
   "source": [
    "k = 3"
   ]
  },
  {
   "cell_type": "code",
   "execution_count": null,
   "metadata": {},
   "outputs": [],
   "source": [
    "vectorstore = Chroma(\n",
    "    collection_name=\"summaries\",\n",
    "    embedding_function=embedding_function,\n",
    ")"
   ]
  },
  {
   "cell_type": "code",
   "execution_count": null,
   "metadata": {},
   "outputs": [],
   "source": [
    "# The storage layer for the parent documents\n",
    "store = InMemoryStore()\n",
    "id_key = \"doc_id\"\n",
    "\n",
    "# The retriever (empty to start)\n",
    "retriever = MultiVectorRetriever(\n",
    "    vectorstore=vectorstore,\n",
    "    docstore=store,\n",
    "    id_key=id_key,\n",
    "    search_kwargs={\"k\": k},\n",
    ")"
   ]
  },
  {
   "cell_type": "code",
   "execution_count": null,
   "metadata": {},
   "outputs": [
    {
     "data": {
      "text/plain": [
       "[Document(page_content='\\n\\n|    | income and expense items:                                                                                                                                        | Main Business Activity(ies   |\\n|---:|:-----------------------------------------------------------------------------------------------------------------------------------------------------------------|:-----------------------------|\\n|  1 | The nature ofthe main business activity(ies) carried by the constituent entity in the relevant taxjurisdiction, by ticking one or more of the appropriate boxes: |                              |\\nSummary:\\n\\n|    | income and expense items:                                                                                                                                        | Main Business Activity(ies   |\\n|---:|:-----------------------------------------------------------------------------------------------------------------------------------------------------------------|:-----------------------------|\\n|  1 | The nature ofthe main business activity(ies) carried by the constituent entity in the relevant taxjurisdiction, by ticking one or more of the appropriate boxes: |                              |\\nSummary:\\n\\n|    | income and expense items:                                                                                                                                        | Main Business Activity(ies   |\\n|---:|:-----------------------------------------------------------------------------------------------------------------------------------------------------------------|:-----------------------------|\\n|  1 | The nature ofthe main business activity(ies) carried by the constituent entity in the relevant taxjurisdiction, by ticking one or more of the appropriate boxes: |                              |\\nSummary:\\n\\n|    | income and expense items:                                                                                                                                        | Main Business Activity(ies   |\\n|---:|:-----------------------------------------------------------------------------------------------------------------------------------------------------------------|:-----------------------------|\\n|  1 | The nature ofthe main business activity(ies) carried by the constituent entity in the relevant taxjurisdiction, by ticking one or more of the appropriate boxes: |                              |\\nSummary:\\n\\n|    | income and expense items:                                                                                                                                        | Main Business Activity(ies   |\\n|---:|:-----------------------------------------------------------------------------------------------------------------------------------------------------------------|:-----------------------------|\\n|  1 | The nature ofthe main business activity(ies) carried by the constituent entity in the relevant taxjurisdiction, by ticking one or more of the appropriate boxes: |                              |\\nSummary:\\n\\n|    | income and expense items:                                                                                                                                        | Main Business Activity(ies   |\\n|---:|:', metadata={'doc_id': 'ca5a2f9c-c398-47cb-a547-1340fb6d1f4a'}),\n",
       " Document(page_content='\\n - Zimbabwe\\n - Amzim Holdings Limited\\n - Anglo American Corporation Zimbabwe Limited\\n - Broadlands Park Limited\\n - Southridge Limited\\n - Unki Mines (Private) Limited', metadata={'doc_id': '3a6f635d-1373-4328-868f-d2e86da18b62'}),\n",
       " Document(page_content='\\n- Currency: USD\\n- Tax jurisdiction: Unrelated Party\\n- Related Party: Related Party\\n- Total: 4,012,420\\n- Profit/(Loss) before Income Tax: 25%\\n- Income Tax Paid (on Cash Basis): Accounting and taxlosses made in the period.\\n- Income Tax Accrued (Current Year): 25%\\n- Income Tax Accrued (Current Year): Accounting andtaxlosses made in the period.\\n- Stated Capital: 3,536,336,890\\n- Accumulated Earnings: 1,881,966,147\\n- Number of mployees: 2,043\\n- other than Cash and Cash Equivalents (Mandatory): 3,084,214,466\\n- CBCR Effective Tax Rate(%): 30%\\n- Statutory Corporate Tax Rate(%): 25%\\n- Explanation of significant differences in the rates: Offset of losses made in previous periods.\\n- Explanation of significant differences in the rates: Offset of losses made in previous periods. Expenditure not treated as eductible for tax purposesin the same period asitis accrued for accounting purposes:\\n- Explanation of significant differences in the rates: Offset of losses made in previous periods. Expenditure not treatedas eductible for tax purposesin the same period asitis accrued for accounting purposes:\\n- Explanation of significant differences in the rates: Expenditure not treated as eductible for tax purposesin the same period asitis accrued for accounting purposes:\\n- Explanation of significant differences in the rates: Accounting and taxlosses made in the period. inina taxes arisinq inthe period_\\n- Explanation of significant differences in the rates: Expenditure not treated as eductible for tax purposesin the same period asitis accrued for accounting purposes ining taxes arising in the period Withholding taxes arising in the period.\\n- Explanation of significant differences in the rates: Impact of some entities making sesforboth accounting andtax rposes, with other entitiesinthe samejurisdiction paying tax on profits made during', metadata={'doc_id': '29a85b4a-fc24-4f75-9ea9-17bef608946f'}),\n",
       " Document(page_content='\\n\\nCountry: United Kingdom\\nKey words:\\n\\nThemes:\\n\\n\\nTable: |    | Tax Jurisdiction   | Name                                                   | 3 : ]   | 8 6 H   | 6 Hle   | 6 0   | 6 H   | 1   | 1   | 1   | 1 1 3   | Hh   | Hh   | 5 lul   | 1   | LL J   | 1   | Iu   | U   | 8 1 H   | Hl   | L   | 8   | Hl   |\\n|---:|:-------------------|:-------------------------------------------------------|:--------|:--------|:--------|:------|:------|:----|:----|:----|:--------|:-----|:-----|:--------|:----|:-------|:----|:-----|:----|:--------|:-----|:----|:----|:-----|\\n|  1 | United Kingdom     | Anglo South American Investments Limited )             | Yes     | Yes     |         |       |       |     |     |     |         |      |      |         |     |        |     |      |     |         |      |     |     |      |\\n|  2 | United Kingdom     | Lightbox Jewelry Ltd.                                  | Yes     | Yes     |         |       |       |     |     |     |         |      |      |         |     |        |     |      |     |         |      |     |     |      |\\n|  3 | United Kingdom     | De Beers Centenary Limited )                           | Yes     | Yes     |         |       |       |     |     |     |         |      |      |         |     |        |     |      |     |         |      |     |     |      |\\n|  4 | United Kingdom     | De Beers Jewellers Limited                             | Yes     |         |         |       |       |     |     |     |         |      |      |         |     |        |     |      |     |         |      |     |     |      |\\n|  5 | United Kingdom     | De Beers Jewellers Trade Mark Limited                  | Yes     |         |         |       |       |    ', metadata={'doc_id': 'abdc1eef-647f-4e2d-a2ea-287c9ac38196'}),\n",
       " Document(page_content='|    |  2015    |  2014    |  2013   |  2012   |  2011   |  2010   |  2009   |  2008   |  2007   |  2006   |  2005   |  2004   |  2003   |  2002   |  2001   |  2000   |  1999   |  1998   |  1997   |  1996   |  1995   |  1994   |  1993   |  1992   |  1991   |  1990   |  1989   |  1988   |  1987   |  1986   |  1985   |  1984   |  1983   |  1982   |  1981   |  1980   |  1979   |  1978   |  1977   |  1976   |  1975   |  1974   |  1973   |  1972   |  1971   |  1970   |  1969   |  1968   |  1967   |  1966   |  1965   |  1964   |  1963   |  1962   |  1961   |  1960   |  1959   |  1958   |  1957   |  1956   |  1955   |  1954   |  1953   |  1952   |  1951   |  1950   |  1949   |  1948   |  1947   |  1946   |  1945   |  1944   |  1943', metadata={'doc_id': 'ee6b678b-f3b9-4c04-a49c-d557c4c8a882'})]"
      ]
     },
     "execution_count": 20,
     "metadata": {},
     "output_type": "execute_result"
    }
   ],
   "source": [
    "table_ids = [str(uuid.uuid4()) for _ in tables]\n",
    "summary_tables = [\n",
    "    Document(page_content=s, metadata={id_key: table_ids[i]})\n",
    "    for i, s in enumerate(table_summaries)\n",
    "]\n",
    "summary_tables[:5]"
   ]
  },
  {
   "cell_type": "code",
   "execution_count": null,
   "metadata": {},
   "outputs": [
    {
     "ename": "TypeError",
     "evalue": "sentence_transformers.SentenceTransformer.SentenceTransformer.encode() got multiple values for keyword argument 'show_progress_bar'",
     "output_type": "error",
     "traceback": [
      "\u001b[0;31m---------------------------------------------------------------------------\u001b[0m",
      "\u001b[0;31mTypeError\u001b[0m                                 Traceback (most recent call last)",
      "Cell \u001b[0;32mIn[21], line 2\u001b[0m\n\u001b[1;32m      1\u001b[0m \u001b[38;5;66;03m# Add tables\u001b[39;00m\n\u001b[0;32m----> 2\u001b[0m \u001b[43mretriever\u001b[49m\u001b[38;5;241;43m.\u001b[39;49m\u001b[43mvectorstore\u001b[49m\u001b[38;5;241;43m.\u001b[39;49m\u001b[43madd_documents\u001b[49m\u001b[43m(\u001b[49m\u001b[43msummary_tables\u001b[49m\u001b[43m)\u001b[49m\n\u001b[1;32m      3\u001b[0m retriever\u001b[38;5;241m.\u001b[39mdocstore\u001b[38;5;241m.\u001b[39mmset(\u001b[38;5;28mlist\u001b[39m(\u001b[38;5;28mzip\u001b[39m(table_ids, tables)))\n",
      "File \u001b[0;32m~/anaconda3/envs/condataxobs/lib/python3.10/site-packages/langchain_core/vectorstores.py:139\u001b[0m, in \u001b[0;36mVectorStore.add_documents\u001b[0;34m(self, documents, **kwargs)\u001b[0m\n\u001b[1;32m    137\u001b[0m texts \u001b[38;5;241m=\u001b[39m [doc\u001b[38;5;241m.\u001b[39mpage_content \u001b[38;5;28;01mfor\u001b[39;00m doc \u001b[38;5;129;01min\u001b[39;00m documents]\n\u001b[1;32m    138\u001b[0m metadatas \u001b[38;5;241m=\u001b[39m [doc\u001b[38;5;241m.\u001b[39mmetadata \u001b[38;5;28;01mfor\u001b[39;00m doc \u001b[38;5;129;01min\u001b[39;00m documents]\n\u001b[0;32m--> 139\u001b[0m \u001b[38;5;28;01mreturn\u001b[39;00m \u001b[38;5;28;43mself\u001b[39;49m\u001b[38;5;241;43m.\u001b[39;49m\u001b[43madd_texts\u001b[49m\u001b[43m(\u001b[49m\u001b[43mtexts\u001b[49m\u001b[43m,\u001b[49m\u001b[43m \u001b[49m\u001b[43mmetadatas\u001b[49m\u001b[43m,\u001b[49m\u001b[43m \u001b[49m\u001b[38;5;241;43m*\u001b[39;49m\u001b[38;5;241;43m*\u001b[39;49m\u001b[43mkwargs\u001b[49m\u001b[43m)\u001b[49m\n",
      "File \u001b[0;32m~/anaconda3/envs/condataxobs/lib/python3.10/site-packages/langchain_community/vectorstores/chroma.py:275\u001b[0m, in \u001b[0;36mChroma.add_texts\u001b[0;34m(self, texts, metadatas, ids, **kwargs)\u001b[0m\n\u001b[1;32m    273\u001b[0m texts \u001b[38;5;241m=\u001b[39m \u001b[38;5;28mlist\u001b[39m(texts)\n\u001b[1;32m    274\u001b[0m \u001b[38;5;28;01mif\u001b[39;00m \u001b[38;5;28mself\u001b[39m\u001b[38;5;241m.\u001b[39m_embedding_function \u001b[38;5;129;01mis\u001b[39;00m \u001b[38;5;129;01mnot\u001b[39;00m \u001b[38;5;28;01mNone\u001b[39;00m:\n\u001b[0;32m--> 275\u001b[0m     embeddings \u001b[38;5;241m=\u001b[39m \u001b[38;5;28;43mself\u001b[39;49m\u001b[38;5;241;43m.\u001b[39;49m\u001b[43m_embedding_function\u001b[49m\u001b[38;5;241;43m.\u001b[39;49m\u001b[43membed_documents\u001b[49m\u001b[43m(\u001b[49m\u001b[43mtexts\u001b[49m\u001b[43m)\u001b[49m\n\u001b[1;32m    276\u001b[0m \u001b[38;5;28;01mif\u001b[39;00m metadatas:\n\u001b[1;32m    277\u001b[0m     \u001b[38;5;66;03m# fill metadatas with empty dicts if somebody\u001b[39;00m\n\u001b[1;32m    278\u001b[0m     \u001b[38;5;66;03m# did not specify metadata for all texts\u001b[39;00m\n\u001b[1;32m    279\u001b[0m     length_diff \u001b[38;5;241m=\u001b[39m \u001b[38;5;28mlen\u001b[39m(texts) \u001b[38;5;241m-\u001b[39m \u001b[38;5;28mlen\u001b[39m(metadatas)\n",
      "File \u001b[0;32m~/anaconda3/envs/condataxobs/lib/python3.10/site-packages/langchain_community/embeddings/huggingface.py:93\u001b[0m, in \u001b[0;36mHuggingFaceEmbeddings.embed_documents\u001b[0;34m(self, texts)\u001b[0m\n\u001b[1;32m     91\u001b[0m     sentence_transformers\u001b[38;5;241m.\u001b[39mSentenceTransformer\u001b[38;5;241m.\u001b[39mstop_multi_process_pool(pool)\n\u001b[1;32m     92\u001b[0m \u001b[38;5;28;01melse\u001b[39;00m:\n\u001b[0;32m---> 93\u001b[0m     embeddings \u001b[38;5;241m=\u001b[39m \u001b[38;5;28mself\u001b[39m\u001b[38;5;241m.\u001b[39mclient\u001b[38;5;241m.\u001b[39mencode(\n\u001b[1;32m     94\u001b[0m         texts, show_progress_bar\u001b[38;5;241m=\u001b[39m\u001b[38;5;28mself\u001b[39m\u001b[38;5;241m.\u001b[39mshow_progress, \u001b[38;5;241m*\u001b[39m\u001b[38;5;241m*\u001b[39m\u001b[38;5;28mself\u001b[39m\u001b[38;5;241m.\u001b[39mencode_kwargs\n\u001b[1;32m     95\u001b[0m     )\n\u001b[1;32m     97\u001b[0m \u001b[38;5;28;01mreturn\u001b[39;00m embeddings\u001b[38;5;241m.\u001b[39mtolist()\n",
      "\u001b[0;31mTypeError\u001b[0m: sentence_transformers.SentenceTransformer.SentenceTransformer.encode() got multiple values for keyword argument 'show_progress_bar'"
     ]
    }
   ],
   "source": [
    "# Add tables\n",
    "retriever.vectorstore.add_documents(summary_tables)\n",
    "retriever.docstore.mset(list(zip(table_ids, tables)))"
   ]
  },
  {
   "cell_type": "markdown",
   "metadata": {},
   "source": [
    "# 2. RAG\n",
    "---"
   ]
  },
  {
   "cell_type": "markdown",
   "metadata": {},
   "source": [
    "## Testing simple retrieval"
   ]
  },
  {
   "cell_type": "code",
   "execution_count": null,
   "metadata": {},
   "outputs": [
    {
     "name": "stderr",
     "output_type": "stream",
     "text": [
      "Batches:   0%|          | 0/1 [00:00<?, ?it/s]"
     ]
    },
    {
     "name": "stderr",
     "output_type": "stream",
     "text": [
      "Batches: 100%|██████████| 1/1 [00:00<00:00, 19.25it/s]\n"
     ]
    },
    {
     "data": {
      "text/plain": [
       "[Document(page_content='|    | Tax Jurisdiction   | Name                                                    | 8: H                             | 6 Lu                   | 6 Hh     | 6 3 I   | 6 H   | 6 U   | 5  5 7 5   | 0 7 UHh 6   | 1 6 L   | U   | 8 Ih   | Ul   | 8 1L   | 1   | Iu   | Iu   | 1 1 1 1   | 1 1 V   | L   | 8   | 1 UL   |\\n|---:|:-------------------|:--------------------------------------------------------|:---------------------------------|:-----------------------|:---------|:--------|:------|:------|:-----------|:------------|:--------|:----|:-------|:-----|:-------|:----|:-----|:-----|:----------|:--------|:----|:----|:-------|\\n|  1 | Isle of Man        | Element Six (Legacy Pensions) Limited                   | Yes                              | 2S                     |          |         |       |       |            |             |         |     |        |      |        |     |      |      |           |         |     |     |        |\\n|  2 | Israel             | De Beers Auction Sales Israel Ltd                       | Yes                              | 2S                     |          |         |       |       |            |             |         |     |        |      |        |     |      |      |           |         |     |     |        |\\n|  3 | Italy              | Forevermark Italy S.R.L.                                | Yes Yes                          | S                      | 2S       |         |       |       |            |             |         |     |        |      |        |     |      |      |           |         |     |     |        |\\n|  4 | Japan              | Element Six Limited                                     | Yes                              | S                      |          |         |       |       |            |             |         |     |        |      |        |     |      |      |           |         |     |     |        |\\n|  5 | Japan              | Forevermark KK                                          | Yes Yes                          | S                      | 2S       |         |       |       |            |             |         |     |        |      |        |     |      |      |           |         |     |     |        |\\n|  6 | Japan              | PGIKK                                                   | (es Consult market rese and prom | ultancy esearch motion |          |         |       |       |            |             |         |     |        |      |        |     |      |      |           |         |     |     |        |\\n|  7 | Japan              | De Beers Jewellers Japan K.K                            | Yes                              | S                      |          |         |       |       |            |             |         |     |        |      |        |     |      |      |           |         |     |     |        |\\n|  8 | Luxembourg         | Kumba Iron Ore Holdings Sarl                            | Yes                              |                        |          |         |       |       |            |             |         |     |        |      |        |     |      |      |           |         |     |     |        |\\n|  9 | Macau              | De Beers Jewellers (Macau) Company Limited              | Yes                              | S                      |          |         |       |       |            |             |         |     |        |      |        |     |      |      |           |         |     |     |        |\\n| 10 | Mexico             | Anglo American Mexico S.A. de CV.                       | Yes                              |                        |          |         |       |       |            |             |         |     |        |      |        |     |      |      |           |         |     |     |        |\\n| 11 | Mexico             | Servicios Anglo American Mexico S.A. de C.V.            | Yes                              | Explor                 | loration |         |       |       |            |             |         |     |        |      |        |     |      |      |           |         |     |     |        |\\n| 12 | Mozambique         | Anglo American Corporation Mocambique Servicos Limitada | Yes                              |                        |          |         |       |       |            |             |         |     |        |      |        |     |      |      |           |         |     |     |        |\\n| 13 | Namibia            | Ambase Prospecting (Namibia) (Pty) Ltd                  | (es Explor                       | loration               |          |         |       |       |            |             |         |     |        |      |        |     |      |      |           |         |     |     |        |\\n| 14 | Namibia            | De Beers Marine Namibia (Pty) Ltd                       |                                  |                        |          |         |       |       |            |             |         |     |        |      |        |     |      |      |           |         |     |     |        |\\n| 15 | Namibia            | De Beers Namibia Holdings (Pty) Ltd                     | Yes                              |                        |          |         |       |       |            |             |         |     |        |      |        |     |      |      |           |         |     |     |        |\\n| 16 | Namibia            | Debmarine Namdeb Foundation                             | Yes                              | 2S                     |          |         |       |       |            |             |         |     |        |      |        |     |      |      |           |         |     |     |        |\\n| 17 | Namibia            | DTC Valuations Namibia (Pty) Ltd                        | Yes                              |                        |          |         |       |       |            |             |         |     |        |      |        |     |      |      |           |         |     |     |        |\\n| 18 | Namibia            | Exclusive Properties (Pty) Ltd                          | Yes                              | 2S                     |          |         |       |       |            |             |         |     |        |      |        |     |      |      |           |         |     |     |        |\\n| 19 | Namibia            | Longboat Trading (Pty) Ltd                              | Yes                              | Not mane               | anaged   |         |       |       |            |             |         |     |        |      |        |     |      |      |           |         |     |     |        |\\n| 20 | Namibia            | Namdeb Diamond Corporation (Pty) Ltd                    |                                  |                        |          |         |       |       |            |             |         |     |        |      |        |     |      |      |           |         |     |     |        |\\n| 21 | Namibia            | Namdeb Holdings (Pty) Ltd                               | Yes                              |                        |          |         |       |       |            |             |         |     |        |      |        |     |      |      |           |         |     |     |        |\\n| 22 | Namibia            | Namdeb Hospital Pharmacy (Pty) Ltd                      | Yes                              | 2S                     |          |         |       |       |            |             |         |     |        |      |        |     |      |      |           |         |     |     |        |\\n| 23 | Namibia            | Namdeb Properties (Pty) Ltd                             | Yes                              | 2S                     |          |         |       |       |            |             |         |     |        |      |        |     |      |      |           |         |     |     |        |\\n| 24 | Namibia            | Namibia Diamond Trading Company (Pty) Ltd               | Yes                              | S                      |          |         |       |       |            |             |         |     |        |      |        |     |      |      |           |         |     |     |        |\\n| 25 | Namibia            | Oranjemund Town Management Company (Pty) Ltd            | Yes                              | 2S                     |          |         |       |       |            |             |         |     |        |      |        |     |      |      |           |         |     |     |        |', metadata={'page': 12, 'summary': 'Human: \\nYou are an assistant responsible for extracting information from markdown tables.\\nExtract in a string all the key words and themes from the markdown table below, and add as many words from their lexical fields.\\n\\nGuidelines:\\n- If country names are present in the table, list them all in the summary.\\n- If financial KPIs are present in the table, list them all in the summary.\\n\\nTable: |    | Tax Jurisdiction   | Name                                                    | 8: H                             | 6 Lu                   | 6 Hh     | 6 3 I   | 6 H   | 6 U   | 5  5 7 5   | 0 7 UHh 6   | 1 6 L   | U   | 8 Ih   | Ul   | 8 1L   | 1   | Iu   | Iu   | 1 1 1 1   | 1 1 V   | L   | 8   | 1 UL   |\\n|---:|:-------------------|:--------------------------------------------------------|:---------------------------------|:-----------------------|:---------|:--------|:------|:------|:-----------|:------------|:--------|:----|:-------|:-----|:-------|:----|:-----|:-----|:----------|:--------|:----|:----|:-------|\\n|  1 | Isle of Man        | Element Six (Legacy Pensions) Limited                   | Yes                              | 2S                     |          |         |       |       |            |             |         |     |        |      |        |     |      |      |           |         |     |     |        |\\n|  2 | Israel             | De Beers Auction Sales Israel Ltd                       | Yes                              | 2S                     |          |         |       |       |            |             |         |     |        |      |        |     |      |      |           |         |     |     |        |\\n|  3 | Italy              | Forevermark Italy S.R.L.                                | Yes Yes                          | S                      | 2S       |         |       |       |            |             |         |     |        |      |        |     |      |      |           |         |     |     |        |\\n|  4 | Japan              | Element Six Limited                                     | Yes                              | S                      |          |         |       |       |            |             |         |     |        |      |        |     |      |      |           |         |     |     |        |\\n|  5 | Japan              | Forevermark KK                                          | Yes Yes                          | S                      | 2S       |         |       |       |            |             |         |     |        |      |        |     |      |      |           |         |     |     |        |\\n|  6 | Japan              | PGIKK                                                   | (es Consult market rese and prom | ultancy esearch motion |          |         |       |       |            |             |         |     |        |      |        |     |      |      |           |         |     |     |        |\\n|  7 | Japan              | De Beers Jewellers Japan K.K                            | Yes                              | S                      |          |         |       |       |            |             |         |     |        |      |        |     |      |      |           |         |     |     |        |\\n|  8 | Luxembourg         | Kumba Iron Ore Holdings Sarl                            | Yes                              |                        |          |         |       |       |            |             |         |     |        |      |        |     |      |      |           |         |     |     |        |\\n|  9 | Macau              | De Beers Jewellers (Macau) Company Limited              | Yes                              | S                      |          |         |       |       |            |             |         |     |        |      |        |     |      |      |           |         |     |     |        |\\n| 10 | Mexico             | Anglo American Mexico S.A. de CV.                       | Yes                              |                        |          |         |       |       |            |             |         |     |        |      |        |     |      |      |           |         |     |     |        |\\n| 11 | Mexico             | Servicios Anglo American Mexico S.A. de C.V.            | Yes                              | Explor                 | loration |         |       |       |            |             |         |     |        |      |        |     |      |      |           |         |     |     |        |\\n| 12 | Mozambique         | Anglo American Corporation Mocambique Servicos Limitada | Yes                              |                        |          |         |       |       |            |             |         |     |        |      |        |     |      |      |           |         |     |     |        |\\n| 13 | Namibia            | Ambase Prospecting (Namibia) (Pty) Ltd                  | (es Explor                       | loration               |          |         |       |       |            |             |         |     |        |      |        |     |      |      |           |         |     |     |        |\\n| 14 | Namibia            | De Beers Marine Namibia (Pty) Ltd                       |                                  |                        |          |         |       |       |            |             |         |     |        |      |        |     |      |      |           |         |     |     |        |\\n| 15 | Namibia            | De Beers Namibia Holdings (Pty) Ltd                     | Yes                              |                        |          |         |       |       |            |             |         |     |        |      |        |     |      |      |           |         |     |     |        |\\n| 16 | Namibia            | Debmarine Namdeb Foundation                             | Yes                              | 2S                     |          |         |       |       |            |             |         |     |        |      |        |     |      |      |           |         |     |     |        |\\n| 17 | Namibia            | DTC Valuations Namibia (Pty) Ltd                        | Yes                              |                        |          |         |       |       |            |             |         |     |        |      |        |     |      |      |           |         |     |     |        |\\n| 18 | Namibia            | Exclusive Properties (Pty) Ltd                          | Yes                              | 2S                     |          |         |       |       |            |             |         |     |        |      |        |     |      |      |           |         |     |     |        |\\n| 19 | Namibia            | Longboat Trading (Pty) Ltd                              | Yes                              | Not mane               | anaged   |         |       |       |            |             |         |     |        |      |        |     |      |      |           |         |     |     |        |\\n| 20 | Namibia            | Namdeb Diamond Corporation (Pty) Ltd                    |                                  |                        |          |         |       |       |            |             |         |     |        |      |        |     |      |      |           |         |     |     |        |\\n| 21 | Namibia            | Namdeb Holdings (Pty) Ltd                               | Yes                              |                        |          |         |       |       |            |             |         |     |        |      |        |     |      |      |           |         |     |     |        |\\n| 22 | Namibia            | Namdeb Hospital Pharmacy (Pty) Ltd                      | Yes                              | 2S                     |          |         |       |       |            |             |         |     |        |      |        |     |      |      |           |         |     |     |        |\\n| 23 | Namibia            | Namdeb Properties (Pty) Ltd                             | Yes                              | 2S                     |          |         |       |       |            |             |         |     |        |      |        |     |      |      |           |         |     |     |        |\\n| 24 | Namibia            | Namibia Diamond Trading Company (Pty) Ltd               | Yes                              | S                      |          |         |       |       |            |             |         |     |        |      |        |     |      |      |           |         |     |     |        |\\n| 25 | Namibia            | Oranjemund Town Management Company (Pty) Ltd            | Yes                              | 2S                     |          |         |       |       |            |             |         |     |        |      |        |     |      |      |           |         |     |     |        |\\nSummary:\\n- Country: Isle of Man, Israel, Italy, Japan, Japan, Japan, Japan, Luxembourg, Macau, Mexico, Mexico, Mozambique, Namibia, Namibia, Namibia, Namibia, Namibia, Namibia, Namibia, Namibia, Namibia, Namibia, Namibia, Namibia, Namibia, Namibia, Namibia, Namibia, Nam'}),\n",
       " Document(page_content='|    | Tax Jurisdiction            | Name                                                           | 4 5 1220 0 0   | 0 _ 2 & 6 & 426 & 0 651 Ei                                                                      | 0 f1 ci& 2 I 6 =   | 5           | 5 6   | 4 2   |\\n|---:|:----------------------------|:---------------------------------------------------------------|:---------------|:------------------------------------------------------------------------------------------------|:-------------------|:------------|:------|:------|\\n|  1 | Netherlands                 | Element Six N.V.                                               | Yes            | es                                                                                              |                    |             |       |       |\\n|  2 | Papua New Guinea            | Anglo American Exploration (PNG) Limited                       | Yes            | es                                                                                              |                    |             |       |       |\\n|  3 | Papua New Guinea            | Anglo American (Star Mountain) Limited                         | Yes            | es                                                                                              |                    |             |       |       |\\n|  4 | Peru                        | Anglo American Peru S.A.                                       | Yes            | Yes                                                                                             | Exploration        |             |       |       |\\n|  5 | Peru                        | Anglo American Quellaveco S.A.                                 | Yes            |                                                                                                 |                    |             |       |       |\\n|  6 | Peru                        | Anglo American Servicios Peru S.A.                             | Yes            | Yes                                                                                             | es                 |             |       |       |\\n|  7 | Peru                        | Asociacion Michiquillay                                        | Yes            | Not-- organization: Development and execution for Social Responsability Droarammoc -for- profit |                    |             |       |       |\\n|  8 | Peru                        | Asociacion Quellaveco                                          | Yes            | Not- profit organization: Development and execution for Social Responsability Programmes for-   |                    |             |       |       |\\n|  9 | Peru                        | Cobre del Norte S.A.                                           | Yes            |                                                                                                 |                    |             |       |       |\\n| 10 | Peru                        | Anglo American Marketing Peru S.A.                             | Yes            | Not active yet                                                                                  |                    |             |       |       |\\n| 11 | Peru                        | Anglo American Technical & Sustainability Services Ltd Peru PE | Yes            | Not active yet                                                                                  |                    |             |       |       |\\n| 12 | Philippines                 | Anglo American Exploration (Philippines) Inc.                  | Yes            | Yes                                                                                             | es                 |             |       |       |\\n| 13 | Republic of North Macedonia | Anglo American Exploration West Tetyan Skopje                  | Yes            | Yes                                                                                             | es                 | Exploration |       |       |\\n| 14 | Sierra Leone                | Gemfair (SL) Limited                                           | Yes            |                                                                                                 |                    |             |       |       |\\n| 15 | Singapore                   | Anglo American STF Pte: Ltd.                                   | Yes            |                                                                                                 |                    |             |       |       |\\n| 16 | Singapore                   | Anglo American Marketing Limited Singapore branch              | Yes            |                                                                                                 |                    |             |       |       |\\n| 17 | Singapore                   | Anglo Platinum Marketing Limited Singapore branch              | Yes            |                                                                                                 |                    |             |       |       |', metadata={'page': 13, 'summary': 'Human: \\nYou are an assistant responsible for extracting information from markdown tables.\\nExtract in a string all the key words and themes from the markdown table below, and add as many words from their lexical fields.\\n\\nGuidelines:\\n- If country names are present in the table, list them all in the summary.\\n- If financial KPIs are present in the table, list them all in the summary.\\n\\nTable: |    | Tax Jurisdiction            | Name                                                           | 4 5 1220 0 0   | 0 _ 2 & 6 & 426 & 0 651 Ei                                                                      | 0 f1 ci& 2 I 6 =   | 5           | 5 6   | 4 2   |\\n|---:|:----------------------------|:---------------------------------------------------------------|:---------------|:------------------------------------------------------------------------------------------------|:-------------------|:------------|:------|:------|\\n|  1 | Netherlands                 | Element Six N.V.                                               | Yes            | es                                                                                              |                    |             |       |       |\\n|  2 | Papua New Guinea            | Anglo American Exploration (PNG) Limited                       | Yes            | es                                                                                              |                    |             |       |       |\\n|  3 | Papua New Guinea            | Anglo American (Star Mountain) Limited                         | Yes            | es                                                                                              |                    |             |       |       |\\n|  4 | Peru                        | Anglo American Peru S.A.                                       | Yes            | Yes                                                                                             | Exploration        |             |       |       |\\n|  5 | Peru                        | Anglo American Quellaveco S.A.                                 | Yes            |                                                                                                 |                    |             |       |       |\\n|  6 | Peru                        | Anglo American Servicios Peru S.A.                             | Yes            | Yes                                                                                             | es                 |             |       |       |\\n|  7 | Peru                        | Asociacion Michiquillay                                        | Yes            | Not-- organization: Development and execution for Social Responsability Droarammoc -for- profit |                    |             |       |       |\\n|  8 | Peru                        | Asociacion Quellaveco                                          | Yes            | Not- profit organization: Development and execution for Social Responsability Programmes for-   |                    |             |       |       |\\n|  9 | Peru                        | Cobre del Norte S.A.                                           | Yes            |                                                                                                 |                    |             |       |       |\\n| 10 | Peru                        | Anglo American Marketing Peru S.A.                             | Yes            | Not active yet                                                                                  |                    |             |       |       |\\n| 11 | Peru                        | Anglo American Technical & Sustainability Services Ltd Peru PE | Yes            | Not active yet                                                                                  |                    |             |       |       |\\n| 12 | Philippines                 | Anglo American Exploration (Philippines) Inc.                  | Yes            | Yes                                                                                             | es                 |             |       |       |\\n| 13 | Republic of North Macedonia | Anglo American Exploration West Tetyan Skopje                  | Yes            | Yes                                                                                             | es                 | Exploration |       |       |\\n| 14 | Sierra Leone                | Gemfair (SL) Limited                                           | Yes            |                                                                                                 |                    |             |       |       |\\n| 15 | Singapore                   | Anglo American STF Pte: Ltd.                                   | Yes            |                                                                                                 |                    |             |       |       |\\n| 16 | Singapore                   | Anglo American Marketing Limited Singapore branch              | Yes            |                                                                                                 |                    |             |       |       |\\n| 17 | Singapore                   | Anglo Platinum Marketing Limited Singapore branch              | Yes            |                                                                                                 |                    |             |       |       |\\nSummary:\\n- Netherlands\\n- Papua New Guinea\\n- Peru\\n- Philippines\\n- Republic of North Macedonia\\n- Sierra Leone\\n- Singapore\\n\\nFinancial KPIs:\\n- es\\n- Yes\\n- Yes\\n- Yes\\n- Yes\\n- Yes\\n- Yes\\n- Yes\\n- Yes\\n- Yes\\n- Yes\\n- Yes\\n- Yes\\n- Yes\\n- Yes\\n- Yes\\n- Yes\\n- Yes\\n- Yes\\n- Yes'}),\n",
       " Document(page_content='|    | Tax Jurisdiction   | Name 2 8 222                                                         | 2 22 2 2     | 2 2 2             | 2 2 28   | 2 8 3          | 2 3                 | 8 2 8 9   | 2 G 2 %3 3   | 2 64 2 #52 2   | 5 2 44 2   | 2 2   | 2 & 2   | 8   | 6   | 24   |\\n|---:|:-------------------|:---------------------------------------------------------------------|:-------------|:------------------|:---------|:---------------|:--------------------|:----------|:-------------|:---------------|:-----------|:------|:--------|:----|:----|:-----|\\n|  1 | Australia          | Anglo Coal (Grosvenor Management) Pty Ltd                            | Yes          | Yes               |          |                |                     |           |              |                |            |       |         |     |     |      |\\n|  2 | Australia          | Anglo Coal (Grosvenor) Ltd Pty                                       | Yes          | Yes               | Yes      |                |                     |           |              |                |            |       |         |     |     |      |\\n|  3 | Australia          | Anglo Coal (Jellinbah) Holdings Pty Ltd                              | Yes          |                   |          |                |                     |           |              |                |            |       |         |     |     |      |\\n|  4 | Australia          | Anglo Coal (Moranbah North Management) Limited Pty                   | Yes          | Yes               |          |                |                     |           |              |                |            |       |         |     |     |      |\\n|  5 | Australia          | Anglo Coal (Roper Creek) Ltd Pty                                     | Yes          | Yes               | Yes      |                |                     |           |              |                |            |       |         |     |     |      |\\n|  6 | Australia          | Anglo Coal (Theodore South) Pty Ltd                                  | Yes          | Yes               | Yes      | Yes JV part Co | participant company |           |              |                |            |       |         |     |     |      |\\n|  7 | Australia          | Anglo Operations (Australia) Ltd Pty                                 | Yes          |                   |          |                |                     |           |              |                |            |       |         |     |     |      |\\n|  8 | Australia          | Dawson Coal Processing Pty Ltd                                       | Yes Emplc CO | mployment company |          |                |                     |           |              |                |            |       |         |     |     |      |\\n|  9 | Australia          | Dawson Highwall Mining Pty Ltd                                       | Yes          |                   |          |                |                     |           |              |                |            |       |         |     |     |      |\\n| 10 | Australia          | Dawson Sales Pty Lta                                                 | Yes          |                   |          |                |                     |           |              |                |            |       |         |     |     |      |\\n| 11 | Australia          | Dawson South Sales Pty Ltd                                           | Yes          |                   |          |                |                     |           |              |                |            |       |         |     |     |      |\\n| 12 | F4o Auctrelic      | L DU Du Do Roorc Uctrelia loration imited                            |              |                   |          |                |                     |           |              |                |            |       |         |     |     |      |\\n| 13 | Auctrelic          | Carman reolk Dti_ imitad                                             | Ya           |                   |          |                |                     |           |              |                |            |       |         |     |     |      |\\n| 14 | Auctrolic          | lenc Ptv imited                                                      | Yes          |                   |          |                |                     |           |              |                |            |       |         |     |     |      |\\n| 15 | Australia          | Monash Energy Coal Limited                                           | Yes          |                   |          |                |                     |           |              |                |            |       |         |     |     |      |\\n| 16 | Australia          | Moranbah North Coal (No2) Pty Ltd                                    | Yes          | Yes               | Yes      |                |                     |           |              |                |            |       |         |     |     |      |\\n| 17 | Australia          | Moranbah North Coal (Sales) Pty Ltd                                  | Yes          |                   |          |                |                     |           |              |                |            |       |         |     |     |      |\\n| 18 | Australia          | Jena Unit Trust                                                      | Yes          | Yes               | Yes      |                |                     |           |              |                |            |       |         |     |     |      |\\n| 19 | Australia          | Anglo American Technical & Sustainability Services Australia Branch  | Yes          | Yes               |          |                |                     |           |              |                |            |       |         |     |     |      |\\n| 20 | Australia          | Moranbah North Coal Ltd Pty                                          | Yes          | Yes               | Yes      |                |                     |           |              |                |            |       |         |     |     |      |\\n| 21 | Belgium            | De Beers Auction Sales Belgium NV                                    | Yes          | Yes               |          |                |                     |           |              |                |            |       |         |     |     |      |\\n| 22 | Belgium            | International Institute of Diamond Grading and Research (Belgium) NV | Yes          | Yes               | Yes      |                |                     |           |              |                |            |       |         |     |     |      |\\n| 23 | Bermuda            | Coromin Insurance Limited                                            | Yes          | Yes               |          |                |                     |           |              |                |            |       |         |     |     |      |\\n| 24 | Bermuda            | Holdac Insurance Limited                                             | Yes          |                   |          |                |                     |           |              |                |            |       |         |     |     |      |', metadata={'page': 8, 'summary': 'Human: \\nYou are an assistant responsible for extracting information from markdown tables.\\nExtract in a string all the key words and themes from the markdown table below, and add as many words from their lexical fields.\\n\\nGuidelines:\\n- If country names are present in the table, list them all in the summary.\\n- If financial KPIs are present in the table, list them all in the summary.\\n\\nTable: |    | Tax Jurisdiction   | Name 2 8 222                                                         | 2 22 2 2     | 2 2 2             | 2 2 28   | 2 8 3          | 2 3                 | 8 2 8 9   | 2 G 2 %3 3   | 2 64 2 #52 2   | 5 2 44 2   | 2 2   | 2 & 2   | 8   | 6   | 24   |\\n|---:|:-------------------|:---------------------------------------------------------------------|:-------------|:------------------|:---------|:---------------|:--------------------|:----------|:-------------|:---------------|:-----------|:------|:--------|:----|:----|:-----|\\n|  1 | Australia          | Anglo Coal (Grosvenor Management) Pty Ltd                            | Yes          | Yes               |          |                |                     |           |              |                |            |       |         |     |     |      |\\n|  2 | Australia          | Anglo Coal (Grosvenor) Ltd Pty                                       | Yes          | Yes               | Yes      |                |                     |           |              |                |            |       |         |     |     |      |\\n|  3 | Australia          | Anglo Coal (Jellinbah) Holdings Pty Ltd                              | Yes          |                   |          |                |                     |           |              |                |            |       |         |     |     |      |\\n|  4 | Australia          | Anglo Coal (Moranbah North Management) Limited Pty                   | Yes          | Yes               |          |                |                     |           |              |                |            |       |         |     |     |      |\\n|  5 | Australia          | Anglo Coal (Roper Creek) Ltd Pty                                     | Yes          | Yes               | Yes      |                |                     |           |              |                |            |       |         |     |     |      |\\n|  6 | Australia          | Anglo Coal (Theodore South) Pty Ltd                                  | Yes          | Yes               | Yes      | Yes JV part Co | participant company |           |              |                |            |       |         |     |     |      |\\n|  7 | Australia          | Anglo Operations (Australia) Ltd Pty                                 | Yes          |                   |          |                |                     |           |              |                |            |       |         |     |     |      |\\n|  8 | Australia          | Dawson Coal Processing Pty Ltd                                       | Yes Emplc CO | mployment company |          |                |                     |           |              |                |            |       |         |     |     |      |\\n|  9 | Australia          | Dawson Highwall Mining Pty Ltd                                       | Yes          |                   |          |                |                     |           |              |                |            |       |         |     |     |      |\\n| 10 | Australia          | Dawson Sales Pty Lta                                                 | Yes          |                   |          |                |                     |           |              |                |            |       |         |     |     |      |\\n| 11 | Australia          | Dawson South Sales Pty Ltd                                           | Yes          |                   |          |                |                     |           |              |                |            |       |         |     |     |      |\\n| 12 | F4o Auctrelic      | L DU Du Do Roorc Uctrelia loration imited                            |              |                   |          |                |                     |           |              |                |            |       |         |     |     |      |\\n| 13 | Auctrelic          | Carman reolk Dti_ imitad                                             | Ya           |                   |          |                |                     |           |              |                |            |       |         |     |     |      |\\n| 14 | Auctrolic          | lenc Ptv imited                                                      | Yes          |                   |          |                |                     |           |              |                |            |       |         |     |     |      |\\n| 15 | Australia          | Monash Energy Coal Limited                                           | Yes          |                   |          |                |                     |           |              |                |            |       |         |     |     |      |\\n| 16 | Australia          | Moranbah North Coal (No2) Pty Ltd                                    | Yes          | Yes               | Yes      |                |                     |           |              |                |            |       |         |     |     |      |\\n| 17 | Australia          | Moranbah North Coal (Sales) Pty Ltd                                  | Yes          |                   |          |                |                     |           |              |                |            |       |         |     |     |      |\\n| 18 | Australia          | Jena Unit Trust                                                      | Yes          | Yes               | Yes      |                |                     |           |              |                |            |       |         |     |     |      |\\n| 19 | Australia          | Anglo American Technical & Sustainability Services Australia Branch  | Yes          | Yes               |          |                |                     |           |              |                |            |       |         |     |     |      |\\n| 20 | Australia          | Moranbah North Coal Ltd Pty                                          | Yes          | Yes               | Yes      |                |                     |           |              |                |            |       |         |     |     |      |\\n| 21 | Belgium            | De Beers Auction Sales Belgium NV                                    | Yes          | Yes               |          |                |                     |           |              |                |            |       |         |     |     |      |\\n| 22 | Belgium            | International Institute of Diamond Grading and Research (Belgium) NV | Yes          | Yes               | Yes      |                |                     |           |              |                |            |       |         |     |     |      |\\n| 23 | Bermuda            | Coromin Insurance Limited                                            | Yes          | Yes               |          |                |                     |           |              |                |            |       |         |     |     |      |\\n| 24 | Bermuda            | Holdac Insurance Limited                                             | Yes          |                   |          |                |                     |           |              |                |            |       |         |     |     |      |\\nSummary:\\n- Australia\\n- Anglo Coal (Grosvenor Management) Pty Ltd\\n- Anglo Coal (Grosvenor) Ltd Pty\\n- Anglo Coal (Jellinbah) Holdings Pty Ltd\\n- Anglo Coal (Moranbah North Management) Limited Pty\\n- Anglo Coal (Roper Creek) Ltd Pty\\n- Anglo Coal (Theodore South) Pty Ltd\\n- Anglo Operations (Austral'})]"
      ]
     },
     "execution_count": 21,
     "metadata": {},
     "output_type": "execute_result"
    }
   ],
   "source": [
    "retriever.get_relevant_documents(\"Ireland\")"
   ]
  },
  {
   "cell_type": "code",
   "execution_count": null,
   "metadata": {},
   "outputs": [],
   "source": [
    "def get_top_k_docs(retriever, question, k):\n",
    "    retriever.search_kwargs = {\"k\": k}\n",
    "    docs = retriever.get_relevant_documents(question)\n",
    "    df_docs = dict()\n",
    "    for i, doc in enumerate(docs):\n",
    "        df_docs[\"Doc {}\".format(i+1)] = dict()\n",
    "        df_docs[\"Doc {}\".format(i+1)]['page_content'] = doc.page_content\n",
    "        # df_docs[\"Doc {}\".format(i+1)]['file_name'] = doc.metadata['source']\n",
    "        df_docs[\"Doc {}\".format(i+1)]['page_number'] = doc.metadata['page']\n",
    "        # df_docs[\"Doc {}\".format(i+1)]['content_type'] = (\"tableau\" if doc.metadata['type']=='MarkdownTable' else \"texte\")\n",
    "    return df_docs"
   ]
  },
  {
   "cell_type": "code",
   "execution_count": null,
   "metadata": {},
   "outputs": [
    {
     "name": "stderr",
     "output_type": "stream",
     "text": [
      "Batches: 100%|██████████| 1/1 [00:00<00:00, 24.27it/s]\n"
     ]
    },
    {
     "data": {
      "text/plain": [
       "{'Doc 1': {'page_content': '|    | nclude cash taxes paid by the     | permanent establishments, the stated capitalis reported by the                                                                     |\\n|---:|:----------------------------------|:-----------------------------------------------------------------------------------------------------------------------------------|\\n|  1 | s reportedbv comnanv              | Number of Employees                                                                                                                |\\n|  2 | negative amountsin Table 1_       | The total number of employees on a full-time equivalent (FTE) basis of allthe constituent entities resident for tax purposesin the |\\n|  3 | Year)                             | relevant taxjurisdiction The number of employeeshas been renorted onthebasis of averaae emnlovmentlevels for thevear               |\\n|  4 | xpense recorded on taxable        |                                                                                                                                    |\\n|  5 | ind of allthe constituententities |                                                                                                                                    |\\n|  6 | ricdic+i L                        | Tangiple Asses Oiner nan Casn ana easn Equivalents                                                                                 |',\n",
       "  'page_number': 24},\n",
       " 'Doc 2': {'page_content': '|    | Tax Jurisdiction   | Name 2 8 222                                                         | 2 22 2 2     | 2 2 2             | 2 2 28   | 2 8 3          | 2 3                 | 8 2 8 9   | 2 G 2 %3 3   | 2 64 2 #52 2   | 5 2 44 2   | 2 2   | 2 & 2   | 8   | 6   | 24   |\\n|---:|:-------------------|:---------------------------------------------------------------------|:-------------|:------------------|:---------|:---------------|:--------------------|:----------|:-------------|:---------------|:-----------|:------|:--------|:----|:----|:-----|\\n|  1 | Australia          | Anglo Coal (Grosvenor Management) Pty Ltd                            | Yes          | Yes               |          |                |                     |           |              |                |            |       |         |     |     |      |\\n|  2 | Australia          | Anglo Coal (Grosvenor) Ltd Pty                                       | Yes          | Yes               | Yes      |                |                     |           |              |                |            |       |         |     |     |      |\\n|  3 | Australia          | Anglo Coal (Jellinbah) Holdings Pty Ltd                              | Yes          |                   |          |                |                     |           |              |                |            |       |         |     |     |      |\\n|  4 | Australia          | Anglo Coal (Moranbah North Management) Limited Pty                   | Yes          | Yes               |          |                |                     |           |              |                |            |       |         |     |     |      |\\n|  5 | Australia          | Anglo Coal (Roper Creek) Ltd Pty                                     | Yes          | Yes               | Yes      |                |                     |           |              |                |            |       |         |     |     |      |\\n|  6 | Australia          | Anglo Coal (Theodore South) Pty Ltd                                  | Yes          | Yes               | Yes      | Yes JV part Co | participant company |           |              |                |            |       |         |     |     |      |\\n|  7 | Australia          | Anglo Operations (Australia) Ltd Pty                                 | Yes          |                   |          |                |                     |           |              |                |            |       |         |     |     |      |\\n|  8 | Australia          | Dawson Coal Processing Pty Ltd                                       | Yes Emplc CO | mployment company |          |                |                     |           |              |                |            |       |         |     |     |      |\\n|  9 | Australia          | Dawson Highwall Mining Pty Ltd                                       | Yes          |                   |          |                |                     |           |              |                |            |       |         |     |     |      |\\n| 10 | Australia          | Dawson Sales Pty Lta                                                 | Yes          |                   |          |                |                     |           |              |                |            |       |         |     |     |      |\\n| 11 | Australia          | Dawson South Sales Pty Ltd                                           | Yes          |                   |          |                |                     |           |              |                |            |       |         |     |     |      |\\n| 12 | F4o Auctrelic      | L DU Du Do Roorc Uctrelia loration imited                            |              |                   |          |                |                     |           |              |                |            |       |         |     |     |      |\\n| 13 | Auctrelic          | Carman reolk Dti_ imitad                                             | Ya           |                   |          |                |                     |           |              |                |            |       |         |     |     |      |\\n| 14 | Auctrolic          | lenc Ptv imited                                                      | Yes          |                   |          |                |                     |           |              |                |            |       |         |     |     |      |\\n| 15 | Australia          | Monash Energy Coal Limited                                           | Yes          |                   |          |                |                     |           |              |                |            |       |         |     |     |      |\\n| 16 | Australia          | Moranbah North Coal (No2) Pty Ltd                                    | Yes          | Yes               | Yes      |                |                     |           |              |                |            |       |         |     |     |      |\\n| 17 | Australia          | Moranbah North Coal (Sales) Pty Ltd                                  | Yes          |                   |          |                |                     |           |              |                |            |       |         |     |     |      |\\n| 18 | Australia          | Jena Unit Trust                                                      | Yes          | Yes               | Yes      |                |                     |           |              |                |            |       |         |     |     |      |\\n| 19 | Australia          | Anglo American Technical & Sustainability Services Australia Branch  | Yes          | Yes               |          |                |                     |           |              |                |            |       |         |     |     |      |\\n| 20 | Australia          | Moranbah North Coal Ltd Pty                                          | Yes          | Yes               | Yes      |                |                     |           |              |                |            |       |         |     |     |      |\\n| 21 | Belgium            | De Beers Auction Sales Belgium NV                                    | Yes          | Yes               |          |                |                     |           |              |                |            |       |         |     |     |      |\\n| 22 | Belgium            | International Institute of Diamond Grading and Research (Belgium) NV | Yes          | Yes               | Yes      |                |                     |           |              |                |            |       |         |     |     |      |\\n| 23 | Bermuda            | Coromin Insurance Limited                                            | Yes          | Yes               |          |                |                     |           |              |                |            |       |         |     |     |      |\\n| 24 | Bermuda            | Holdac Insurance Limited                                             | Yes          |                   |          |                |                     |           |              |                |            |       |         |     |     |      |',\n",
       "  'page_number': 8},\n",
       " 'Doc 3': {'page_content': \"|    | nglo American is a leading global mining company ith a world class portfolio of mining and processing perations and undeveloped resources We provide e metals and minerals to meetthe growing consumer riven demands of the world's developed and maturing conomies Andwe do so in a way thatnot only enerates sustainable returns for our shareholders, ut also strives to make a real and lasting positive ontribution to society:                                                                                                      | We take a responsible approach to the management of taxes, supporting active and constructive engagement with our stakeholders to deliver long-term sustainable value: Our approach to taxis based onthree pillars: responsibility, compliance and transparency: We are proud of our open andtransparent approach to tax reporting: In addition to our mandatory disclosure obligations, we are committed to furthering our involvementin voluntary compliance initiatives, such as the Tax Transparency Code (developed by the Board of Taxation in Australia) the Responsible Tax Principles (developed by the B Team), the Extractive Industries Transparency Initiative (both directly and as part ofthe International Council on Mining and Metals) andthe Tax Transparency Standard GRI 207: Tax 2019 (developed by the Global Reporting Initiative, effective from January 2021). We are active participants in discussions with stakeholders onhow best to continue ourjourney towards clearer; more transparent and more meaningful tax reporting. key key   | Aswe strive to deliver attractive and sustainable returnsto our shareholders, we are acutely aware ofthe potentialvalue creation we can offer to our diverse range of stakeholders: Through our business activities employing people, paying taxes to, and collecting taxes on behalf of,governments, andprocuring from host communities we make a significant and positive contribution to thejurisdictions in which we operate. Beyond our direct mining activities, we create and sustain jobs, build infrastructure, support education and help improvehealthcare for employees and local communities By re-imagining mining; we are improving people's lives: For any enquiries aboutthis document please contact GroupTaxReporting@angloamericancom   |\\n|---:|:------------------------------------------------------------------------------------------------------------------------------------------------------------------------------------------------------------------------------------------------------------------------------------------------------------------------------------------------------------------------------------------------------------------------------------------------------------------------------------------------------------------------------------------|:----------------------------------------------------------------------------------------------------------------------------------------------------------------------------------------------------------------------------------------------------------------------------------------------------------------------------------------------------------------------------------------------------------------------------------------------------------------------------------------------------------------------------------------------------------------------------------------------------------------------------------------------------------------------------------------------------------------------------------------------------------------------------------------------------------------------------------------------------------------------------------------------------------------------------------------------------------------------------------------------------------------------------------------------------------------------|:------------------------------------------------------------------------------------------------------------------------------------------------------------------------------------------------------------------------------------------------------------------------------------------------------------------------------------------------------------------------------------------------------------------------------------------------------------------------------------------------------------------------------------------------------------------------------------------------------------------------------------------------------------------------------------------------------------------------------------------------------------|\\n|  1 | In light of our commitments to comply with GRI 207,we publish our aggregated country-by-country reporting data in accordance with the requirements of GRI 207-4. The main differences between the OECD and GRI 207 standards are () reallocation of withholding taxesto the countryto which thetax is suffered (rather thanthe location ofthe entity paying the withholding taxes), and (ii) an explanation of any significant differences between the effective taxrate suffered andthe statutory tax ratesin each country of operation: |                                                                                                                                                                                                                                                                                                                                                                                                                                                                                                                                                                                                                                                                                                                                                                                                                                                                                                                                                                                                                                                                       |                                                                                                                                                                                                                                                                                                                                                                                                                                                                                                                                                                                                                                                                                                                                                             |\\n|  2 | We have included footnotesto set out points for further clarification where required: This document accompanies, and should be read in conjunction with,the content ofthe Tax and Economic Contribution Renort 202-                                                                                                                                                                                                                                                                                                                       |                                                                                                                                                                                                                                                                                                                                                                                                                                                                                                                                                                                                                                                                                                                                                                                                                                                                                                                                                                                                                                                                       |                                                                                                                                                                                                                                                                                                                                                                                                                                                                                                                                                                                                                                                                                                                                                             |\",\n",
       "  'page_number': 2}}"
      ]
     },
     "execution_count": 23,
     "metadata": {},
     "output_type": "execute_result"
    }
   ],
   "source": [
    "question = \"How many employees in Ireland\"\n",
    "get_top_k_docs(retriever, question, k)"
   ]
  },
  {
   "cell_type": "markdown",
   "metadata": {},
   "source": [
    "## Testing simple RAG"
   ]
  },
  {
   "cell_type": "code",
   "execution_count": null,
   "metadata": {},
   "outputs": [],
   "source": [
    "retriever.search_kwargs = {\"k\": k}"
   ]
  },
  {
   "cell_type": "code",
   "execution_count": null,
   "metadata": {},
   "outputs": [],
   "source": [
    "from langchain_core.runnables import RunnablePassthrough\n",
    "from langchain.prompts import ChatPromptTemplate\n",
    "from langchain.schema.output_parser import StrOutputParser\n",
    "\n",
    "# Prompt template\n",
    "template = \"\"\"\n",
    "Answer the question directly, using only the following markdown table as the single element of the list:\n",
    "{context}\n",
    "\n",
    "Question: {question}\n",
    "Answer:\n",
    "\"\"\"\n",
    "prompt = ChatPromptTemplate.from_template(template)\n",
    "\n",
    "# LLM\n",
    "model = get_llm()\n",
    "\n",
    "# RAG pipeline\n",
    "chain = (\n",
    "    {\"context\": retriever, \"question\": RunnablePassthrough()}\n",
    "    | prompt\n",
    "    | model\n",
    "    | StrOutputParser()\n",
    ")"
   ]
  },
  {
   "cell_type": "code",
   "execution_count": null,
   "metadata": {},
   "outputs": [
    {
     "name": "stderr",
     "output_type": "stream",
     "text": [
      "Batches:   0%|          | 0/1 [00:00<?, ?it/s]"
     ]
    },
    {
     "name": "stderr",
     "output_type": "stream",
     "text": [
      "Batches: 100%|██████████| 1/1 [00:00<00:00, 27.58it/s]\n"
     ]
    }
   ],
   "source": [
    "question = \"How many employees in Ireland?\"\n",
    "result = chain.invoke(question)"
   ]
  },
  {
   "cell_type": "code",
   "execution_count": null,
   "metadata": {},
   "outputs": [],
   "source": [
    "with open('rag_result.txt', 'w') as f:\n",
    "    f.write(result)"
   ]
  },
  {
   "cell_type": "markdown",
   "metadata": {},
   "source": [
    "## Final chain"
   ]
  },
  {
   "cell_type": "code",
   "execution_count": null,
   "metadata": {},
   "outputs": [
    {
     "name": "stdout",
     "output_type": "stream",
     "text": [
      "The autoreload extension is already loaded. To reload it, use:\n",
      "  %reload_ext autoreload\n"
     ]
    },
    {
     "name": "stderr",
     "output_type": "stream",
     "text": [
      "Batches: 100%|██████████| 1/1 [00:00<00:00, 33.74it/s]\n",
      "Batches: 100%|██████████| 1/1 [00:00<00:00, 32.08it/s]\n"
     ]
    }
   ],
   "source": [
    "%load_ext autoreload\n",
    "%autoreload 2\n",
    "from country_by_country.rag_engine.rag import Extraction\n",
    "\n",
    "llm = get_llm()\n",
    "chain = Extraction(retriever, llm)\n",
    "questions = [\n",
    "    \"How many employees in Ireland?\",\n",
    "    \"What revenue has been declared in France?\",\n",
    "]\n",
    "\n",
    "df_answers = chain.run(questions)"
   ]
  },
  {
   "cell_type": "code",
   "execution_count": null,
   "metadata": {},
   "outputs": [
    {
     "data": {
      "text/html": [
       "<div>\n",
       "<style scoped>\n",
       "    .dataframe tbody tr th:only-of-type {\n",
       "        vertical-align: middle;\n",
       "    }\n",
       "\n",
       "    .dataframe tbody tr th {\n",
       "        vertical-align: top;\n",
       "    }\n",
       "\n",
       "    .dataframe thead th {\n",
       "        text-align: right;\n",
       "    }\n",
       "</style>\n",
       "<table border=\"1\" class=\"dataframe\">\n",
       "  <thead>\n",
       "    <tr style=\"text-align: right;\">\n",
       "      <th></th>\n",
       "      <th>question</th>\n",
       "      <th>answer</th>\n",
       "      <th>Doc 1 page</th>\n",
       "      <th>Doc 1 relevant content</th>\n",
       "      <th>Doc 2 page</th>\n",
       "      <th>Doc 2 relevant content</th>\n",
       "      <th>Doc 3 page</th>\n",
       "      <th>Doc 3 relevant content</th>\n",
       "    </tr>\n",
       "  </thead>\n",
       "  <tbody>\n",
       "    <tr>\n",
       "      <th>0</th>\n",
       "      <td>How many employees in Ireland?</td>\n",
       "      <td>Human: \\n    You are an economical expert, wit...</td>\n",
       "      <td>24</td>\n",
       "      <td>|    | nclude cash taxes paid by the     | per...</td>\n",
       "      <td>8</td>\n",
       "      <td>|    | Tax Jurisdiction   | Name 2 8 222      ...</td>\n",
       "      <td>2</td>\n",
       "      <td>|    | nglo American is a leading global minin...</td>\n",
       "    </tr>\n",
       "    <tr>\n",
       "      <th>1</th>\n",
       "      <td>What revenue has been declared in France?</td>\n",
       "      <td>Human: \\n    You are an economical expert, wit...</td>\n",
       "      <td>24</td>\n",
       "      <td>|    | nclude cash taxes paid by the     | per...</td>\n",
       "      <td>2</td>\n",
       "      <td>|    | nglo American is a leading global minin...</td>\n",
       "      <td>24</td>\n",
       "      <td>|    | income and expense items:              ...</td>\n",
       "    </tr>\n",
       "  </tbody>\n",
       "</table>\n",
       "</div>"
      ],
      "text/plain": [
       "                                    question  \\\n",
       "0             How many employees in Ireland?   \n",
       "1  What revenue has been declared in France?   \n",
       "\n",
       "                                              answer  Doc 1 page  \\\n",
       "0  Human: \\n    You are an economical expert, wit...          24   \n",
       "1  Human: \\n    You are an economical expert, wit...          24   \n",
       "\n",
       "                              Doc 1 relevant content  Doc 2 page  \\\n",
       "0  |    | nclude cash taxes paid by the     | per...           8   \n",
       "1  |    | nclude cash taxes paid by the     | per...           2   \n",
       "\n",
       "                              Doc 2 relevant content  Doc 3 page  \\\n",
       "0  |    | Tax Jurisdiction   | Name 2 8 222      ...           2   \n",
       "1  |    | nglo American is a leading global minin...          24   \n",
       "\n",
       "                              Doc 3 relevant content  \n",
       "0  |    | nglo American is a leading global minin...  \n",
       "1  |    | income and expense items:              ...  "
      ]
     },
     "execution_count": 29,
     "metadata": {},
     "output_type": "execute_result"
    }
   ],
   "source": [
    "df_answers"
   ]
  },
  {
   "cell_type": "code",
   "execution_count": null,
   "metadata": {},
   "outputs": [],
   "source": [
    "df_answers.to_excel('rag_answers.xlsx', index=False)"
   ]
  },
  {
   "cell_type": "code",
   "execution_count": null,
   "metadata": {},
   "outputs": [],
   "source": []
  }
 ],
 "metadata": {
  "kernelspec": {
   "display_name": "condataxobs",
   "language": "python",
   "name": "python3"
  },
  "language_info": {
   "codemirror_mode": {
    "name": "ipython",
    "version": 3
   },
   "file_extension": ".py",
   "mimetype": "text/x-python",
   "name": "python",
   "nbconvert_exporter": "python",
   "pygments_lexer": "ipython3",
   "version": "3.10.13"
  }
 },
 "nbformat": 4,
 "nbformat_minor": 2
}
