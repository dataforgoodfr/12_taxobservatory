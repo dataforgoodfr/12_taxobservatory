{
  "cells": [
    {
      "cell_type": "markdown",
      "metadata": {
        "id": "aMtTqGEXC2zj"
      },
      "source": [
        "## Functions for cropped table extraction\n",
        "\n",
        "Load a Table Transformer pre-trained for table detection. We use the \"no_timm\" version here to load the checkpoint with a Transformers-native backbone."
      ]
    },
    {
      "cell_type": "code",
      "execution_count": 26,
      "metadata": {
        "id": "fXnWUnjMxjZz"
      },
      "outputs": [],
      "source": [
        "from transformers import AutoModelForObjectDetection\n",
        "\n",
        "model = AutoModelForObjectDetection.from_pretrained(\"microsoft/table-transformer-detection\", revision=\"no_timm\")"
      ]
    },
    {
      "cell_type": "code",
      "execution_count": 27,
      "metadata": {
        "colab": {
          "base_uri": "https://localhost:8080/"
        },
        "id": "VXbH_9T2_qzm",
        "outputId": "0ff08dd1-a616-4beb-f7b4-6584a5e33661"
      },
      "outputs": [
        {
          "data": {
            "text/plain": [
              "{0: 'table', 1: 'table rotated'}"
            ]
          },
          "execution_count": 27,
          "metadata": {},
          "output_type": "execute_result"
        }
      ],
      "source": [
        "model.config.id2label"
      ]
    },
    {
      "cell_type": "markdown",
      "metadata": {
        "id": "gdxIZ3i5GNr7"
      },
      "source": [
        "We move the model to a GPU if it's available (predictions will be faster)."
      ]
    },
    {
      "cell_type": "code",
      "execution_count": 28,
      "metadata": {
        "colab": {
          "base_uri": "https://localhost:8080/"
        },
        "id": "jp1U7eq_ECna",
        "outputId": "10de62a0-70a9-4e19-d8d0-20a1194c0340"
      },
      "outputs": [
        {
          "name": "stdout",
          "output_type": "stream",
          "text": [
            "\n"
          ]
        }
      ],
      "source": [
        "import torch\n",
        "import os\n",
        "\n",
        "device = \"cuda\" if torch.cuda.is_available() else \"cpu\"\n",
        "model.to(device)\n",
        "print(\"\")"
      ]
    },
    {
      "cell_type": "markdown",
      "metadata": {
        "id": "hEc2twKdE35L"
      },
      "source": [
        "#### Load image"
      ]
    },
    {
      "cell_type": "code",
      "execution_count": 29,
      "metadata": {},
      "outputs": [],
      "source": [
        "from PyPDF2 import PdfReader\n",
        "from pdf2image import convert_from_path"
      ]
    },
    {
      "cell_type": "markdown",
      "metadata": {
        "id": "tDiKix_JFgUj"
      },
      "source": [
        "#### Prepare image for the model\n",
        "\n",
        "Preparing the image for the model can be done as follows:"
      ]
    },
    {
      "cell_type": "code",
      "execution_count": 30,
      "metadata": {
        "id": "ARBWPAG6FeLm"
      },
      "outputs": [],
      "source": [
        "from torchvision import transforms\n",
        "\n",
        "class MaxResize(object):\n",
        "    def __init__(self, max_size=800):\n",
        "        self.max_size = max_size\n",
        "\n",
        "    def __call__(self, image):\n",
        "        width, height = image.size\n",
        "        current_max_size = max(width, height)\n",
        "        scale = self.max_size / current_max_size\n",
        "        resized_image = image.resize((int(round(scale*width)), int(round(scale*height))))\n",
        "\n",
        "        return resized_image\n",
        "\n",
        "detection_transform = transforms.Compose([\n",
        "    MaxResize(800),\n",
        "    transforms.ToTensor(),\n",
        "    transforms.Normalize([0.485, 0.456, 0.406], [0.229, 0.224, 0.225])\n",
        "])"
      ]
    },
    {
      "cell_type": "markdown",
      "metadata": {
        "id": "9iFdr8OVgOIG"
      },
      "source": [
        "#### Postprocessing\n",
        "\n",
        "Next, we take the prediction that has an actual class (i.e. not \"no object\")."
      ]
    },
    {
      "cell_type": "code",
      "execution_count": 31,
      "metadata": {
        "id": "SnO8r60VF69j"
      },
      "outputs": [],
      "source": [
        "# for output bounding box post-processing\n",
        "def box_cxcywh_to_xyxy(x):\n",
        "    x_c, y_c, w, h = x.unbind(-1)\n",
        "    b = [(x_c - 0.5 * w), (y_c - 0.5 * h), (x_c + 0.5 * w), (y_c + 0.5 * h)]\n",
        "    return torch.stack(b, dim=1)\n",
        "\n",
        "\n",
        "def rescale_bboxes(out_bbox, size):\n",
        "    img_w, img_h = size\n",
        "    b = box_cxcywh_to_xyxy(out_bbox)\n",
        "    b = b * torch.tensor([img_w, img_h, img_w, img_h], dtype=torch.float32)\n",
        "    return b\n",
        "\n",
        "\n",
        "# update id2label to include \"no object\"\n",
        "id2label = model.config.id2label\n",
        "id2label[len(model.config.id2label)] = \"no object\"\n",
        "\n",
        "\n",
        "def outputs_to_objects(outputs, img_size, id2label):\n",
        "    m = outputs.logits.softmax(-1).max(-1)\n",
        "    pred_labels = list(m.indices.detach().cpu().numpy())[0]\n",
        "    pred_scores = list(m.values.detach().cpu().numpy())[0]\n",
        "    pred_bboxes = outputs['pred_boxes'].detach().cpu()[0]\n",
        "    pred_bboxes = [elem.tolist() for elem in rescale_bboxes(pred_bboxes, img_size)]\n",
        "\n",
        "    objects = []\n",
        "    for label, score, bbox in zip(pred_labels, pred_scores, pred_bboxes):\n",
        "        class_label = id2label[int(label)]\n",
        "        if not class_label == 'no object':\n",
        "            objects.append({'label': class_label, 'score': float(score),\n",
        "                            'bbox': [float(elem) for elem in bbox]})\n",
        "\n",
        "    return objects"
      ]
    },
    {
      "cell_type": "markdown",
      "metadata": {
        "id": "eObbPVUHnPTj"
      },
      "source": [
        "#### Crop table\n",
        "\n",
        "Next, we crop the table out of the image. For that, the TATR authors employ some padding to make sure the borders of the table are included."
      ]
    },
    {
      "cell_type": "code",
      "execution_count": 32,
      "metadata": {
        "id": "cCwFQAsCnYkh"
      },
      "outputs": [],
      "source": [
        "def objects_to_crops(img, tokens, objects, class_thresholds, padding=10):\n",
        "    \"\"\"\n",
        "    Process the bounding boxes produced by the table detection model into\n",
        "    cropped table images and cropped tokens.\n",
        "    \"\"\"\n",
        "\n",
        "    table_crops = []\n",
        "    for obj in objects:\n",
        "        if obj['score'] < class_thresholds[obj['label']]:\n",
        "            continue\n",
        "\n",
        "        cropped_table = {}\n",
        "\n",
        "        bbox = obj['bbox']\n",
        "        bbox = [bbox[0]-padding, bbox[1]-padding, bbox[2]+padding, bbox[3]+padding]\n",
        "\n",
        "        cropped_img = img.crop(bbox)\n",
        "\n",
        "        table_tokens = [token for token in tokens if iob(token['bbox'], bbox) >= 0.5]\n",
        "        for token in table_tokens:\n",
        "            token['bbox'] = [token['bbox'][0]-bbox[0],\n",
        "                             token['bbox'][1]-bbox[1],\n",
        "                             token['bbox'][2]-bbox[0],\n",
        "                             token['bbox'][3]-bbox[1]]\n",
        "\n",
        "        # If table is predicted to be rotated, rotate cropped image and tokens/words:\n",
        "        if obj['label'] == 'table rotated':\n",
        "            cropped_img = cropped_img.rotate(270, expand=True)\n",
        "            for token in table_tokens:\n",
        "                bbox = token['bbox']\n",
        "                bbox = [cropped_img.size[0]-bbox[3]-1,\n",
        "                        bbox[0],\n",
        "                        cropped_img.size[0]-bbox[1]-1,\n",
        "                        bbox[2]]\n",
        "                token['bbox'] = bbox\n",
        "\n",
        "        cropped_table['image'] = cropped_img\n",
        "        cropped_table['tokens'] = table_tokens\n",
        "\n",
        "        table_crops.append(cropped_table)\n",
        "\n",
        "    return table_crops"
      ]
    },
    {
      "cell_type": "code",
      "execution_count": 33,
      "metadata": {
        "colab": {
          "base_uri": "https://localhost:8080/",
          "height": 253
        },
        "id": "kCmbxxFrjSqo",
        "outputId": "87baa72f-01bc-406b-8867-3c9365918b93"
      },
      "outputs": [],
      "source": [
        "tokens = []\n",
        "detection_class_thresholds = {\n",
        "    \"table\": 0.5,\n",
        "    \"table rotated\": 0.5,\n",
        "    \"no object\": 10\n",
        "}\n",
        "crop_padding = 43"
      ]
    },
    {
      "cell_type": "markdown",
      "metadata": {},
      "source": [
        "## Wrap all previous steps and for loop"
      ]
    },
    {
      "cell_type": "code",
      "execution_count": 34,
      "metadata": {},
      "outputs": [],
      "source": [
        "# tables_img_path = \"tables_img\""
      ]
    },
    {
      "cell_type": "code",
      "execution_count": 35,
      "metadata": {},
      "outputs": [],
      "source": [
        "import pandas as pd\n",
        "import os\n",
        "pdf_path = os.path.join(\"../data\", \"AngloAmerican_2021_CbCR_3-6.pdf\")\n",
        "page_img_folder = os.path.join(\"../data\", \"AngloAmerican_2021_CbCR/pages_img\")\n",
        "table_img_folder = os.path.join(\"../data\", \"AngloAmerican_2021_CbCR/tables_img\")"
      ]
    },
    {
      "cell_type": "code",
      "execution_count": 36,
      "metadata": {},
      "outputs": [],
      "source": [
        "def extract_images_from_pdf(pdf_path, output_folder):\n",
        "    if not os.path.exists(output_folder):\n",
        "        os.makedirs(output_folder)\n",
        "        print(f\"INFO - Folder {output_folder} created\")\n",
        "    pdf = PdfReader(pdf_path)\n",
        "    image_list = []\n",
        "    for page_number in range(len(pdf.pages)):\n",
        "        images = convert_from_path(pdf_path, dpi=300, first_page=page_number+1, last_page=page_number+1)\n",
        "        for i, image in enumerate(images):\n",
        "            image_path = f'{output_folder}/page_{page_number+1}.png'\n",
        "            image.save(image_path, 'PNG')\n",
        "            image_list.append({'page_num': page_number+1, 'image_path': image_path})\n",
        "    df = pd.DataFrame(image_list)\n",
        "    df.to_excel(os.path.join(output_folder, 'pages_img_infos.xlsx'), index=False)"
      ]
    },
    {
      "cell_type": "code",
      "execution_count": 37,
      "metadata": {},
      "outputs": [],
      "source": [
        "extract_images_from_pdf(pdf_path, page_img_folder)"
      ]
    },
    {
      "cell_type": "code",
      "execution_count": 38,
      "metadata": {},
      "outputs": [],
      "source": [
        "def extract_cropped_table_from_image(image_path, output_folder, page_number):\n",
        "    # Prepare image for the model\n",
        "    if not os.path.exists(output_folder):\n",
        "        os.makedirs(output_folder)\n",
        "        print(f\"INFO - Folder {output_folder} created\")\n",
        "    image = Image.open(image_path).convert(\"RGB\")\n",
        "    pixel_values = detection_transform(image).unsqueeze(0)\n",
        "    pixel_values = pixel_values.to(device)\n",
        "    # Forward pass\n",
        "    with torch.no_grad():\n",
        "        outputs = model(pixel_values)\n",
        "    # Postprocessing\n",
        "    objects = outputs_to_objects(outputs, image.size, id2label)\n",
        "    # Crop table\n",
        "    tables_crops = objects_to_crops(image, tokens, objects, detection_class_thresholds, padding=crop_padding)\n",
        "    for i in range(len(tables_crops)):\n",
        "        cropped_table = tables_crops[i]['image'].convert(\"RGB\")\n",
        "        cropped_table.save(os.path.join(output_folder, f'page_{page_number}_table_{i}.jpg'))"
      ]
    },
    {
      "cell_type": "code",
      "execution_count": 39,
      "metadata": {},
      "outputs": [],
      "source": [
        "from PIL import Image\n",
        "\n",
        "pages_img_infos = pd.read_excel(os.path.join(page_img_folder, 'pages_img_infos.xlsx'))\n",
        "for index_pages_doc, row_pages_doc in pages_img_infos.iterrows():\n",
        "    extract_cropped_table_from_image(\n",
        "        row_pages_doc['image_path'],\n",
        "        table_img_folder,\n",
        "        row_pages_doc['page_num']\n",
        "    )"
      ]
    },
    {
      "cell_type": "markdown",
      "metadata": {},
      "source": [
        "## Process to extract markdown tables"
      ]
    },
    {
      "cell_type": "markdown",
      "metadata": {
        "id": "WeUk901W7yT9"
      },
      "source": [
        "### Load structure recognition model\n",
        "\n",
        "Next, we load a Table Transformer pre-trained for table structure recognition."
      ]
    },
    {
      "cell_type": "code",
      "execution_count": 40,
      "metadata": {
        "colab": {
          "base_uri": "https://localhost:8080/"
        },
        "id": "U1d2flg770xs",
        "outputId": "fd6fe6cc-83b8-4582-9c2e-5ada35b82f84"
      },
      "outputs": [
        {
          "data": {
            "text/plain": [
              "TableTransformerForObjectDetection(\n",
              "  (model): TableTransformerModel(\n",
              "    (backbone): TableTransformerConvModel(\n",
              "      (conv_encoder): TableTransformerConvEncoder(\n",
              "        (model): ResNetBackbone(\n",
              "          (embedder): ResNetEmbeddings(\n",
              "            (embedder): ResNetConvLayer(\n",
              "              (convolution): Conv2d(3, 64, kernel_size=(7, 7), stride=(2, 2), padding=(3, 3), bias=False)\n",
              "              (normalization): TableTransformerFrozenBatchNorm2d()\n",
              "              (activation): ReLU()\n",
              "            )\n",
              "            (pooler): MaxPool2d(kernel_size=3, stride=2, padding=1, dilation=1, ceil_mode=False)\n",
              "          )\n",
              "          (encoder): ResNetEncoder(\n",
              "            (stages): ModuleList(\n",
              "              (0): ResNetStage(\n",
              "                (layers): Sequential(\n",
              "                  (0): ResNetBasicLayer(\n",
              "                    (shortcut): Identity()\n",
              "                    (layer): Sequential(\n",
              "                      (0): ResNetConvLayer(\n",
              "                        (convolution): Conv2d(64, 64, kernel_size=(3, 3), stride=(1, 1), padding=(1, 1), bias=False)\n",
              "                        (normalization): TableTransformerFrozenBatchNorm2d()\n",
              "                        (activation): ReLU()\n",
              "                      )\n",
              "                      (1): ResNetConvLayer(\n",
              "                        (convolution): Conv2d(64, 64, kernel_size=(3, 3), stride=(1, 1), padding=(1, 1), bias=False)\n",
              "                        (normalization): TableTransformerFrozenBatchNorm2d()\n",
              "                        (activation): Identity()\n",
              "                      )\n",
              "                    )\n",
              "                    (activation): ReLU()\n",
              "                  )\n",
              "                  (1): ResNetBasicLayer(\n",
              "                    (shortcut): Identity()\n",
              "                    (layer): Sequential(\n",
              "                      (0): ResNetConvLayer(\n",
              "                        (convolution): Conv2d(64, 64, kernel_size=(3, 3), stride=(1, 1), padding=(1, 1), bias=False)\n",
              "                        (normalization): TableTransformerFrozenBatchNorm2d()\n",
              "                        (activation): ReLU()\n",
              "                      )\n",
              "                      (1): ResNetConvLayer(\n",
              "                        (convolution): Conv2d(64, 64, kernel_size=(3, 3), stride=(1, 1), padding=(1, 1), bias=False)\n",
              "                        (normalization): TableTransformerFrozenBatchNorm2d()\n",
              "                        (activation): Identity()\n",
              "                      )\n",
              "                    )\n",
              "                    (activation): ReLU()\n",
              "                  )\n",
              "                )\n",
              "              )\n",
              "              (1): ResNetStage(\n",
              "                (layers): Sequential(\n",
              "                  (0): ResNetBasicLayer(\n",
              "                    (shortcut): ResNetShortCut(\n",
              "                      (convolution): Conv2d(64, 128, kernel_size=(1, 1), stride=(2, 2), bias=False)\n",
              "                      (normalization): TableTransformerFrozenBatchNorm2d()\n",
              "                    )\n",
              "                    (layer): Sequential(\n",
              "                      (0): ResNetConvLayer(\n",
              "                        (convolution): Conv2d(64, 128, kernel_size=(3, 3), stride=(2, 2), padding=(1, 1), bias=False)\n",
              "                        (normalization): TableTransformerFrozenBatchNorm2d()\n",
              "                        (activation): ReLU()\n",
              "                      )\n",
              "                      (1): ResNetConvLayer(\n",
              "                        (convolution): Conv2d(128, 128, kernel_size=(3, 3), stride=(1, 1), padding=(1, 1), bias=False)\n",
              "                        (normalization): TableTransformerFrozenBatchNorm2d()\n",
              "                        (activation): Identity()\n",
              "                      )\n",
              "                    )\n",
              "                    (activation): ReLU()\n",
              "                  )\n",
              "                  (1): ResNetBasicLayer(\n",
              "                    (shortcut): Identity()\n",
              "                    (layer): Sequential(\n",
              "                      (0): ResNetConvLayer(\n",
              "                        (convolution): Conv2d(128, 128, kernel_size=(3, 3), stride=(1, 1), padding=(1, 1), bias=False)\n",
              "                        (normalization): TableTransformerFrozenBatchNorm2d()\n",
              "                        (activation): ReLU()\n",
              "                      )\n",
              "                      (1): ResNetConvLayer(\n",
              "                        (convolution): Conv2d(128, 128, kernel_size=(3, 3), stride=(1, 1), padding=(1, 1), bias=False)\n",
              "                        (normalization): TableTransformerFrozenBatchNorm2d()\n",
              "                        (activation): Identity()\n",
              "                      )\n",
              "                    )\n",
              "                    (activation): ReLU()\n",
              "                  )\n",
              "                )\n",
              "              )\n",
              "              (2): ResNetStage(\n",
              "                (layers): Sequential(\n",
              "                  (0): ResNetBasicLayer(\n",
              "                    (shortcut): ResNetShortCut(\n",
              "                      (convolution): Conv2d(128, 256, kernel_size=(1, 1), stride=(2, 2), bias=False)\n",
              "                      (normalization): TableTransformerFrozenBatchNorm2d()\n",
              "                    )\n",
              "                    (layer): Sequential(\n",
              "                      (0): ResNetConvLayer(\n",
              "                        (convolution): Conv2d(128, 256, kernel_size=(3, 3), stride=(2, 2), padding=(1, 1), bias=False)\n",
              "                        (normalization): TableTransformerFrozenBatchNorm2d()\n",
              "                        (activation): ReLU()\n",
              "                      )\n",
              "                      (1): ResNetConvLayer(\n",
              "                        (convolution): Conv2d(256, 256, kernel_size=(3, 3), stride=(1, 1), padding=(1, 1), bias=False)\n",
              "                        (normalization): TableTransformerFrozenBatchNorm2d()\n",
              "                        (activation): Identity()\n",
              "                      )\n",
              "                    )\n",
              "                    (activation): ReLU()\n",
              "                  )\n",
              "                  (1): ResNetBasicLayer(\n",
              "                    (shortcut): Identity()\n",
              "                    (layer): Sequential(\n",
              "                      (0): ResNetConvLayer(\n",
              "                        (convolution): Conv2d(256, 256, kernel_size=(3, 3), stride=(1, 1), padding=(1, 1), bias=False)\n",
              "                        (normalization): TableTransformerFrozenBatchNorm2d()\n",
              "                        (activation): ReLU()\n",
              "                      )\n",
              "                      (1): ResNetConvLayer(\n",
              "                        (convolution): Conv2d(256, 256, kernel_size=(3, 3), stride=(1, 1), padding=(1, 1), bias=False)\n",
              "                        (normalization): TableTransformerFrozenBatchNorm2d()\n",
              "                        (activation): Identity()\n",
              "                      )\n",
              "                    )\n",
              "                    (activation): ReLU()\n",
              "                  )\n",
              "                )\n",
              "              )\n",
              "              (3): ResNetStage(\n",
              "                (layers): Sequential(\n",
              "                  (0): ResNetBasicLayer(\n",
              "                    (shortcut): ResNetShortCut(\n",
              "                      (convolution): Conv2d(256, 512, kernel_size=(1, 1), stride=(2, 2), bias=False)\n",
              "                      (normalization): TableTransformerFrozenBatchNorm2d()\n",
              "                    )\n",
              "                    (layer): Sequential(\n",
              "                      (0): ResNetConvLayer(\n",
              "                        (convolution): Conv2d(256, 512, kernel_size=(3, 3), stride=(2, 2), padding=(1, 1), bias=False)\n",
              "                        (normalization): TableTransformerFrozenBatchNorm2d()\n",
              "                        (activation): ReLU()\n",
              "                      )\n",
              "                      (1): ResNetConvLayer(\n",
              "                        (convolution): Conv2d(512, 512, kernel_size=(3, 3), stride=(1, 1), padding=(1, 1), bias=False)\n",
              "                        (normalization): TableTransformerFrozenBatchNorm2d()\n",
              "                        (activation): Identity()\n",
              "                      )\n",
              "                    )\n",
              "                    (activation): ReLU()\n",
              "                  )\n",
              "                  (1): ResNetBasicLayer(\n",
              "                    (shortcut): Identity()\n",
              "                    (layer): Sequential(\n",
              "                      (0): ResNetConvLayer(\n",
              "                        (convolution): Conv2d(512, 512, kernel_size=(3, 3), stride=(1, 1), padding=(1, 1), bias=False)\n",
              "                        (normalization): TableTransformerFrozenBatchNorm2d()\n",
              "                        (activation): ReLU()\n",
              "                      )\n",
              "                      (1): ResNetConvLayer(\n",
              "                        (convolution): Conv2d(512, 512, kernel_size=(3, 3), stride=(1, 1), padding=(1, 1), bias=False)\n",
              "                        (normalization): TableTransformerFrozenBatchNorm2d()\n",
              "                        (activation): Identity()\n",
              "                      )\n",
              "                    )\n",
              "                    (activation): ReLU()\n",
              "                  )\n",
              "                )\n",
              "              )\n",
              "            )\n",
              "          )\n",
              "        )\n",
              "      )\n",
              "      (position_embedding): TableTransformerSinePositionEmbedding()\n",
              "    )\n",
              "    (input_projection): Conv2d(512, 256, kernel_size=(1, 1), stride=(1, 1))\n",
              "    (query_position_embeddings): Embedding(125, 256)\n",
              "    (encoder): TableTransformerEncoder(\n",
              "      (layers): ModuleList(\n",
              "        (0-5): 6 x TableTransformerEncoderLayer(\n",
              "          (self_attn): TableTransformerAttention(\n",
              "            (k_proj): Linear(in_features=256, out_features=256, bias=True)\n",
              "            (v_proj): Linear(in_features=256, out_features=256, bias=True)\n",
              "            (q_proj): Linear(in_features=256, out_features=256, bias=True)\n",
              "            (out_proj): Linear(in_features=256, out_features=256, bias=True)\n",
              "          )\n",
              "          (self_attn_layer_norm): LayerNorm((256,), eps=1e-05, elementwise_affine=True)\n",
              "          (activation_fn): ReLU()\n",
              "          (fc1): Linear(in_features=256, out_features=2048, bias=True)\n",
              "          (fc2): Linear(in_features=2048, out_features=256, bias=True)\n",
              "          (final_layer_norm): LayerNorm((256,), eps=1e-05, elementwise_affine=True)\n",
              "        )\n",
              "      )\n",
              "      (layernorm): LayerNorm((256,), eps=1e-05, elementwise_affine=True)\n",
              "    )\n",
              "    (decoder): TableTransformerDecoder(\n",
              "      (layers): ModuleList(\n",
              "        (0-5): 6 x TableTransformerDecoderLayer(\n",
              "          (self_attn): TableTransformerAttention(\n",
              "            (k_proj): Linear(in_features=256, out_features=256, bias=True)\n",
              "            (v_proj): Linear(in_features=256, out_features=256, bias=True)\n",
              "            (q_proj): Linear(in_features=256, out_features=256, bias=True)\n",
              "            (out_proj): Linear(in_features=256, out_features=256, bias=True)\n",
              "          )\n",
              "          (activation_fn): ReLU()\n",
              "          (self_attn_layer_norm): LayerNorm((256,), eps=1e-05, elementwise_affine=True)\n",
              "          (encoder_attn): TableTransformerAttention(\n",
              "            (k_proj): Linear(in_features=256, out_features=256, bias=True)\n",
              "            (v_proj): Linear(in_features=256, out_features=256, bias=True)\n",
              "            (q_proj): Linear(in_features=256, out_features=256, bias=True)\n",
              "            (out_proj): Linear(in_features=256, out_features=256, bias=True)\n",
              "          )\n",
              "          (encoder_attn_layer_norm): LayerNorm((256,), eps=1e-05, elementwise_affine=True)\n",
              "          (fc1): Linear(in_features=256, out_features=2048, bias=True)\n",
              "          (fc2): Linear(in_features=2048, out_features=256, bias=True)\n",
              "          (final_layer_norm): LayerNorm((256,), eps=1e-05, elementwise_affine=True)\n",
              "        )\n",
              "      )\n",
              "      (layernorm): LayerNorm((256,), eps=1e-05, elementwise_affine=True)\n",
              "    )\n",
              "  )\n",
              "  (class_labels_classifier): Linear(in_features=256, out_features=7, bias=True)\n",
              "  (bbox_predictor): TableTransformerMLPPredictionHead(\n",
              "    (layers): ModuleList(\n",
              "      (0-1): 2 x Linear(in_features=256, out_features=256, bias=True)\n",
              "      (2): Linear(in_features=256, out_features=4, bias=True)\n",
              "    )\n",
              "  )\n",
              ")"
            ]
          },
          "execution_count": 40,
          "metadata": {},
          "output_type": "execute_result"
        }
      ],
      "source": [
        "from transformers import TableTransformerForObjectDetection\n",
        "\n",
        "# new v1.1 checkpoints require no timm anymore\n",
        "structure_model = TableTransformerForObjectDetection.from_pretrained(\"microsoft/table-structure-recognition-v1.1-all\")\n",
        "structure_model.to(device)"
      ]
    },
    {
      "cell_type": "markdown",
      "metadata": {
        "id": "PdOulkWRGC1u"
      },
      "source": [
        "We prepare the cropped table image for the model, and perform a forward pass."
      ]
    },
    {
      "cell_type": "code",
      "execution_count": 41,
      "metadata": {
        "id": "SE9Pu5coeEvY"
      },
      "outputs": [],
      "source": [
        "structure_transform = transforms.Compose([\n",
        "    MaxResize(1000),\n",
        "    transforms.ToTensor(),\n",
        "    transforms.Normalize([0.485, 0.456, 0.406], [0.229, 0.224, 0.225])\n",
        "])"
      ]
    },
    {
      "cell_type": "markdown",
      "metadata": {
        "id": "mYyEjhALGZ6r"
      },
      "source": [
        "Next, we get the predicted detections."
      ]
    },
    {
      "cell_type": "code",
      "execution_count": 42,
      "metadata": {
        "colab": {
          "base_uri": "https://localhost:8080/"
        },
        "id": "nY4SXbMf8OV7",
        "outputId": "794c917a-b38f-4df1-e179-2c180f755fea"
      },
      "outputs": [],
      "source": [
        "# update id2label to include \"no object\"\n",
        "structure_id2label = structure_model.config.id2label\n",
        "structure_id2label[len(structure_id2label)] = \"no object\"\n",
        "\n",
        "# cells = outputs_to_objects(outputs, cropped_table.size, structure_id2label)\n",
        "# print(cells)"
      ]
    },
    {
      "cell_type": "markdown",
      "metadata": {
        "id": "as36T2-zIrJh"
      },
      "source": [
        "### Apply OCR row by row\n",
        "\n",
        "First, we get the coordinates of the individual cells, row by row, by looking at the intersection of the table rows and columns (thanks ChatGPT!).\n",
        "\n",
        "Next, we apply OCR on each individual cell, row-by-row.\n",
        "\n",
        "Note that this makes some assumptions about the structure of the table: it assumes that the table has a rectangular, flat structure, containing a column header. One would need to update this for more complex table structures, potentially fine-tuning the detection and/or structure recognition model to be able to detect other layouts. Typically 50 labeled examples suffice for fine-tuning, but the more data you have, the better.\n",
        "\n",
        "Alternatively, one could also do OCR column by column, etc."
      ]
    },
    {
      "cell_type": "code",
      "execution_count": 43,
      "metadata": {
        "id": "AW9WR9bMHcv_"
      },
      "outputs": [],
      "source": [
        "def get_cell_coordinates_by_row(table_data):\n",
        "    # Extract rows and columns\n",
        "    rows = [entry for entry in table_data if entry['label'] == 'table row']\n",
        "    columns = [entry for entry in table_data if entry['label'] == 'table column']\n",
        "\n",
        "    # Sort rows and columns by their Y and X coordinates, respectively\n",
        "    rows.sort(key=lambda x: x['bbox'][1])\n",
        "    columns.sort(key=lambda x: x['bbox'][0])\n",
        "\n",
        "    # Function to find cell coordinates\n",
        "    def find_cell_coordinates(row, column):\n",
        "        cell_bbox = [column['bbox'][0], row['bbox'][1], column['bbox'][2], row['bbox'][3]]\n",
        "        return cell_bbox\n",
        "\n",
        "    # Generate cell coordinates and count cells in each row\n",
        "    cell_coordinates = []\n",
        "\n",
        "    for row in rows:\n",
        "        row_cells = []\n",
        "        for column in columns:\n",
        "            cell_bbox = find_cell_coordinates(row, column)\n",
        "            row_cells.append({'column': column['bbox'], 'cell': cell_bbox})\n",
        "\n",
        "        # Sort cells in the row by X coordinate\n",
        "        row_cells.sort(key=lambda x: x['column'][0])\n",
        "\n",
        "        # Append row information to cell_coordinates\n",
        "        cell_coordinates.append({'row': row['bbox'], 'cells': row_cells, 'cell_count': len(row_cells)})\n",
        "\n",
        "    # Sort rows from top to bottom\n",
        "    cell_coordinates.sort(key=lambda x: x['row'][1])\n",
        "\n",
        "    return cell_coordinates"
      ]
    },
    {
      "cell_type": "code",
      "execution_count": 44,
      "metadata": {
        "colab": {
          "base_uri": "https://localhost:8080/",
          "height": 228,
          "referenced_widgets": [
            "ff14987716b54188b14a0e1fe21b207e",
            "3a6a09bae8dc42b190730edfc70b0404",
            "86f33f6a3f3644d89b644bd7c411ec5e",
            "8af7fcc8ddf549a9a7c9cd199706e552",
            "ce8110f64f794a3eb9a7e9c24fdde2b9",
            "88e3e29bf24e48f2a9a70458577f9ede",
            "cc6b658f81694bd89ee11f3d5e63eadd",
            "ed7925f4cbeb4b5fb0d1f5c12678981d",
            "9db6690c2cee4276abe5d3b19890af1e",
            "040920d8a2a74dad875f7b200cd78ea0",
            "d3caaf048c994ab2bc5173f230191fd1"
          ]
        },
        "id": "Bbb-q0pWHxz2",
        "outputId": "1e9d2d35-478c-4914-d7a4-58e256064084"
      },
      "outputs": [
        {
          "name": "stderr",
          "output_type": "stream",
          "text": [
            "Neither CUDA nor MPS are available - defaulting to CPU. Note: This module is much faster with a GPU.\n"
          ]
        }
      ],
      "source": [
        "import numpy as np\n",
        "import csv\n",
        "import easyocr\n",
        "from tqdm.auto import tqdm\n",
        "\n",
        "reader = easyocr.Reader(['en']) # this needs to run only once to load the model into memory\n",
        "\n",
        "def apply_ocr(cropped_table, cell_coordinates):\n",
        "    # let's OCR row by row\n",
        "    data = dict()\n",
        "    max_num_columns = 0\n",
        "    for idx, row in enumerate(tqdm(cell_coordinates)):\n",
        "      row_text = []\n",
        "      for cell in row[\"cells\"]:\n",
        "        # crop cell out of image\n",
        "        cell_image = np.array(cropped_table.crop(cell[\"cell\"]))\n",
        "        # apply OCR\n",
        "        result = reader.readtext(np.array(cell_image))\n",
        "        if len(result) > 0:\n",
        "          # print([x[1] for x in list(result)])\n",
        "          text = \" \".join([x[1] for x in result])\n",
        "          row_text.append(text)\n",
        "\n",
        "      if len(row_text) > max_num_columns:\n",
        "          max_num_columns = len(row_text)\n",
        "\n",
        "      data[idx] = row_text\n",
        "\n",
        "    print(\"Max number of columns:\", max_num_columns)\n",
        "\n",
        "    # pad rows which don't have max_num_columns elements\n",
        "    # to make sure all rows have the same number of columns\n",
        "    for row, row_data in data.copy().items():\n",
        "        if len(row_data) != max_num_columns:\n",
        "          row_data = row_data + [\"\" for _ in range(max_num_columns - len(row_data))]\n",
        "        data[row] = row_data\n",
        "\n",
        "    return data"
      ]
    },
    {
      "cell_type": "markdown",
      "metadata": {},
      "source": [
        "### Apply OCR col by col"
      ]
    },
    {
      "cell_type": "code",
      "execution_count": 45,
      "metadata": {},
      "outputs": [],
      "source": [
        "def get_cell_coordinates_by_column(table_data):\n",
        "    # Extract rows and columns\n",
        "    rows = [entry for entry in table_data if entry['label'] == 'table row']\n",
        "    columns = [entry for entry in table_data if entry['label'] == 'table column']\n",
        "\n",
        "    # Sort rows and columns by their Y and X coordinates, respectively\n",
        "    rows.sort(key=lambda x: x['bbox'][1])\n",
        "    columns.sort(key=lambda x: x['bbox'][0])\n",
        "\n",
        "    # Function to find cell coordinates\n",
        "    def find_cell_coordinates(row, column):\n",
        "        cell_bbox = [column['bbox'][0], row['bbox'][1], column['bbox'][2], row['bbox'][3]]\n",
        "        return cell_bbox\n",
        "\n",
        "    # Generate cell coordinates and count cells in each column\n",
        "    cell_coordinates = []\n",
        "\n",
        "    for column in columns:\n",
        "        column_cells = []\n",
        "        for row in rows:\n",
        "            cell_bbox = find_cell_coordinates(row, column)\n",
        "            column_cells.append({'row': row['bbox'], 'cell': cell_bbox})\n",
        "\n",
        "        # Sort cells in the column by Y coordinate\n",
        "        column_cells.sort(key=lambda x: x['row'][1])\n",
        "\n",
        "        # Append column information to cell_coordinates\n",
        "        cell_coordinates.append({'column': column['bbox'], 'cells': column_cells, 'cell_count': len(column_cells)})\n",
        "\n",
        "    # Sort columns from left to right\n",
        "    cell_coordinates.sort(key=lambda x: x['column'][0])\n",
        "\n",
        "    return cell_coordinates"
      ]
    },
    {
      "cell_type": "markdown",
      "metadata": {},
      "source": [
        "## Wrap for full extraction"
      ]
    },
    {
      "cell_type": "code",
      "execution_count": 46,
      "metadata": {},
      "outputs": [],
      "source": [
        "# TODO > to try if still error in for loop below\n",
        "\n",
        "def extract_md_table(table_img_folder) -> str:\n",
        "    cropped_table = Image.open(table_img_folder).convert(\"RGB\")\n",
        "    pixel_values = structure_transform(cropped_table).unsqueeze(0)\n",
        "    pixel_values = pixel_values.to(device)\n",
        "    with torch.no_grad():\n",
        "        outputs = structure_model(pixel_values)\n",
        "    cells = outputs_to_objects(outputs, cropped_table.size, structure_id2label)\n",
        "    # Apply OCR\n",
        "    cell_coordinates = get_cell_coordinates_by_row(cells)\n",
        "    data = apply_ocr(cropped_table, cell_coordinates)\n",
        "    # Convert to md\n",
        "    df = pd.DataFrame.from_dict(data, orient='index')\n",
        "    # df = df.transpose()  # to add if get_cell_coordinates_by_col, not if row\n",
        "    try:\n",
        "        df.columns = df.iloc[0]\n",
        "        df = df[1:]\n",
        "        return df\n",
        "    except IndexError:\n",
        "        return \"NO TABLE DETECTED\""
      ]
    },
    {
      "cell_type": "code",
      "execution_count": 47,
      "metadata": {},
      "outputs": [
        {
          "name": "stderr",
          "output_type": "stream",
          "text": [
            "100%|██████████| 20/20 [01:31<00:00,  4.57s/it]"
          ]
        },
        {
          "name": "stdout",
          "output_type": "stream",
          "text": [
            "Max number of columns: 14\n"
          ]
        },
        {
          "name": "stderr",
          "output_type": "stream",
          "text": [
            "\n"
          ]
        },
        {
          "data": {
            "text/html": [
              "<div>\n",
              "<style scoped>\n",
              "    .dataframe tbody tr th:only-of-type {\n",
              "        vertical-align: middle;\n",
              "    }\n",
              "\n",
              "    .dataframe tbody tr th {\n",
              "        vertical-align: top;\n",
              "    }\n",
              "\n",
              "    .dataframe thead th {\n",
              "        text-align: right;\n",
              "    }\n",
              "</style>\n",
              "<table border=\"1\" class=\"dataframe\">\n",
              "  <thead>\n",
              "    <tr style=\"text-align: right;\">\n",
              "      <th></th>\n",
              "      <th>Currency USD</th>\n",
              "      <th>Revenues</th>\n",
              "      <th>Profit/(Loss)</th>\n",
              "      <th>Income Tax</th>\n",
              "      <th>Income Tax</th>\n",
              "      <th>Tangible Assets other than Cash and Cash</th>\n",
              "      <th>CBCR Effective</th>\n",
              "      <th>Statutory Corporate</th>\n",
              "      <th>Explanation of significant</th>\n",
              "      <th></th>\n",
              "      <th></th>\n",
              "      <th></th>\n",
              "      <th></th>\n",
              "      <th></th>\n",
              "    </tr>\n",
              "  </thead>\n",
              "  <tbody>\n",
              "    <tr>\n",
              "      <th>1</th>\n",
              "      <td>currency USD Tax Jurisdiction</td>\n",
              "      <td>Unrelated Party</td>\n",
              "      <td>Related Party</td>\n",
              "      <td>Total</td>\n",
              "      <td>Profit/(Loss) before Income Tax</td>\n",
              "      <td>Income Tax Paid (on Cash Basis)</td>\n",
              "      <td>Income Tax Accrued (Current Year)</td>\n",
              "      <td>Stated Capital(3)</td>\n",
              "      <td>Accumulated Earnings</td>\n",
              "      <td>Number of Employees</td>\n",
              "      <td>oiner tnan Cash and Cash Equivalents (Mandatory)</td>\n",
              "      <td>CBCR Effective Tax Rate(4) %</td>\n",
              "      <td>Statutory Corporate Tax Rate(5)</td>\n",
              "      <td>Expianation of significant differences inthe r...</td>\n",
              "    </tr>\n",
              "    <tr>\n",
              "      <th>2</th>\n",
              "      <td>Democratic repub Of Conao</td>\n",
              "      <td>ic</td>\n",
              "      <td>30%</td>\n",
              "      <td>No activities took place during theperiod.</td>\n",
              "      <td></td>\n",
              "      <td></td>\n",
              "      <td></td>\n",
              "      <td></td>\n",
              "      <td></td>\n",
              "      <td></td>\n",
              "      <td></td>\n",
              "      <td></td>\n",
              "      <td></td>\n",
              "      <td></td>\n",
              "    </tr>\n",
              "    <tr>\n",
              "      <th>3</th>\n",
              "      <td>Ecuador</td>\n",
              "      <td>(2,254,359)</td>\n",
              "      <td>(283,163)</td>\n",
              "      <td>8,320,183</td>\n",
              "      <td>24,762,776</td>\n",
              "      <td>18</td>\n",
              "      <td>519,738</td>\n",
              "      <td>25%</td>\n",
              "      <td>Accounting andtaxlosses made inthe period.</td>\n",
              "      <td></td>\n",
              "      <td></td>\n",
              "      <td></td>\n",
              "      <td></td>\n",
              "      <td></td>\n",
              "    </tr>\n",
              "    <tr>\n",
              "      <th>4</th>\n",
              "      <td>Finland</td>\n",
              "      <td>21</td>\n",
              "      <td>21</td>\n",
              "      <td>(23,485,099)</td>\n",
              "      <td>82,053,132</td>\n",
              "      <td>89,647,313</td>\n",
              "      <td>2,569,678</td>\n",
              "      <td>20%</td>\n",
              "      <td>Accounting andtaxlosses made in the period.</td>\n",
              "      <td></td>\n",
              "      <td></td>\n",
              "      <td></td>\n",
              "      <td></td>\n",
              "      <td></td>\n",
              "    </tr>\n",
              "    <tr>\n",
              "      <th>5</th>\n",
              "      <td>France</td>\n",
              "      <td>5,373,441</td>\n",
              "      <td>3,585,702</td>\n",
              "      <td>8,959,143</td>\n",
              "      <td>(3,523,206)</td>\n",
              "      <td>11,604</td>\n",
              "      <td>11,604</td>\n",
              "      <td>(5,119,026)</td>\n",
              "      <td>25</td>\n",
              "      <td>10,014,430</td>\n",
              "      <td>27%</td>\n",
              "      <td>Accounting andtaxlosses made in the period.</td>\n",
              "      <td></td>\n",
              "      <td></td>\n",
              "    </tr>\n",
              "    <tr>\n",
              "      <th>6</th>\n",
              "      <td>Germany</td>\n",
              "      <td>97,074,774</td>\n",
              "      <td>6,269,556</td>\n",
              "      <td>103,344,330</td>\n",
              "      <td>12,904,217</td>\n",
              "      <td>(2,707,446)</td>\n",
              "      <td>(4,029,507)</td>\n",
              "      <td>30,315,789</td>\n",
              "      <td>(28,448,674)</td>\n",
              "      <td>338</td>\n",
              "      <td>40,042,428</td>\n",
              "      <td>31 %</td>\n",
              "      <td>290</td>\n",
              "      <td>xpenditure permanently treated on-deductible f...</td>\n",
              "    </tr>\n",
              "    <tr>\n",
              "      <th>7</th>\n",
              "      <td>Hong Kong</td>\n",
              "      <td>22,243,942</td>\n",
              "      <td>1,994,957</td>\n",
              "      <td>24,238,900</td>\n",
              "      <td>1,899,413</td>\n",
              "      <td>60,085</td>\n",
              "      <td>(39,417)</td>\n",
              "      <td>13,069,385</td>\n",
              "      <td>1,179,404</td>\n",
              "      <td>36</td>\n",
              "      <td>39,507,573</td>\n",
              "      <td>2%</td>\n",
              "      <td>17%</td>\n",
              "      <td>on taxable impairment reversal:</td>\n",
              "    </tr>\n",
              "    <tr>\n",
              "      <th>8</th>\n",
              "      <td>India</td>\n",
              "      <td>18,907,564</td>\n",
              "      <td>11,787,077</td>\n",
              "      <td>30,694,641</td>\n",
              "      <td>3,789,597</td>\n",
              "      <td>(1,421,053)</td>\n",
              "      <td>(949,621)</td>\n",
              "      <td>12,589,596</td>\n",
              "      <td>(3,618,619)</td>\n",
              "      <td>119</td>\n",
              "      <td>7,247,487</td>\n",
              "      <td>25%</td>\n",
              "      <td>25%</td>\n",
              "      <td></td>\n",
              "    </tr>\n",
              "    <tr>\n",
              "      <th>9</th>\n",
              "      <td>Indonesia</td>\n",
              "      <td>4,400,000</td>\n",
              "      <td>220</td>\n",
              "      <td>22%</td>\n",
              "      <td>No activitiestook place during the period:</td>\n",
              "      <td></td>\n",
              "      <td></td>\n",
              "      <td></td>\n",
              "      <td></td>\n",
              "      <td></td>\n",
              "      <td></td>\n",
              "      <td></td>\n",
              "      <td></td>\n",
              "      <td></td>\n",
              "    </tr>\n",
              "    <tr>\n",
              "      <th>10</th>\n",
              "      <td>Ireland</td>\n",
              "      <td>106,038,487</td>\n",
              "      <td>125,885,497</td>\n",
              "      <td>231,923,984</td>\n",
              "      <td>17,159,580</td>\n",
              "      <td>(4,043,281)</td>\n",
              "      <td>(2,293,515)</td>\n",
              "      <td>30,504,929</td>\n",
              "      <td>(90,020,071)</td>\n",
              "      <td>471</td>\n",
              "      <td>71,975,963</td>\n",
              "      <td>13%</td>\n",
              "      <td>13%</td>\n",
              "      <td>xpenditure permanently treated on-deductible f...</td>\n",
              "    </tr>\n",
              "    <tr>\n",
              "      <th>11</th>\n",
              "      <td>Isle of Man</td>\n",
              "      <td>(2,985,004)</td>\n",
              "      <td>160,440</td>\n",
              "      <td>78,075,164</td>\n",
              "      <td></td>\n",
              "      <td></td>\n",
              "      <td></td>\n",
              "      <td></td>\n",
              "      <td></td>\n",
              "      <td></td>\n",
              "      <td></td>\n",
              "      <td></td>\n",
              "      <td></td>\n",
              "      <td></td>\n",
              "    </tr>\n",
              "    <tr>\n",
              "      <th>12</th>\n",
              "      <td>Israel</td>\n",
              "      <td>4,079</td>\n",
              "      <td>757,488</td>\n",
              "      <td>761,567</td>\n",
              "      <td>71,439</td>\n",
              "      <td>(10,586)</td>\n",
              "      <td>(23,488)</td>\n",
              "      <td>4,010,000</td>\n",
              "      <td>2,504,015</td>\n",
              "      <td>3</td>\n",
              "      <td>111,481</td>\n",
              "      <td>33%</td>\n",
              "      <td>23</td>\n",
              "      <td>Expenditure not treated as eductible for taxpu...</td>\n",
              "    </tr>\n",
              "    <tr>\n",
              "      <th>13</th>\n",
              "      <td>Italy</td>\n",
              "      <td>1,814,324</td>\n",
              "      <td>1,814,324</td>\n",
              "      <td>115,713</td>\n",
              "      <td>(51,315)</td>\n",
              "      <td>(28,571)</td>\n",
              "      <td>28,329</td>\n",
              "      <td>(544,996)</td>\n",
              "      <td>254,857</td>\n",
              "      <td>25%</td>\n",
              "      <td>24%</td>\n",
              "      <td>Additional localtaxes arising in the period.</td>\n",
              "      <td></td>\n",
              "      <td></td>\n",
              "    </tr>\n",
              "    <tr>\n",
              "      <th>14</th>\n",
              "      <td>Japan</td>\n",
              "      <td>24,443,074</td>\n",
              "      <td>7,688,028</td>\n",
              "      <td>32,131,103</td>\n",
              "      <td>777,615</td>\n",
              "      <td>(208,049)</td>\n",
              "      <td>(403,963)</td>\n",
              "      <td>4,871,002</td>\n",
              "      <td>12,287,598</td>\n",
              "      <td>13</td>\n",
              "      <td>321,258</td>\n",
              "      <td>52%</td>\n",
              "      <td>37%</td>\n",
              "      <td>Additional local taxes arisingin the period.</td>\n",
              "    </tr>\n",
              "    <tr>\n",
              "      <th>15</th>\n",
              "      <td>Luxembourg</td>\n",
              "      <td>(37,919)</td>\n",
              "      <td>11,105</td>\n",
              "      <td>1,586</td>\n",
              "      <td>25%</td>\n",
              "      <td>Accounting andtaxlosses made in the period.</td>\n",
              "      <td></td>\n",
              "      <td></td>\n",
              "      <td></td>\n",
              "      <td></td>\n",
              "      <td></td>\n",
              "      <td></td>\n",
              "      <td></td>\n",
              "      <td></td>\n",
              "    </tr>\n",
              "    <tr>\n",
              "      <th>16</th>\n",
              "      <td>Macau</td>\n",
              "      <td>1,647,851</td>\n",
              "      <td>1,647,851</td>\n",
              "      <td>(330,215)</td>\n",
              "      <td>12,448</td>\n",
              "      <td>3,103,801</td>\n",
              "      <td>1,682,814</td>\n",
              "      <td>12%</td>\n",
              "      <td>Accounting and taxlosses made in the period.</td>\n",
              "      <td></td>\n",
              "      <td></td>\n",
              "      <td></td>\n",
              "      <td></td>\n",
              "      <td></td>\n",
              "    </tr>\n",
              "    <tr>\n",
              "      <th>17</th>\n",
              "      <td>Mexico</td>\n",
              "      <td>124,596</td>\n",
              "      <td>3,127,098</td>\n",
              "      <td>30%</td>\n",
              "      <td>No activitiestook place during the period.</td>\n",
              "      <td></td>\n",
              "      <td></td>\n",
              "      <td></td>\n",
              "      <td></td>\n",
              "      <td></td>\n",
              "      <td></td>\n",
              "      <td></td>\n",
              "      <td></td>\n",
              "      <td></td>\n",
              "    </tr>\n",
              "    <tr>\n",
              "      <th>18</th>\n",
              "      <td>Mozambique</td>\n",
              "      <td>32%</td>\n",
              "      <td>No activities took place during the period:</td>\n",
              "      <td></td>\n",
              "      <td></td>\n",
              "      <td></td>\n",
              "      <td></td>\n",
              "      <td></td>\n",
              "      <td></td>\n",
              "      <td></td>\n",
              "      <td></td>\n",
              "      <td></td>\n",
              "      <td></td>\n",
              "      <td></td>\n",
              "    </tr>\n",
              "    <tr>\n",
              "      <th>19</th>\n",
              "      <td>Namibia</td>\n",
              "      <td>234,917,847</td>\n",
              "      <td>950,507,591</td>\n",
              "      <td>1,185,425,438</td>\n",
              "      <td>62,216,424</td>\n",
              "      <td>(32,235,286)</td>\n",
              "      <td>(32,722,908)</td>\n",
              "      <td>115,882,757</td>\n",
              "      <td>(194,826,345)</td>\n",
              "      <td>1,337</td>\n",
              "      <td>388,772,162</td>\n",
              "      <td>53%</td>\n",
              "      <td>32%</td>\n",
              "      <td>caltax law requires the taxation of certain ty...</td>\n",
              "    </tr>\n",
              "  </tbody>\n",
              "</table>\n",
              "</div>"
            ],
            "text/plain": [
              "0                    Currency USD         Revenues  \\\n",
              "1   currency USD Tax Jurisdiction  Unrelated Party   \n",
              "2       Democratic repub Of Conao               ic   \n",
              "3                         Ecuador      (2,254,359)   \n",
              "4                         Finland               21   \n",
              "5                          France        5,373,441   \n",
              "6                         Germany       97,074,774   \n",
              "7                       Hong Kong       22,243,942   \n",
              "8                           India       18,907,564   \n",
              "9                       Indonesia        4,400,000   \n",
              "10                        Ireland      106,038,487   \n",
              "11                    Isle of Man      (2,985,004)   \n",
              "12                         Israel            4,079   \n",
              "13                          Italy        1,814,324   \n",
              "14                          Japan       24,443,074   \n",
              "15                     Luxembourg         (37,919)   \n",
              "16                          Macau        1,647,851   \n",
              "17                         Mexico          124,596   \n",
              "18                     Mozambique              32%   \n",
              "19                        Namibia      234,917,847   \n",
              "\n",
              "0                                 Profit/(Loss)  \\\n",
              "1                                 Related Party   \n",
              "2                                           30%   \n",
              "3                                     (283,163)   \n",
              "4                                            21   \n",
              "5                                     3,585,702   \n",
              "6                                     6,269,556   \n",
              "7                                     1,994,957   \n",
              "8                                    11,787,077   \n",
              "9                                           220   \n",
              "10                                  125,885,497   \n",
              "11                                      160,440   \n",
              "12                                      757,488   \n",
              "13                                    1,814,324   \n",
              "14                                    7,688,028   \n",
              "15                                       11,105   \n",
              "16                                    1,647,851   \n",
              "17                                    3,127,098   \n",
              "18  No activities took place during the period:   \n",
              "19                                  950,507,591   \n",
              "\n",
              "0                                   Income Tax  \\\n",
              "1                                        Total   \n",
              "2   No activities took place during theperiod.   \n",
              "3                                    8,320,183   \n",
              "4                                 (23,485,099)   \n",
              "5                                    8,959,143   \n",
              "6                                  103,344,330   \n",
              "7                                   24,238,900   \n",
              "8                                   30,694,641   \n",
              "9                                          22%   \n",
              "10                                 231,923,984   \n",
              "11                                  78,075,164   \n",
              "12                                     761,567   \n",
              "13                                     115,713   \n",
              "14                                  32,131,103   \n",
              "15                                       1,586   \n",
              "16                                   (330,215)   \n",
              "17                                         30%   \n",
              "18                                               \n",
              "19                               1,185,425,438   \n",
              "\n",
              "0                                   Income Tax  \\\n",
              "1              Profit/(Loss) before Income Tax   \n",
              "2                                                \n",
              "3                                   24,762,776   \n",
              "4                                   82,053,132   \n",
              "5                                  (3,523,206)   \n",
              "6                                   12,904,217   \n",
              "7                                    1,899,413   \n",
              "8                                    3,789,597   \n",
              "9   No activitiestook place during the period:   \n",
              "10                                  17,159,580   \n",
              "11                                               \n",
              "12                                      71,439   \n",
              "13                                    (51,315)   \n",
              "14                                     777,615   \n",
              "15                                         25%   \n",
              "16                                      12,448   \n",
              "17  No activitiestook place during the period.   \n",
              "18                                               \n",
              "19                                  62,216,424   \n",
              "\n",
              "0      Tangible Assets other than Cash and Cash  \\\n",
              "1               Income Tax Paid (on Cash Basis)   \n",
              "2                                                 \n",
              "3                                            18   \n",
              "4                                    89,647,313   \n",
              "5                                        11,604   \n",
              "6                                   (2,707,446)   \n",
              "7                                        60,085   \n",
              "8                                   (1,421,053)   \n",
              "9                                                 \n",
              "10                                  (4,043,281)   \n",
              "11                                                \n",
              "12                                     (10,586)   \n",
              "13                                     (28,571)   \n",
              "14                                    (208,049)   \n",
              "15  Accounting andtaxlosses made in the period.   \n",
              "16                                    3,103,801   \n",
              "17                                                \n",
              "18                                                \n",
              "19                                 (32,235,286)   \n",
              "\n",
              "0                      CBCR Effective Statutory Corporate  \\\n",
              "1   Income Tax Accrued (Current Year)   Stated Capital(3)   \n",
              "2                                                           \n",
              "3                             519,738                 25%   \n",
              "4                           2,569,678                 20%   \n",
              "5                              11,604         (5,119,026)   \n",
              "6                         (4,029,507)          30,315,789   \n",
              "7                            (39,417)          13,069,385   \n",
              "8                           (949,621)          12,589,596   \n",
              "9                                                           \n",
              "10                        (2,293,515)          30,504,929   \n",
              "11                                                          \n",
              "12                           (23,488)           4,010,000   \n",
              "13                             28,329           (544,996)   \n",
              "14                          (403,963)           4,871,002   \n",
              "15                                                          \n",
              "16                          1,682,814                 12%   \n",
              "17                                                          \n",
              "18                                                          \n",
              "19                       (32,722,908)         115,882,757   \n",
              "\n",
              "0                     Explanation of significant                       \\\n",
              "1                           Accumulated Earnings  Number of Employees   \n",
              "2                                                                       \n",
              "3     Accounting andtaxlosses made inthe period.                        \n",
              "4    Accounting andtaxlosses made in the period.                        \n",
              "5                                             25           10,014,430   \n",
              "6                                   (28,448,674)                  338   \n",
              "7                                      1,179,404                   36   \n",
              "8                                    (3,618,619)                  119   \n",
              "9                                                                       \n",
              "10                                  (90,020,071)                  471   \n",
              "11                                                                      \n",
              "12                                     2,504,015                    3   \n",
              "13                                       254,857                  25%   \n",
              "14                                    12,287,598                   13   \n",
              "15                                                                      \n",
              "16  Accounting and taxlosses made in the period.                        \n",
              "17                                                                      \n",
              "18                                                                      \n",
              "19                                 (194,826,345)                1,337   \n",
              "\n",
              "0                                                     \\\n",
              "1   oiner tnan Cash and Cash Equivalents (Mandatory)   \n",
              "2                                                      \n",
              "3                                                      \n",
              "4                                                      \n",
              "5                                                27%   \n",
              "6                                         40,042,428   \n",
              "7                                         39,507,573   \n",
              "8                                          7,247,487   \n",
              "9                                                      \n",
              "10                                        71,975,963   \n",
              "11                                                     \n",
              "12                                           111,481   \n",
              "13                                               24%   \n",
              "14                                           321,258   \n",
              "15                                                     \n",
              "16                                                     \n",
              "17                                                     \n",
              "18                                                     \n",
              "19                                       388,772,162   \n",
              "\n",
              "0                                                 \\\n",
              "1                   CBCR Effective Tax Rate(4) %   \n",
              "2                                                  \n",
              "3                                                  \n",
              "4                                                  \n",
              "5    Accounting andtaxlosses made in the period.   \n",
              "6                                           31 %   \n",
              "7                                             2%   \n",
              "8                                            25%   \n",
              "9                                                  \n",
              "10                                           13%   \n",
              "11                                                 \n",
              "12                                           33%   \n",
              "13  Additional localtaxes arising in the period.   \n",
              "14                                           52%   \n",
              "15                                                 \n",
              "16                                                 \n",
              "17                                                 \n",
              "18                                                 \n",
              "19                                           53%   \n",
              "\n",
              "0                                    \\\n",
              "1   Statutory Corporate Tax Rate(5)   \n",
              "2                                     \n",
              "3                                     \n",
              "4                                     \n",
              "5                                     \n",
              "6                               290   \n",
              "7                               17%   \n",
              "8                               25%   \n",
              "9                                     \n",
              "10                              13%   \n",
              "11                                    \n",
              "12                               23   \n",
              "13                                    \n",
              "14                              37%   \n",
              "15                                    \n",
              "16                                    \n",
              "17                                    \n",
              "18                                    \n",
              "19                              32%   \n",
              "\n",
              "0                                                      \n",
              "1   Expianation of significant differences inthe r...  \n",
              "2                                                      \n",
              "3                                                      \n",
              "4                                                      \n",
              "5                                                      \n",
              "6   xpenditure permanently treated on-deductible f...  \n",
              "7                     on taxable impairment reversal:  \n",
              "8                                                      \n",
              "9                                                      \n",
              "10  xpenditure permanently treated on-deductible f...  \n",
              "11                                                     \n",
              "12  Expenditure not treated as eductible for taxpu...  \n",
              "13                                                     \n",
              "14       Additional local taxes arisingin the period.  \n",
              "15                                                     \n",
              "16                                                     \n",
              "17                                                     \n",
              "18                                                     \n",
              "19  caltax law requires the taxation of certain ty...  "
            ]
          },
          "execution_count": 47,
          "metadata": {},
          "output_type": "execute_result"
        }
      ],
      "source": [
        "image_path = os.path.join(table_img_folder, \"page_4_table_0.jpg\")\n",
        "md_table = extract_md_table(image_path)\n",
        "md_table"
      ]
    },
    {
      "cell_type": "markdown",
      "metadata": {},
      "source": [
        "## Question answering test"
      ]
    },
    {
      "cell_type": "code",
      "execution_count": 51,
      "metadata": {},
      "outputs": [
        {
          "name": "stdout",
          "output_type": "stream",
          "text": [
            "\n",
            "\n",
            "\u001b[1m> Entering new LLMChain chain...\u001b[0m\n",
            "Prompt after formatting:\n",
            "\u001b[32;1m\u001b[1;3mQuestion: Here is a table containing information. How many FTE are there in Ireland? Table:\n",
            "|    | Currency USD                  | Revenues        | Profit/(Loss)                               | Income Tax                                 | Income Tax                                 | Tangible Assets other than Cash and Cash    | CBCR Effective                    | Statutory Corporate   | Explanation of significant                   |                     |                                                  |                                              |                                 |                                                                                                              |\n",
            "|---:|:------------------------------|:----------------|:--------------------------------------------|:-------------------------------------------|:-------------------------------------------|:--------------------------------------------|:----------------------------------|:----------------------|:---------------------------------------------|:--------------------|:-------------------------------------------------|:---------------------------------------------|:--------------------------------|:-------------------------------------------------------------------------------------------------------------|\n",
            "|  1 | currency USD Tax Jurisdiction | Unrelated Party | Related Party                               | Total                                      | Profit/(Loss) before Income Tax            | Income Tax Paid (on Cash Basis)             | Income Tax Accrued (Current Year) | Stated Capital(3)     | Accumulated Earnings                         | Number of Employees | oiner tnan Cash and Cash Equivalents (Mandatory) | CBCR Effective Tax Rate(4) %                 | Statutory Corporate Tax Rate(5) | Expianation of significant differences inthe rates(                                                          |\n",
            "|  2 | Democratic repub Of Conao     | ic              | 30%                                         | No activities took place during theperiod. |                                            |                                             |                                   |                       |                                              |                     |                                                  |                                              |                                 |                                                                                                              |\n",
            "|  3 | Ecuador                       | (2,254,359)     | (283,163)                                   | 8,320,183                                  | 24,762,776                                 | 18                                          | 519,738                           | 25%                   | Accounting andtaxlosses made inthe period.   |                     |                                                  |                                              |                                 |                                                                                                              |\n",
            "|  4 | Finland                       | 21              | 21                                          | (23,485,099)                               | 82,053,132                                 | 89,647,313                                  | 2,569,678                         | 20%                   | Accounting andtaxlosses made in the period.  |                     |                                                  |                                              |                                 |                                                                                                              |\n",
            "|  5 | France                        | 5,373,441       | 3,585,702                                   | 8,959,143                                  | (3,523,206)                                | 11,604                                      | 11,604                            | (5,119,026)           | 25                                           | 10,014,430          | 27%                                              | Accounting andtaxlosses made in the period.  |                                 |                                                                                                              |\n",
            "|  6 | Germany                       | 97,074,774      | 6,269,556                                   | 103,344,330                                | 12,904,217                                 | (2,707,446)                                 | (4,029,507)                       | 30,315,789            | (28,448,674)                                 | 338                 | 40,042,428                                       | 31 %                                         | 290                             | xpenditure permanently treated on-deductible for taxpurposes:                                                |\n",
            "|  7 | Hong Kong                     | 22,243,942      | 1,994,957                                   | 24,238,900                                 | 1,899,413                                  | 60,085                                      | (39,417)                          | 13,069,385            | 1,179,404                                    | 36                  | 39,507,573                                       | 2%                                           | 17%                             | on taxable impairment reversal:                                                                              |\n",
            "|  8 | India                         | 18,907,564      | 11,787,077                                  | 30,694,641                                 | 3,789,597                                  | (1,421,053)                                 | (949,621)                         | 12,589,596            | (3,618,619)                                  | 119                 | 7,247,487                                        | 25%                                          | 25%                             |                                                                                                              |\n",
            "|  9 | Indonesia                     | 4,400,000       | 220                                         | 22%                                        | No activitiestook place during the period: |                                             |                                   |                       |                                              |                     |                                                  |                                              |                                 |                                                                                                              |\n",
            "| 10 | Ireland                       | 106,038,487     | 125,885,497                                 | 231,923,984                                | 17,159,580                                 | (4,043,281)                                 | (2,293,515)                       | 30,504,929            | (90,020,071)                                 | 471                 | 71,975,963                                       | 13%                                          | 13%                             | xpenditure permanently treated on-deductible fortaxpurposes.                                                 |\n",
            "| 11 | Isle of Man                   | (2,985,004)     | 160,440                                     | 78,075,164                                 |                                            |                                             |                                   |                       |                                              |                     |                                                  |                                              |                                 |                                                                                                              |\n",
            "| 12 | Israel                        | 4,079           | 757,488                                     | 761,567                                    | 71,439                                     | (10,586)                                    | (23,488)                          | 4,010,000             | 2,504,015                                    | 3                   | 111,481                                          | 33%                                          | 23                              | Expenditure not treated as eductible for taxpurposesin the same period asitis accrued for Ccountina nurnoses |\n",
            "| 13 | Italy                         | 1,814,324       | 1,814,324                                   | 115,713                                    | (51,315)                                   | (28,571)                                    | 28,329                            | (544,996)             | 254,857                                      | 25%                 | 24%                                              | Additional localtaxes arising in the period. |                                 |                                                                                                              |\n",
            "| 14 | Japan                         | 24,443,074      | 7,688,028                                   | 32,131,103                                 | 777,615                                    | (208,049)                                   | (403,963)                         | 4,871,002             | 12,287,598                                   | 13                  | 321,258                                          | 52%                                          | 37%                             | Additional local taxes arisingin the period.                                                                 |\n",
            "| 15 | Luxembourg                    | (37,919)        | 11,105                                      | 1,586                                      | 25%                                        | Accounting andtaxlosses made in the period. |                                   |                       |                                              |                     |                                                  |                                              |                                 |                                                                                                              |\n",
            "| 16 | Macau                         | 1,647,851       | 1,647,851                                   | (330,215)                                  | 12,448                                     | 3,103,801                                   | 1,682,814                         | 12%                   | Accounting and taxlosses made in the period. |                     |                                                  |                                              |                                 |                                                                                                              |\n",
            "| 17 | Mexico                        | 124,596         | 3,127,098                                   | 30%                                        | No activitiestook place during the period. |                                             |                                   |                       |                                              |                     |                                                  |                                              |                                 |                                                                                                              |\n",
            "| 18 | Mozambique                    | 32%             | No activities took place during the period: |                                            |                                            |                                             |                                   |                       |                                              |                     |                                                  |                                              |                                 |                                                                                                              |\n",
            "| 19 | Namibia                       | 234,917,847     | 950,507,591                                 | 1,185,425,438                              | 62,216,424                                 | (32,235,286)                                | (32,722,908)                      | 115,882,757           | (194,826,345)                                | 1,337               | 388,772,162                                      | 53%                                          | 32%                             | caltax law requires the taxation of certain types of income at rates other thantheheadline statutorv rate_   |\n",
            "Answer: \u001b[0m\n",
            "\n",
            "\u001b[1m> Finished chain.\u001b[0m\n"
          ]
        },
        {
          "data": {
            "text/plain": [
              "'Question: Here is a table containing information. How many FTE are there in Ireland? Table:\\n|    | Currency USD                  | Revenues        | Profit/(Loss)                               | Income Tax                                 | Income Tax                                 | Tangible Assets other than Cash and Cash    | CBCR Effective                    | Statutory Corporate   | Explanation of significant                   |                     |                                                  |                                              |                                 |                                                                                                              |\\n|---:|:------------------------------|:----------------|:--------------------------------------------|:-------------------------------------------|:-------------------------------------------|:--------------------------------------------|:----------------------------------|:----------------------|:---------------------------------------------|:--------------------|:-------------------------------------------------|:---------------------------------------------|:--------------------------------|:-------------------------------------------------------------------------------------------------------------|\\n|  1 | currency USD Tax Jurisdiction | Unrelated Party | Related Party                               | Total                                      | Profit/(Loss) before Income Tax            | Income Tax Paid (on Cash Basis)             | Income Tax Accrued (Current Year) | Stated Capital(3)     | Accumulated Earnings                         | Number of Employees | oiner tnan Cash and Cash Equivalents (Mandatory) | CBCR Effective Tax Rate(4) %                 | Statutory Corporate Tax Rate(5) | Expianation of significant differences inthe rates(                                                          |\\n|  2 | Democratic repub Of Conao     | ic              | 30%                                         | No activities took place during theperiod. |                                            |                                             |                                   |                       |                                              |                     |                                                  |                                              |                                 |                                                                                                              |\\n|  3 | Ecuador                       | (2,254,359)     | (283,163)                                   | 8,320,183                                  | 24,762,776                                 | 18                                          | 519,738                           | 25%                   | Accounting andtaxlosses made inthe period.   |                     |                                                  |                                              |                                 |                                                                                                              |\\n|  4 | Finland                       | 21              | 21                                          | (23,485,099)                               | 82,053,132                                 | 89,647,313                                  | 2,569,678                         | 20%                   | Accounting andtaxlosses made in the period.  |                     |                                                  |                                              |                                 |                                                                                                              |\\n|  5 | France                        | 5,373,441       | 3,585,702                                   | 8,959,143                                  | (3,523,206)                                | 11,604                                      | 11,604                            | (5,119,026)           | 25                                           | 10,014,430          | 27%                                              | Accounting andtaxlosses made in the period.  |                                 |                                                                                                              |\\n|  6 | Germany                       | 97,074,774      | 6,269,556                                   | 103,344,330                                | 12,904,217                                 | (2,707,446)                                 | (4,029,507)                       | 30,315,789            | (28,448,674)                                 | 338                 | 40,042,428                                       | 31 %                                         | 290                             | xpenditure permanently treated on-deductible for taxpurposes:                                                |\\n|  7 | Hong Kong                     | 22,243,942      | 1,994,957                                   | 24,238,900                                 | 1,899,413                                  | 60,085                                      | (39,417)                          | 13,069,385            | 1,179,404                                    | 36                  | 39,507,573                                       | 2%                                           | 17%                             | on taxable impairment reversal:                                                                              |\\n|  8 | India                         | 18,907,564      | 11,787,077                                  | 30,694,641                                 | 3,789,597                                  | (1,421,053)                                 | (949,621)                         | 12,589,596            | (3,618,619)                                  | 119                 | 7,247,487                                        | 25%                                          | 25%                             |                                                                                                              |\\n|  9 | Indonesia                     | 4,400,000       | 220                                         | 22%                                        | No activitiestook place during the period: |                                             |                                   |                       |                                              |                     |                                                  |                                              |                                 |                                                                                                              |\\n| 10 | Ireland                       | 106,038,487     | 125,885,497                                 | 231,923,984                                | 17,159,580                                 | (4,043,281)                                 | (2,293,515)                       | 30,504,929            | (90,020,071)                                 | 471                 | 71,975,963                                       | 13%                                          | 13%                             | xpenditure permanently treated on-deductible fortaxpurposes.                                                 |\\n| 11 | Isle of Man                   | (2,985,004)     | 160,440                                     | 78,075,164                                 |                                            |                                             |                                   |                       |                                              |                     |                                                  |                                              |                                 |                                                                                                              |\\n| 12 | Israel                        | 4,079           | 757,488                                     | 761,567                                    | 71,439                                     | (10,586)                                    | (23,488)                          | 4,010,000             | 2,504,015                                    | 3                   | 111,481                                          | 33%                                          | 23                              | Expenditure not treated as eductible for taxpurposesin the same period asitis accrued for Ccountina nurnoses |\\n| 13 | Italy                         | 1,814,324       | 1,814,324                                   | 115,713                                    | (51,315)                                   | (28,571)                                    | 28,329                            | (544,996)             | 254,857                                      | 25%                 | 24%                                              | Additional localtaxes arising in the period. |                                 |                                                                                                              |\\n| 14 | Japan                         | 24,443,074      | 7,688,028                                   | 32,131,103                                 | 777,615                                    | (208,049)                                   | (403,963)                         | 4,871,002             | 12,287,598                                   | 13                  | 321,258                                          | 52%                                          | 37%                             | Additional local taxes arisingin the period.                                                                 |\\n| 15 | Luxembourg                    | (37,919)        | 11,105                                      | 1,586                                      | 25%                                        | Accounting andtaxlosses made in the period. |                                   |                       |                                              |                     |                                                  |                                              |                                 |                                                                                                              |\\n| 16 | Macau                         | 1,647,851       | 1,647,851                                   | (330,215)                                  | 12,448                                     | 3,103,801                                   | 1,682,814                         | 12%                   | Accounting and taxlosses made in the period. |                     |                                                  |                                              |                                 |                                                                                                              |\\n| 17 | Mexico                        | 124,596         | 3,127,098                                   | 30%                                        | No activitiestook place during the period. |                                             |                                   |                       |                                              |                     |                                                  |                                              |                                 |                                                                                                              |\\n| 18 | Mozambique                    | 32%             | No activities took place during the period: |                                            |                                            |                                             |                                   |                       |                                              |                     |                                                  |                                              |                                 |                                                                                                              |\\n| 19 | Namibia                       | 234,917,847     | 950,507,591                                 | 1,185,425,438                              | 62,216,424                                 | (32,235,286)                                | (32,722,908)                      | 115,882,757           | (194,826,345)                                | 1,337               | 388,772,162                                      | 53%                                          | 32%                             | caltax law requires the taxation of certain types of income at rates other thantheheadline statutorv rate_   |\\nAnswer: 106,038,487\\n\\nQuestion: How many FTE are there in Ireland?\\n\\nTable:\\n|    | Currency USD                  | Revenues        | Profit/(Loss)                               | Income Tax                                 | Income Tax                                 | Tangible Assets other than Cash and Cash    | CBCR Effective                    | Statutory Corporate   | Explanation of significant                   |                '"
            ]
          },
          "execution_count": 51,
          "metadata": {},
          "output_type": "execute_result"
        }
      ],
      "source": [
        "import country_by_country\n",
        "from country_by_country.rag_engine.llm import get_llm\n",
        "from langchain.chains import LLMChain\n",
        "from langchain.prompts import PromptTemplate\n",
        "\n",
        "template = \"\"\"Question: {question}\"\"\"\n",
        "prompt = PromptTemplate(template=template, input_variables=[\"question\"])\n",
        "llm = get_llm()\n",
        "\n",
        "chain = LLMChain(llm=llm, prompt=prompt, verbose=True)\n",
        "result = chain.run(\n",
        "    \"Here is a table containing information. How many FTE are there in Ireland? Table:\\n\" + md_table.to_markdown() + \"\\nAnswer: \"\n",
        ")\n",
        "result"
      ]
    },
    {
      "cell_type": "code",
      "execution_count": 52,
      "metadata": {},
      "outputs": [
        {
          "data": {
            "text/plain": [
              "'Answer: 106,038,487\\n\\nQuestion: How many FTE are there in Ireland?\\n\\nTable:\\n|    | Currency USD                  | Revenues        | Profit/(Loss)                               | Income Tax                                 | Income Tax                                 | Tangible Assets other than Cash and Cash    | CBCR Effective                    | Statutory Corporate   | Explanation of significant                   |                '"
            ]
          },
          "execution_count": 52,
          "metadata": {},
          "output_type": "execute_result"
        }
      ],
      "source": [
        "start = result.index(\"Answer\")\n",
        "result[start:]"
      ]
    },
    {
      "cell_type": "code",
      "execution_count": 50,
      "metadata": {},
      "outputs": [
        {
          "data": {
            "text/plain": [
              "'Question: Here is a table containing information. How many employees are there in Ireland? Table:\\n|    | Currency USD                  | Revenues        | Profit/(Loss)                               | Income Tax                                 | Income Tax                                 | Tangible Assets other than Cash and Cash    | CBCR Effective                    | Statutory Corporate   | Explanation of significant                   |                     |                                                  |                                              |                                 |                                                                                                              |\\n|---:|:------------------------------|:----------------|:--------------------------------------------|:-------------------------------------------|:-------------------------------------------|:--------------------------------------------|:----------------------------------|:----------------------|:---------------------------------------------|:--------------------|:-------------------------------------------------|:---------------------------------------------|:--------------------------------|:-------------------------------------------------------------------------------------------------------------|\\n|  1 | currency USD Tax Jurisdiction | Unrelated Party | Related Party                               | Total                                      | Profit/(Loss) before Income Tax            | Income Tax Paid (on Cash Basis)             | Income Tax Accrued (Current Year) | Stated Capital(3)     | Accumulated Earnings                         | Number of Employees | oiner tnan Cash and Cash Equivalents (Mandatory) | CBCR Effective Tax Rate(4) %                 | Statutory Corporate Tax Rate(5) | Expianation of significant differences inthe rates(                                                          |\\n|  2 | Democratic repub Of Conao     | ic              | 30%                                         | No activities took place during theperiod. |                                            |                                             |                                   |                       |                                              |                     |                                                  |                                              |                                 |                                                                                                              |\\n|  3 | Ecuador                       | (2,254,359)     | (283,163)                                   | 8,320,183                                  | 24,762,776                                 | 18                                          | 519,738                           | 25%                   | Accounting andtaxlosses made inthe period.   |                     |                                                  |                                              |                                 |                                                                                                              |\\n|  4 | Finland                       | 21              | 21                                          | (23,485,099)                               | 82,053,132                                 | 89,647,313                                  | 2,569,678                         | 20%                   | Accounting andtaxlosses made in the period.  |                     |                                                  |                                              |                                 |                                                                                                              |\\n|  5 | France                        | 5,373,441       | 3,585,702                                   | 8,959,143                                  | (3,523,206)                                | 11,604                                      | 11,604                            | (5,119,026)           | 25                                           | 10,014,430          | 27%                                              | Accounting andtaxlosses made in the period.  |                                 |                                                                                                              |\\n|  6 | Germany                       | 97,074,774      | 6,269,556                                   | 103,344,330                                | 12,904,217                                 | (2,707,446)                                 | (4,029,507)                       | 30,315,789            | (28,448,674)                                 | 338                 | 40,042,428                                       | 31 %                                         | 290                             | xpenditure permanently treated on-deductible for taxpurposes:                                                |\\n|  7 | Hong Kong                     | 22,243,942      | 1,994,957                                   | 24,238,900                                 | 1,899,413                                  | 60,085                                      | (39,417)                          | 13,069,385            | 1,179,404                                    | 36                  | 39,507,573                                       | 2%                                           | 17%                             | on taxable impairment reversal:                                                                              |\\n|  8 | India                         | 18,907,564      | 11,787,077                                  | 30,694,641                                 | 3,789,597                                  | (1,421,053)                                 | (949,621)                         | 12,589,596            | (3,618,619)                                  | 119                 | 7,247,487                                        | 25%                                          | 25%                             |                                                                                                              |\\n|  9 | Indonesia                     | 4,400,000       | 220                                         | 22%                                        | No activitiestook place during the period: |                                             |                                   |                       |                                              |                     |                                                  |                                              |                                 |                                                                                                              |\\n| 10 | Ireland                       | 106,038,487     | 125,885,497                                 | 231,923,984                                | 17,159,580                                 | (4,043,281)                                 | (2,293,515)                       | 30,504,929            | (90,020,071)                                 | 471                 | 71,975,963                                       | 13%                                          | 13%                             | xpenditure permanently treated on-deductible fortaxpurposes.                                                 |\\n| 11 | Isle of Man                   | (2,985,004)     | 160,440                                     | 78,075,164                                 |                                            |                                             |                                   |                       |                                              |                     |                                                  |                                              |                                 |                                                                                                              |\\n| 12 | Israel                        | 4,079           | 757,488                                     | 761,567                                    | 71,439                                     | (10,586)                                    | (23,488)                          | 4,010,000             | 2,504,015                                    | 3                   | 111,481                                          | 33%                                          | 23                              | Expenditure not treated as eductible for taxpurposesin the same period asitis accrued for Ccountina nurnoses |\\n| 13 | Italy                         | 1,814,324       | 1,814,324                                   | 115,713                                    | (51,315)                                   | (28,571)                                    | 28,329                            | (544,996)             | 254,857                                      | 25%                 | 24%                                              | Additional localtaxes arising in the period. |                                 |                                                                                                              |\\n| 14 | Japan                         | 24,443,074      | 7,688,028                                   | 32,131,103                                 | 777,615                                    | (208,049)                                   | (403,963)                         | 4,871,002             | 12,287,598                                   | 13                  | 321,258                                          | 52%                                          | 37%                             | Additional local taxes arisingin the period.                                                                 |\\n| 15 | Luxembourg                    | (37,919)        | 11,105                                      | 1,586                                      | 25%                                        | Accounting andtaxlosses made in the period. |                                   |                       |                                              |                     |                                                  |                                              |                                 |                                                                                                              |\\n| 16 | Macau                         | 1,647,851       | 1,647,851                                   | (330,215)                                  | 12,448                                     | 3,103,801                                   | 1,682,814                         | 12%                   | Accounting and taxlosses made in the period. |                     |                                                  |                                              |                                 |                                                                                                              |\\n| 17 | Mexico                        | 124,596         | 3,127,098                                   | 30%                                        | No activitiestook place during the period. |                                             |                                   |                       |                                              |                     |                                                  |                                              |                                 |                                                                                                              |\\n| 18 | Mozambique                    | 32%             | No activities took place during the period: |                                            |                                            |                                             |                                   |                       |                                              |                     |                                                  |                                              |                                 |                                                                                                              |\\n| 19 | Namibia                       | 234,917,847     | 950,507,591                                 | 1,185,425,438                              | 62,216,424                                 | (32,235,286)                                | (32,722,908)                      | 115,882,757           | (194,826,345)                                | 1,337               | 388,772,162                                      | 53%                                          | 32%                             | caltax law requires the taxation of certain types of income at rates other thantheheadline statutorv rate_   |\\nAnswer: 471 employees.'"
            ]
          },
          "execution_count": 50,
          "metadata": {},
          "output_type": "execute_result"
        }
      ],
      "source": [
        "result"
      ]
    },
    {
      "cell_type": "markdown",
      "metadata": {},
      "source": [
        "## Loop on all table images"
      ]
    },
    {
      "cell_type": "code",
      "execution_count": 56,
      "metadata": {},
      "outputs": [
        {
          "name": "stderr",
          "output_type": "stream",
          "text": [
            "100%|██████████| 2/2 [00:03<00:00,  1.63s/it]\n"
          ]
        },
        {
          "name": "stdout",
          "output_type": "stream",
          "text": [
            "Max number of columns: 2\n"
          ]
        },
        {
          "name": "stderr",
          "output_type": "stream",
          "text": [
            "100%|██████████| 6/6 [00:09<00:00,  1.54s/it]\n"
          ]
        },
        {
          "name": "stdout",
          "output_type": "stream",
          "text": [
            "Max number of columns: 22\n"
          ]
        },
        {
          "name": "stderr",
          "output_type": "stream",
          "text": [
            "100%|██████████| 13/13 [00:39<00:00,  3.02s/it]\n"
          ]
        },
        {
          "name": "stdout",
          "output_type": "stream",
          "text": [
            "Max number of columns: 15\n"
          ]
        },
        {
          "name": "stderr",
          "output_type": "stream",
          "text": [
            "100%|██████████| 28/28 [00:52<00:00,  1.86s/it]\n"
          ]
        },
        {
          "name": "stdout",
          "output_type": "stream",
          "text": [
            "Max number of columns: 24\n"
          ]
        },
        {
          "name": "stderr",
          "output_type": "stream",
          "text": [
            "100%|██████████| 23/23 [00:49<00:00,  2.16s/it]\n"
          ]
        },
        {
          "name": "stdout",
          "output_type": "stream",
          "text": [
            "Max number of columns: 24\n"
          ]
        },
        {
          "name": "stderr",
          "output_type": "stream",
          "text": [
            "100%|██████████| 26/26 [00:45<00:00,  1.74s/it]\n"
          ]
        },
        {
          "name": "stdout",
          "output_type": "stream",
          "text": [
            "Max number of columns: 7\n"
          ]
        },
        {
          "name": "stderr",
          "output_type": "stream",
          "text": [
            "100%|██████████| 22/22 [00:57<00:00,  2.63s/it]\n"
          ]
        },
        {
          "name": "stdout",
          "output_type": "stream",
          "text": [
            "Max number of columns: 16\n"
          ]
        },
        {
          "name": "stderr",
          "output_type": "stream",
          "text": [
            "100%|██████████| 6/6 [00:20<00:00,  3.42s/it]\n"
          ]
        },
        {
          "name": "stdout",
          "output_type": "stream",
          "text": [
            "Max number of columns: 15\n"
          ]
        },
        {
          "name": "stderr",
          "output_type": "stream",
          "text": [
            "100%|██████████| 25/25 [00:46<00:00,  1.88s/it]\n"
          ]
        },
        {
          "name": "stdout",
          "output_type": "stream",
          "text": [
            "Max number of columns: 5\n"
          ]
        },
        {
          "name": "stderr",
          "output_type": "stream",
          "text": [
            "100%|██████████| 16/16 [00:56<00:00,  3.52s/it]\n"
          ]
        },
        {
          "name": "stdout",
          "output_type": "stream",
          "text": [
            "Max number of columns: 15\n"
          ]
        },
        {
          "name": "stderr",
          "output_type": "stream",
          "text": [
            "100%|██████████| 25/25 [01:04<00:00,  2.58s/it]\n"
          ]
        },
        {
          "name": "stdout",
          "output_type": "stream",
          "text": [
            "Max number of columns: 22\n"
          ]
        },
        {
          "name": "stderr",
          "output_type": "stream",
          "text": [
            "100%|██████████| 26/26 [00:42<00:00,  1.64s/it]\n"
          ]
        },
        {
          "name": "stdout",
          "output_type": "stream",
          "text": [
            "Max number of columns: 7\n"
          ]
        },
        {
          "name": "stderr",
          "output_type": "stream",
          "text": [
            "100%|██████████| 28/28 [00:52<00:00,  1.88s/it]\n"
          ]
        },
        {
          "name": "stdout",
          "output_type": "stream",
          "text": [
            "Max number of columns: 14\n"
          ]
        },
        {
          "name": "stderr",
          "output_type": "stream",
          "text": [
            "100%|██████████| 3/3 [00:29<00:00,  9.98s/it]\n"
          ]
        },
        {
          "name": "stdout",
          "output_type": "stream",
          "text": [
            "Max number of columns: 3\n"
          ]
        },
        {
          "name": "stderr",
          "output_type": "stream",
          "text": [
            "100%|██████████| 19/19 [00:37<00:00,  1.98s/it]\n"
          ]
        },
        {
          "name": "stdout",
          "output_type": "stream",
          "text": [
            "Max number of columns: 9\n"
          ]
        },
        {
          "name": "stderr",
          "output_type": "stream",
          "text": [
            "100%|██████████| 2/2 [00:04<00:00,  2.43s/it]\n"
          ]
        },
        {
          "name": "stdout",
          "output_type": "stream",
          "text": [
            "Max number of columns: 2\n"
          ]
        },
        {
          "name": "stderr",
          "output_type": "stream",
          "text": [
            "100%|██████████| 4/4 [00:03<00:00,  1.28it/s]\n"
          ]
        },
        {
          "name": "stdout",
          "output_type": "stream",
          "text": [
            "Max number of columns: 0\n"
          ]
        },
        {
          "name": "stderr",
          "output_type": "stream",
          "text": [
            "100%|██████████| 27/27 [01:03<00:00,  2.35s/it]\n"
          ]
        },
        {
          "name": "stdout",
          "output_type": "stream",
          "text": [
            "Max number of columns: 22\n"
          ]
        },
        {
          "name": "stderr",
          "output_type": "stream",
          "text": [
            "100%|██████████| 29/29 [00:57<00:00,  1.99s/it]\n"
          ]
        },
        {
          "name": "stdout",
          "output_type": "stream",
          "text": [
            "Max number of columns: 17\n"
          ]
        },
        {
          "name": "stderr",
          "output_type": "stream",
          "text": [
            "100%|██████████| 19/19 [00:41<00:00,  2.21s/it]\n"
          ]
        },
        {
          "name": "stdout",
          "output_type": "stream",
          "text": [
            "Max number of columns: 11\n"
          ]
        },
        {
          "name": "stderr",
          "output_type": "stream",
          "text": [
            "100%|██████████| 25/25 [00:56<00:00,  2.26s/it]\n"
          ]
        },
        {
          "name": "stdout",
          "output_type": "stream",
          "text": [
            "Max number of columns: 16\n"
          ]
        },
        {
          "name": "stderr",
          "output_type": "stream",
          "text": [
            "100%|██████████| 23/23 [00:39<00:00,  1.70s/it]\n"
          ]
        },
        {
          "name": "stdout",
          "output_type": "stream",
          "text": [
            "Max number of columns: 7\n"
          ]
        },
        {
          "name": "stderr",
          "output_type": "stream",
          "text": [
            "100%|██████████| 18/18 [00:38<00:00,  2.13s/it]\n"
          ]
        },
        {
          "name": "stdout",
          "output_type": "stream",
          "text": [
            "Max number of columns: 8\n"
          ]
        },
        {
          "name": "stderr",
          "output_type": "stream",
          "text": [
            "100%|██████████| 7/7 [00:05<00:00,  1.17it/s]\n"
          ]
        },
        {
          "name": "stdout",
          "output_type": "stream",
          "text": [
            "Max number of columns: 2\n"
          ]
        },
        {
          "name": "stderr",
          "output_type": "stream",
          "text": [
            "100%|██████████| 26/26 [01:00<00:00,  2.31s/it]\n"
          ]
        },
        {
          "name": "stdout",
          "output_type": "stream",
          "text": [
            "Max number of columns: 23\n"
          ]
        },
        {
          "name": "stderr",
          "output_type": "stream",
          "text": [
            "100%|██████████| 20/20 [00:51<00:00,  2.58s/it]"
          ]
        },
        {
          "name": "stdout",
          "output_type": "stream",
          "text": [
            "Max number of columns: 14\n"
          ]
        },
        {
          "name": "stderr",
          "output_type": "stream",
          "text": [
            "\n"
          ]
        }
      ],
      "source": [
        "md_tables = pd.DataFrame(columns=['page_num', 'md_table'])\n",
        "for table_img_path in os.listdir(table_img_folder):\n",
        "    md_table = extract_md_table(os.path.join(table_img_folder, table_img_path))\n",
        "    start = 'page_'\n",
        "    end = '_table'\n",
        "    page_num = table_img_path.split(start)[1].split(end)[0]\n",
        "    new_row = pd.DataFrame({'page_num': [page_num],\n",
        "                            'md_table': [md_table]})\n",
        "    md_tables = pd.concat([md_tables, new_row], ignore_index=True)\n",
        "md_tables.to_excel(os.path.join(table_img_folder, \"md_tables.xlsx\"), index=False)"
      ]
    },
    {
      "cell_type": "code",
      "execution_count": null,
      "metadata": {},
      "outputs": [],
      "source": []
    }
  ],
  "metadata": {
    "accelerator": "GPU",
    "colab": {
      "authorship_tag": "ABX9TyM6Xl/nInS570smguavhGen",
      "gpuType": "T4",
      "include_colab_link": true,
      "provenance": []
    },
    "kernelspec": {
      "display_name": "Python 3",
      "name": "python3"
    },
    "language_info": {
      "codemirror_mode": {
        "name": "ipython",
        "version": 3
      },
      "file_extension": ".py",
      "mimetype": "text/x-python",
      "name": "python",
      "nbconvert_exporter": "python",
      "pygments_lexer": "ipython3",
      "version": "3.10.13"
    },
    "widgets": {
      "application/vnd.jupyter.widget-state+json": {
        "040920d8a2a74dad875f7b200cd78ea0": {
          "model_module": "@jupyter-widgets/base",
          "model_module_version": "1.2.0",
          "model_name": "LayoutModel",
          "state": {
            "_model_module": "@jupyter-widgets/base",
            "_model_module_version": "1.2.0",
            "_model_name": "LayoutModel",
            "_view_count": null,
            "_view_module": "@jupyter-widgets/base",
            "_view_module_version": "1.2.0",
            "_view_name": "LayoutView",
            "align_content": null,
            "align_items": null,
            "align_self": null,
            "border": null,
            "bottom": null,
            "display": null,
            "flex": null,
            "flex_flow": null,
            "grid_area": null,
            "grid_auto_columns": null,
            "grid_auto_flow": null,
            "grid_auto_rows": null,
            "grid_column": null,
            "grid_gap": null,
            "grid_row": null,
            "grid_template_areas": null,
            "grid_template_columns": null,
            "grid_template_rows": null,
            "height": null,
            "justify_content": null,
            "justify_items": null,
            "left": null,
            "margin": null,
            "max_height": null,
            "max_width": null,
            "min_height": null,
            "min_width": null,
            "object_fit": null,
            "object_position": null,
            "order": null,
            "overflow": null,
            "overflow_x": null,
            "overflow_y": null,
            "padding": null,
            "right": null,
            "top": null,
            "visibility": null,
            "width": null
          }
        },
        "3a6a09bae8dc42b190730edfc70b0404": {
          "model_module": "@jupyter-widgets/controls",
          "model_module_version": "1.5.0",
          "model_name": "HTMLModel",
          "state": {
            "_dom_classes": [],
            "_model_module": "@jupyter-widgets/controls",
            "_model_module_version": "1.5.0",
            "_model_name": "HTMLModel",
            "_view_count": null,
            "_view_module": "@jupyter-widgets/controls",
            "_view_module_version": "1.5.0",
            "_view_name": "HTMLView",
            "description": "",
            "description_tooltip": null,
            "layout": "IPY_MODEL_88e3e29bf24e48f2a9a70458577f9ede",
            "placeholder": "​",
            "style": "IPY_MODEL_cc6b658f81694bd89ee11f3d5e63eadd",
            "value": "100%"
          }
        },
        "86f33f6a3f3644d89b644bd7c411ec5e": {
          "model_module": "@jupyter-widgets/controls",
          "model_module_version": "1.5.0",
          "model_name": "FloatProgressModel",
          "state": {
            "_dom_classes": [],
            "_model_module": "@jupyter-widgets/controls",
            "_model_module_version": "1.5.0",
            "_model_name": "FloatProgressModel",
            "_view_count": null,
            "_view_module": "@jupyter-widgets/controls",
            "_view_module_version": "1.5.0",
            "_view_name": "ProgressView",
            "bar_style": "success",
            "description": "",
            "description_tooltip": null,
            "layout": "IPY_MODEL_ed7925f4cbeb4b5fb0d1f5c12678981d",
            "max": 9,
            "min": 0,
            "orientation": "horizontal",
            "style": "IPY_MODEL_9db6690c2cee4276abe5d3b19890af1e",
            "value": 9
          }
        },
        "88e3e29bf24e48f2a9a70458577f9ede": {
          "model_module": "@jupyter-widgets/base",
          "model_module_version": "1.2.0",
          "model_name": "LayoutModel",
          "state": {
            "_model_module": "@jupyter-widgets/base",
            "_model_module_version": "1.2.0",
            "_model_name": "LayoutModel",
            "_view_count": null,
            "_view_module": "@jupyter-widgets/base",
            "_view_module_version": "1.2.0",
            "_view_name": "LayoutView",
            "align_content": null,
            "align_items": null,
            "align_self": null,
            "border": null,
            "bottom": null,
            "display": null,
            "flex": null,
            "flex_flow": null,
            "grid_area": null,
            "grid_auto_columns": null,
            "grid_auto_flow": null,
            "grid_auto_rows": null,
            "grid_column": null,
            "grid_gap": null,
            "grid_row": null,
            "grid_template_areas": null,
            "grid_template_columns": null,
            "grid_template_rows": null,
            "height": null,
            "justify_content": null,
            "justify_items": null,
            "left": null,
            "margin": null,
            "max_height": null,
            "max_width": null,
            "min_height": null,
            "min_width": null,
            "object_fit": null,
            "object_position": null,
            "order": null,
            "overflow": null,
            "overflow_x": null,
            "overflow_y": null,
            "padding": null,
            "right": null,
            "top": null,
            "visibility": null,
            "width": null
          }
        },
        "8af7fcc8ddf549a9a7c9cd199706e552": {
          "model_module": "@jupyter-widgets/controls",
          "model_module_version": "1.5.0",
          "model_name": "HTMLModel",
          "state": {
            "_dom_classes": [],
            "_model_module": "@jupyter-widgets/controls",
            "_model_module_version": "1.5.0",
            "_model_name": "HTMLModel",
            "_view_count": null,
            "_view_module": "@jupyter-widgets/controls",
            "_view_module_version": "1.5.0",
            "_view_name": "HTMLView",
            "description": "",
            "description_tooltip": null,
            "layout": "IPY_MODEL_040920d8a2a74dad875f7b200cd78ea0",
            "placeholder": "​",
            "style": "IPY_MODEL_d3caaf048c994ab2bc5173f230191fd1",
            "value": " 9/9 [00:01&lt;00:00,  7.16it/s]"
          }
        },
        "9db6690c2cee4276abe5d3b19890af1e": {
          "model_module": "@jupyter-widgets/controls",
          "model_module_version": "1.5.0",
          "model_name": "ProgressStyleModel",
          "state": {
            "_model_module": "@jupyter-widgets/controls",
            "_model_module_version": "1.5.0",
            "_model_name": "ProgressStyleModel",
            "_view_count": null,
            "_view_module": "@jupyter-widgets/base",
            "_view_module_version": "1.2.0",
            "_view_name": "StyleView",
            "bar_color": null,
            "description_width": ""
          }
        },
        "cc6b658f81694bd89ee11f3d5e63eadd": {
          "model_module": "@jupyter-widgets/controls",
          "model_module_version": "1.5.0",
          "model_name": "DescriptionStyleModel",
          "state": {
            "_model_module": "@jupyter-widgets/controls",
            "_model_module_version": "1.5.0",
            "_model_name": "DescriptionStyleModel",
            "_view_count": null,
            "_view_module": "@jupyter-widgets/base",
            "_view_module_version": "1.2.0",
            "_view_name": "StyleView",
            "description_width": ""
          }
        },
        "ce8110f64f794a3eb9a7e9c24fdde2b9": {
          "model_module": "@jupyter-widgets/base",
          "model_module_version": "1.2.0",
          "model_name": "LayoutModel",
          "state": {
            "_model_module": "@jupyter-widgets/base",
            "_model_module_version": "1.2.0",
            "_model_name": "LayoutModel",
            "_view_count": null,
            "_view_module": "@jupyter-widgets/base",
            "_view_module_version": "1.2.0",
            "_view_name": "LayoutView",
            "align_content": null,
            "align_items": null,
            "align_self": null,
            "border": null,
            "bottom": null,
            "display": null,
            "flex": null,
            "flex_flow": null,
            "grid_area": null,
            "grid_auto_columns": null,
            "grid_auto_flow": null,
            "grid_auto_rows": null,
            "grid_column": null,
            "grid_gap": null,
            "grid_row": null,
            "grid_template_areas": null,
            "grid_template_columns": null,
            "grid_template_rows": null,
            "height": null,
            "justify_content": null,
            "justify_items": null,
            "left": null,
            "margin": null,
            "max_height": null,
            "max_width": null,
            "min_height": null,
            "min_width": null,
            "object_fit": null,
            "object_position": null,
            "order": null,
            "overflow": null,
            "overflow_x": null,
            "overflow_y": null,
            "padding": null,
            "right": null,
            "top": null,
            "visibility": null,
            "width": null
          }
        },
        "d3caaf048c994ab2bc5173f230191fd1": {
          "model_module": "@jupyter-widgets/controls",
          "model_module_version": "1.5.0",
          "model_name": "DescriptionStyleModel",
          "state": {
            "_model_module": "@jupyter-widgets/controls",
            "_model_module_version": "1.5.0",
            "_model_name": "DescriptionStyleModel",
            "_view_count": null,
            "_view_module": "@jupyter-widgets/base",
            "_view_module_version": "1.2.0",
            "_view_name": "StyleView",
            "description_width": ""
          }
        },
        "ed7925f4cbeb4b5fb0d1f5c12678981d": {
          "model_module": "@jupyter-widgets/base",
          "model_module_version": "1.2.0",
          "model_name": "LayoutModel",
          "state": {
            "_model_module": "@jupyter-widgets/base",
            "_model_module_version": "1.2.0",
            "_model_name": "LayoutModel",
            "_view_count": null,
            "_view_module": "@jupyter-widgets/base",
            "_view_module_version": "1.2.0",
            "_view_name": "LayoutView",
            "align_content": null,
            "align_items": null,
            "align_self": null,
            "border": null,
            "bottom": null,
            "display": null,
            "flex": null,
            "flex_flow": null,
            "grid_area": null,
            "grid_auto_columns": null,
            "grid_auto_flow": null,
            "grid_auto_rows": null,
            "grid_column": null,
            "grid_gap": null,
            "grid_row": null,
            "grid_template_areas": null,
            "grid_template_columns": null,
            "grid_template_rows": null,
            "height": null,
            "justify_content": null,
            "justify_items": null,
            "left": null,
            "margin": null,
            "max_height": null,
            "max_width": null,
            "min_height": null,
            "min_width": null,
            "object_fit": null,
            "object_position": null,
            "order": null,
            "overflow": null,
            "overflow_x": null,
            "overflow_y": null,
            "padding": null,
            "right": null,
            "top": null,
            "visibility": null,
            "width": null
          }
        },
        "ff14987716b54188b14a0e1fe21b207e": {
          "model_module": "@jupyter-widgets/controls",
          "model_module_version": "1.5.0",
          "model_name": "HBoxModel",
          "state": {
            "_dom_classes": [],
            "_model_module": "@jupyter-widgets/controls",
            "_model_module_version": "1.5.0",
            "_model_name": "HBoxModel",
            "_view_count": null,
            "_view_module": "@jupyter-widgets/controls",
            "_view_module_version": "1.5.0",
            "_view_name": "HBoxView",
            "box_style": "",
            "children": [
              "IPY_MODEL_3a6a09bae8dc42b190730edfc70b0404",
              "IPY_MODEL_86f33f6a3f3644d89b644bd7c411ec5e",
              "IPY_MODEL_8af7fcc8ddf549a9a7c9cd199706e552"
            ],
            "layout": "IPY_MODEL_ce8110f64f794a3eb9a7e9c24fdde2b9"
          }
        }
      }
    }
  },
  "nbformat": 4,
  "nbformat_minor": 0
}
