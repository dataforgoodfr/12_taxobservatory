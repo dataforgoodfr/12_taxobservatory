{
 "cells": [
  {
   "cell_type": "code",
   "execution_count": 1,
   "metadata": {},
   "outputs": [],
   "source": [
    "import sys\n",
    "sys.path.append('/home/alexis_cunin/12_taxobservatory')"
   ]
  },
  {
   "cell_type": "code",
   "execution_count": 2,
   "metadata": {},
   "outputs": [],
   "source": [
    "import country_by_country\n",
    "from country_by_country.rag_engine.llm import get_llm"
   ]
  },
  {
   "cell_type": "code",
   "execution_count": 5,
   "metadata": {},
   "outputs": [
    {
     "name": "stdout",
     "output_type": "stream",
     "text": [
      "Token has not been saved to git credential helper. Pass `add_to_git_credential=True` if you want to set the git credential as well.\n",
      "Token is valid (permission: write).\n",
      "Your token has been saved to /home/alexis_cunin/.cache/huggingface/token\n",
      "Login successful\n"
     ]
    }
   ],
   "source": [
    "from langchain.prompts.prompt import PromptTemplate\n",
    "from langchain.schema.output_parser import StrOutputParser\n",
    "from tqdm.autonotebook import tqdm as notebook_tqdm\n",
    "\n",
    "template = \"\"\"\n",
    "Question: {question}\n",
    "Answer:\n",
    "\"\"\"\n",
    "prompt = PromptTemplate.from_template(template)\n",
    "\n",
    "model = get_llm()\n",
    "chain = {\"question\": lambda x: x} | prompt | model | StrOutputParser()"
   ]
  },
  {
   "cell_type": "code",
   "execution_count": 6,
   "metadata": {},
   "outputs": [
    {
     "data": {
      "text/plain": [
       "' The BytesIO class implements the binary version of the I/O class.\\n\\nIt has a buffer for the data you want to write to it, but it’s a byte buffer. It’s very useful for reading and writing files in memory.\\n\\nFor example, if you want to read a large file from a file system and then write it back to a file system, you can use BytesIO to buffer the data so that you can read it without loading it all into memory.\\n\\nIn Python, the BytesIO class is very useful for reading and writing files in memory. It is a buffer for the data you want to write to it, but it’s a byte buffer. It’s very useful for reading and writing files in memory.\\n\\nFor example, if you want to read a large file from a file system and then write it back to a file system, you can use BytesIO to buffer the data so that you can read it without loading it all into memory.\\n\\nIt is a buffer for the data you want to write to it, but it’s a byte buffer. It’s very useful for reading and writing files in memory.\\n\\nFor example, if you want to read a large file from a file system and then write it back to a file system, you can use BytesIO to buffer the data so that you can read it without loading it all into memory.\\n\\nThis is a very useful feature of BytesIO that you can use to read and write files in memory.\\n\\nYou can also use BytesIO to read and write files in memory. It is a buffer for the data you want to write to it, but it’s a byte buffer.\\n\\nFor example, if you want to read a large file from a file system and then write it back to a file system, you can use BytesIO to buffer the data so that you can read it without loading it all into memory.\\n\\nThis is a very useful feature of BytesIO that you can use to read and write files in memory.\\n\\nIn Python, the BytesIO class is very useful for reading and writing files in memory. It is a buffer for the data you want to write to it, but it’s a byte buffer. It’s very useful for reading and writing files in memory.\\n\\nFor example, if you want to read a large file from a file system and then write it back to'"
      ]
     },
     "execution_count": 6,
     "metadata": {},
     "output_type": "execute_result"
    }
   ],
   "source": [
    "chain.invoke(\"When to use BytesIO in python? When is it useful?\")"
   ]
  },
  {
   "cell_type": "code",
   "execution_count": null,
   "metadata": {},
   "outputs": [],
   "source": []
  }
 ],
 "metadata": {
  "kernelspec": {
   "display_name": "taxobs",
   "language": "python",
   "name": "python3"
  },
  "language_info": {
   "codemirror_mode": {
    "name": "ipython",
    "version": 3
   },
   "file_extension": ".py",
   "mimetype": "text/x-python",
   "name": "python",
   "nbconvert_exporter": "python",
   "pygments_lexer": "ipython3",
   "version": "3.10.13"
  }
 },
 "nbformat": 4,
 "nbformat_minor": 2
}
